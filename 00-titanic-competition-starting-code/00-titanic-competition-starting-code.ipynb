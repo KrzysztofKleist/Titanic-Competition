{
 "cells": [
  {
   "cell_type": "markdown",
   "id": "a56c0624",
   "metadata": {
    "papermill": {
     "duration": 0.006149,
     "end_time": "2024-09-18T17:36:56.940814",
     "exception": false,
     "start_time": "2024-09-18T17:36:56.934665",
     "status": "completed"
    },
    "tags": []
   },
   "source": [
    "# Titanic Competition"
   ]
  },
  {
   "cell_type": "code",
   "execution_count": 1,
   "id": "d2ce191b",
   "metadata": {
    "execution": {
     "iopub.execute_input": "2024-09-18T17:36:56.954424Z",
     "iopub.status.busy": "2024-09-18T17:36:56.953895Z",
     "iopub.status.idle": "2024-09-18T17:36:59.964615Z",
     "shell.execute_reply": "2024-09-18T17:36:59.962492Z"
    },
    "papermill": {
     "duration": 3.021655,
     "end_time": "2024-09-18T17:36:59.968281",
     "exception": false,
     "start_time": "2024-09-18T17:36:56.946626",
     "status": "completed"
    },
    "tags": []
   },
   "outputs": [],
   "source": [
    "import numpy as np  # linear algebra\n",
    "import pandas as pd  # data processing, CSV file I/O (e.g. pd.read_csv)\n",
    "from sklearn.model_selection import train_test_split\n",
    "from sklearn.metrics import accuracy_score\n",
    "from sklearn.model_selection import cross_val_score\n",
    "\n",
    "from sklearn.compose import ColumnTransformer\n",
    "from sklearn.pipeline import Pipeline\n",
    "from sklearn.impute import SimpleImputer\n",
    "from sklearn.preprocessing import OneHotEncoder\n",
    "\n",
    "import os\n",
    "\n",
    "from utils import get_variable_name, get_num_missing_values, get_categorical_columns"
   ]
  },
  {
   "cell_type": "markdown",
   "id": "22c132ee",
   "metadata": {},
   "source": [
    "## Read and display the data"
   ]
  },
  {
   "cell_type": "code",
   "execution_count": 2,
   "id": "a6e4e5a0",
   "metadata": {
    "execution": {
     "iopub.execute_input": "2024-09-18T17:37:00.013394Z",
     "iopub.status.busy": "2024-09-18T17:37:00.012160Z",
     "iopub.status.idle": "2024-09-18T17:37:00.067485Z",
     "shell.execute_reply": "2024-09-18T17:37:00.066069Z"
    },
    "papermill": {
     "duration": 0.066722,
     "end_time": "2024-09-18T17:37:00.070544",
     "exception": false,
     "start_time": "2024-09-18T17:37:00.003822",
     "status": "completed"
    },
    "tags": []
   },
   "outputs": [],
   "source": [
    "# Read the data\n",
    "train_data = pd.read_csv(\"../input/train.csv\").set_index(\"PassengerId\")\n",
    "test_data = pd.read_csv(\"../input/test.csv\").set_index(\"PassengerId\")"
   ]
  },
  {
   "cell_type": "code",
   "execution_count": 3,
   "id": "7c52deff",
   "metadata": {},
   "outputs": [
    {
     "data": {
      "text/html": [
       "<div>\n",
       "<style scoped>\n",
       "    .dataframe tbody tr th:only-of-type {\n",
       "        vertical-align: middle;\n",
       "    }\n",
       "\n",
       "    .dataframe tbody tr th {\n",
       "        vertical-align: top;\n",
       "    }\n",
       "\n",
       "    .dataframe thead th {\n",
       "        text-align: right;\n",
       "    }\n",
       "</style>\n",
       "<table border=\"1\" class=\"dataframe\">\n",
       "  <thead>\n",
       "    <tr style=\"text-align: right;\">\n",
       "      <th></th>\n",
       "      <th>Survived</th>\n",
       "      <th>Pclass</th>\n",
       "      <th>Name</th>\n",
       "      <th>Sex</th>\n",
       "      <th>Age</th>\n",
       "      <th>SibSp</th>\n",
       "      <th>Parch</th>\n",
       "      <th>Ticket</th>\n",
       "      <th>Fare</th>\n",
       "      <th>Cabin</th>\n",
       "      <th>Embarked</th>\n",
       "    </tr>\n",
       "    <tr>\n",
       "      <th>PassengerId</th>\n",
       "      <th></th>\n",
       "      <th></th>\n",
       "      <th></th>\n",
       "      <th></th>\n",
       "      <th></th>\n",
       "      <th></th>\n",
       "      <th></th>\n",
       "      <th></th>\n",
       "      <th></th>\n",
       "      <th></th>\n",
       "      <th></th>\n",
       "    </tr>\n",
       "  </thead>\n",
       "  <tbody>\n",
       "    <tr>\n",
       "      <th>1</th>\n",
       "      <td>0</td>\n",
       "      <td>3</td>\n",
       "      <td>Braund, Mr. Owen Harris</td>\n",
       "      <td>male</td>\n",
       "      <td>22.0</td>\n",
       "      <td>1</td>\n",
       "      <td>0</td>\n",
       "      <td>A/5 21171</td>\n",
       "      <td>7.2500</td>\n",
       "      <td>NaN</td>\n",
       "      <td>S</td>\n",
       "    </tr>\n",
       "    <tr>\n",
       "      <th>2</th>\n",
       "      <td>1</td>\n",
       "      <td>1</td>\n",
       "      <td>Cumings, Mrs. John Bradley (Florence Briggs Th...</td>\n",
       "      <td>female</td>\n",
       "      <td>38.0</td>\n",
       "      <td>1</td>\n",
       "      <td>0</td>\n",
       "      <td>PC 17599</td>\n",
       "      <td>71.2833</td>\n",
       "      <td>C85</td>\n",
       "      <td>C</td>\n",
       "    </tr>\n",
       "    <tr>\n",
       "      <th>3</th>\n",
       "      <td>1</td>\n",
       "      <td>3</td>\n",
       "      <td>Heikkinen, Miss. Laina</td>\n",
       "      <td>female</td>\n",
       "      <td>26.0</td>\n",
       "      <td>0</td>\n",
       "      <td>0</td>\n",
       "      <td>STON/O2. 3101282</td>\n",
       "      <td>7.9250</td>\n",
       "      <td>NaN</td>\n",
       "      <td>S</td>\n",
       "    </tr>\n",
       "    <tr>\n",
       "      <th>4</th>\n",
       "      <td>1</td>\n",
       "      <td>1</td>\n",
       "      <td>Futrelle, Mrs. Jacques Heath (Lily May Peel)</td>\n",
       "      <td>female</td>\n",
       "      <td>35.0</td>\n",
       "      <td>1</td>\n",
       "      <td>0</td>\n",
       "      <td>113803</td>\n",
       "      <td>53.1000</td>\n",
       "      <td>C123</td>\n",
       "      <td>S</td>\n",
       "    </tr>\n",
       "    <tr>\n",
       "      <th>5</th>\n",
       "      <td>0</td>\n",
       "      <td>3</td>\n",
       "      <td>Allen, Mr. William Henry</td>\n",
       "      <td>male</td>\n",
       "      <td>35.0</td>\n",
       "      <td>0</td>\n",
       "      <td>0</td>\n",
       "      <td>373450</td>\n",
       "      <td>8.0500</td>\n",
       "      <td>NaN</td>\n",
       "      <td>S</td>\n",
       "    </tr>\n",
       "  </tbody>\n",
       "</table>\n",
       "</div>"
      ],
      "text/plain": [
       "             Survived  Pclass  \\\n",
       "PassengerId                     \n",
       "1                   0       3   \n",
       "2                   1       1   \n",
       "3                   1       3   \n",
       "4                   1       1   \n",
       "5                   0       3   \n",
       "\n",
       "                                                          Name     Sex   Age  \\\n",
       "PassengerId                                                                    \n",
       "1                                      Braund, Mr. Owen Harris    male  22.0   \n",
       "2            Cumings, Mrs. John Bradley (Florence Briggs Th...  female  38.0   \n",
       "3                                       Heikkinen, Miss. Laina  female  26.0   \n",
       "4                 Futrelle, Mrs. Jacques Heath (Lily May Peel)  female  35.0   \n",
       "5                                     Allen, Mr. William Henry    male  35.0   \n",
       "\n",
       "             SibSp  Parch            Ticket     Fare Cabin Embarked  \n",
       "PassengerId                                                          \n",
       "1                1      0         A/5 21171   7.2500   NaN        S  \n",
       "2                1      0          PC 17599  71.2833   C85        C  \n",
       "3                0      0  STON/O2. 3101282   7.9250   NaN        S  \n",
       "4                1      0            113803  53.1000  C123        S  \n",
       "5                0      0            373450   8.0500   NaN        S  "
      ]
     },
     "execution_count": 3,
     "metadata": {},
     "output_type": "execute_result"
    }
   ],
   "source": [
    "train_data.head()"
   ]
  },
  {
   "cell_type": "code",
   "execution_count": 4,
   "id": "8509a43e",
   "metadata": {},
   "outputs": [
    {
     "data": {
      "text/html": [
       "<div>\n",
       "<style scoped>\n",
       "    .dataframe tbody tr th:only-of-type {\n",
       "        vertical-align: middle;\n",
       "    }\n",
       "\n",
       "    .dataframe tbody tr th {\n",
       "        vertical-align: top;\n",
       "    }\n",
       "\n",
       "    .dataframe thead th {\n",
       "        text-align: right;\n",
       "    }\n",
       "</style>\n",
       "<table border=\"1\" class=\"dataframe\">\n",
       "  <thead>\n",
       "    <tr style=\"text-align: right;\">\n",
       "      <th></th>\n",
       "      <th>Pclass</th>\n",
       "      <th>Name</th>\n",
       "      <th>Sex</th>\n",
       "      <th>Age</th>\n",
       "      <th>SibSp</th>\n",
       "      <th>Parch</th>\n",
       "      <th>Ticket</th>\n",
       "      <th>Fare</th>\n",
       "      <th>Cabin</th>\n",
       "      <th>Embarked</th>\n",
       "    </tr>\n",
       "    <tr>\n",
       "      <th>PassengerId</th>\n",
       "      <th></th>\n",
       "      <th></th>\n",
       "      <th></th>\n",
       "      <th></th>\n",
       "      <th></th>\n",
       "      <th></th>\n",
       "      <th></th>\n",
       "      <th></th>\n",
       "      <th></th>\n",
       "      <th></th>\n",
       "    </tr>\n",
       "  </thead>\n",
       "  <tbody>\n",
       "    <tr>\n",
       "      <th>892</th>\n",
       "      <td>3</td>\n",
       "      <td>Kelly, Mr. James</td>\n",
       "      <td>male</td>\n",
       "      <td>34.5</td>\n",
       "      <td>0</td>\n",
       "      <td>0</td>\n",
       "      <td>330911</td>\n",
       "      <td>7.8292</td>\n",
       "      <td>NaN</td>\n",
       "      <td>Q</td>\n",
       "    </tr>\n",
       "    <tr>\n",
       "      <th>893</th>\n",
       "      <td>3</td>\n",
       "      <td>Wilkes, Mrs. James (Ellen Needs)</td>\n",
       "      <td>female</td>\n",
       "      <td>47.0</td>\n",
       "      <td>1</td>\n",
       "      <td>0</td>\n",
       "      <td>363272</td>\n",
       "      <td>7.0000</td>\n",
       "      <td>NaN</td>\n",
       "      <td>S</td>\n",
       "    </tr>\n",
       "    <tr>\n",
       "      <th>894</th>\n",
       "      <td>2</td>\n",
       "      <td>Myles, Mr. Thomas Francis</td>\n",
       "      <td>male</td>\n",
       "      <td>62.0</td>\n",
       "      <td>0</td>\n",
       "      <td>0</td>\n",
       "      <td>240276</td>\n",
       "      <td>9.6875</td>\n",
       "      <td>NaN</td>\n",
       "      <td>Q</td>\n",
       "    </tr>\n",
       "    <tr>\n",
       "      <th>895</th>\n",
       "      <td>3</td>\n",
       "      <td>Wirz, Mr. Albert</td>\n",
       "      <td>male</td>\n",
       "      <td>27.0</td>\n",
       "      <td>0</td>\n",
       "      <td>0</td>\n",
       "      <td>315154</td>\n",
       "      <td>8.6625</td>\n",
       "      <td>NaN</td>\n",
       "      <td>S</td>\n",
       "    </tr>\n",
       "    <tr>\n",
       "      <th>896</th>\n",
       "      <td>3</td>\n",
       "      <td>Hirvonen, Mrs. Alexander (Helga E Lindqvist)</td>\n",
       "      <td>female</td>\n",
       "      <td>22.0</td>\n",
       "      <td>1</td>\n",
       "      <td>1</td>\n",
       "      <td>3101298</td>\n",
       "      <td>12.2875</td>\n",
       "      <td>NaN</td>\n",
       "      <td>S</td>\n",
       "    </tr>\n",
       "  </tbody>\n",
       "</table>\n",
       "</div>"
      ],
      "text/plain": [
       "             Pclass                                          Name     Sex  \\\n",
       "PassengerId                                                                 \n",
       "892               3                              Kelly, Mr. James    male   \n",
       "893               3              Wilkes, Mrs. James (Ellen Needs)  female   \n",
       "894               2                     Myles, Mr. Thomas Francis    male   \n",
       "895               3                              Wirz, Mr. Albert    male   \n",
       "896               3  Hirvonen, Mrs. Alexander (Helga E Lindqvist)  female   \n",
       "\n",
       "              Age  SibSp  Parch   Ticket     Fare Cabin Embarked  \n",
       "PassengerId                                                       \n",
       "892          34.5      0      0   330911   7.8292   NaN        Q  \n",
       "893          47.0      1      0   363272   7.0000   NaN        S  \n",
       "894          62.0      0      0   240276   9.6875   NaN        Q  \n",
       "895          27.0      0      0   315154   8.6625   NaN        S  \n",
       "896          22.0      1      1  3101298  12.2875   NaN        S  "
      ]
     },
     "execution_count": 4,
     "metadata": {},
     "output_type": "execute_result"
    }
   ],
   "source": [
    "test_data.head()"
   ]
  },
  {
   "cell_type": "code",
   "execution_count": 5,
   "id": "6dafecdb",
   "metadata": {},
   "outputs": [],
   "source": [
    "X = train_data.copy()\n",
    "X_test = test_data.copy()\n",
    "\n",
    "# Drop rows with empty label value\n",
    "X.dropna(axis=0, subset=['Survived'], inplace=True)\n",
    "y = X.Survived\n",
    "X.drop(['Survived'], axis=1, inplace=True)"
   ]
  },
  {
   "cell_type": "code",
   "execution_count": 6,
   "id": "eb696b20",
   "metadata": {
    "execution": {
     "iopub.execute_input": "2024-09-18T17:37:00.084023Z",
     "iopub.status.busy": "2024-09-18T17:37:00.083511Z",
     "iopub.status.idle": "2024-09-18T17:37:00.092760Z",
     "shell.execute_reply": "2024-09-18T17:37:00.091422Z"
    },
    "papermill": {
     "duration": 0.019394,
     "end_time": "2024-09-18T17:37:00.095634",
     "exception": false,
     "start_time": "2024-09-18T17:37:00.076240",
     "status": "completed"
    },
    "tags": []
   },
   "outputs": [],
   "source": [
    "# What can be definitely dropped?\n",
    "# Name, Ticket\n",
    "X.drop(['Name', 'Ticket'], axis=1, inplace=True)\n",
    "X_test.drop(['Name', 'Ticket'], axis=1, inplace=True)"
   ]
  },
  {
   "cell_type": "code",
   "execution_count": 7,
   "id": "b2339a05",
   "metadata": {
    "execution": {
     "iopub.execute_input": "2024-09-18T17:37:00.110157Z",
     "iopub.status.busy": "2024-09-18T17:37:00.109087Z",
     "iopub.status.idle": "2024-09-18T17:37:00.134942Z",
     "shell.execute_reply": "2024-09-18T17:37:00.133581Z"
    },
    "papermill": {
     "duration": 0.036519,
     "end_time": "2024-09-18T17:37:00.137901",
     "exception": false,
     "start_time": "2024-09-18T17:37:00.101382",
     "status": "completed"
    },
    "tags": []
   },
   "outputs": [
    {
     "data": {
      "text/html": [
       "<div>\n",
       "<style scoped>\n",
       "    .dataframe tbody tr th:only-of-type {\n",
       "        vertical-align: middle;\n",
       "    }\n",
       "\n",
       "    .dataframe tbody tr th {\n",
       "        vertical-align: top;\n",
       "    }\n",
       "\n",
       "    .dataframe thead th {\n",
       "        text-align: right;\n",
       "    }\n",
       "</style>\n",
       "<table border=\"1\" class=\"dataframe\">\n",
       "  <thead>\n",
       "    <tr style=\"text-align: right;\">\n",
       "      <th></th>\n",
       "      <th>Pclass</th>\n",
       "      <th>Sex</th>\n",
       "      <th>Age</th>\n",
       "      <th>SibSp</th>\n",
       "      <th>Parch</th>\n",
       "      <th>Fare</th>\n",
       "      <th>Cabin</th>\n",
       "      <th>Embarked</th>\n",
       "    </tr>\n",
       "    <tr>\n",
       "      <th>PassengerId</th>\n",
       "      <th></th>\n",
       "      <th></th>\n",
       "      <th></th>\n",
       "      <th></th>\n",
       "      <th></th>\n",
       "      <th></th>\n",
       "      <th></th>\n",
       "      <th></th>\n",
       "    </tr>\n",
       "  </thead>\n",
       "  <tbody>\n",
       "    <tr>\n",
       "      <th>1</th>\n",
       "      <td>3</td>\n",
       "      <td>male</td>\n",
       "      <td>22.0</td>\n",
       "      <td>1</td>\n",
       "      <td>0</td>\n",
       "      <td>7.2500</td>\n",
       "      <td>NaN</td>\n",
       "      <td>S</td>\n",
       "    </tr>\n",
       "    <tr>\n",
       "      <th>2</th>\n",
       "      <td>1</td>\n",
       "      <td>female</td>\n",
       "      <td>38.0</td>\n",
       "      <td>1</td>\n",
       "      <td>0</td>\n",
       "      <td>71.2833</td>\n",
       "      <td>C85</td>\n",
       "      <td>C</td>\n",
       "    </tr>\n",
       "    <tr>\n",
       "      <th>3</th>\n",
       "      <td>3</td>\n",
       "      <td>female</td>\n",
       "      <td>26.0</td>\n",
       "      <td>0</td>\n",
       "      <td>0</td>\n",
       "      <td>7.9250</td>\n",
       "      <td>NaN</td>\n",
       "      <td>S</td>\n",
       "    </tr>\n",
       "    <tr>\n",
       "      <th>4</th>\n",
       "      <td>1</td>\n",
       "      <td>female</td>\n",
       "      <td>35.0</td>\n",
       "      <td>1</td>\n",
       "      <td>0</td>\n",
       "      <td>53.1000</td>\n",
       "      <td>C123</td>\n",
       "      <td>S</td>\n",
       "    </tr>\n",
       "    <tr>\n",
       "      <th>5</th>\n",
       "      <td>3</td>\n",
       "      <td>male</td>\n",
       "      <td>35.0</td>\n",
       "      <td>0</td>\n",
       "      <td>0</td>\n",
       "      <td>8.0500</td>\n",
       "      <td>NaN</td>\n",
       "      <td>S</td>\n",
       "    </tr>\n",
       "  </tbody>\n",
       "</table>\n",
       "</div>"
      ],
      "text/plain": [
       "             Pclass     Sex   Age  SibSp  Parch     Fare Cabin Embarked\n",
       "PassengerId                                                            \n",
       "1                 3    male  22.0      1      0   7.2500   NaN        S\n",
       "2                 1  female  38.0      1      0  71.2833   C85        C\n",
       "3                 3  female  26.0      0      0   7.9250   NaN        S\n",
       "4                 1  female  35.0      1      0  53.1000  C123        S\n",
       "5                 3    male  35.0      0      0   8.0500   NaN        S"
      ]
     },
     "execution_count": 7,
     "metadata": {},
     "output_type": "execute_result"
    }
   ],
   "source": [
    "X.head()"
   ]
  },
  {
   "cell_type": "code",
   "execution_count": 8,
   "id": "7812d683",
   "metadata": {
    "execution": {
     "iopub.execute_input": "2024-09-18T17:37:00.152091Z",
     "iopub.status.busy": "2024-09-18T17:37:00.151596Z",
     "iopub.status.idle": "2024-09-18T17:37:00.167287Z",
     "shell.execute_reply": "2024-09-18T17:37:00.165604Z"
    },
    "papermill": {
     "duration": 0.026596,
     "end_time": "2024-09-18T17:37:00.170488",
     "exception": false,
     "start_time": "2024-09-18T17:37:00.143892",
     "status": "completed"
    },
    "tags": []
   },
   "outputs": [
    {
     "name": "stdout",
     "output_type": "stream",
     "text": [
      "Missing values in variable columns:\n",
      "Age         177\n",
      "Cabin       687\n",
      "Embarked      2\n",
      "dtype: int64\n"
     ]
    }
   ],
   "source": [
    "get_num_missing_values(X)"
   ]
  },
  {
   "cell_type": "code",
   "execution_count": 9,
   "id": "a2e2696d",
   "metadata": {},
   "outputs": [
    {
     "name": "stdout",
     "output_type": "stream",
     "text": [
      "variable columns with categorical data:\n",
      "[('Sex', 2), ('Embarked', 3), ('Cabin', 147)]\n"
     ]
    }
   ],
   "source": [
    "get_categorical_columns(X)"
   ]
  },
  {
   "cell_type": "code",
   "execution_count": 10,
   "id": "195a51d6",
   "metadata": {
    "execution": {
     "iopub.execute_input": "2024-09-18T17:37:00.184964Z",
     "iopub.status.busy": "2024-09-18T17:37:00.184453Z",
     "iopub.status.idle": "2024-09-18T17:37:00.195812Z",
     "shell.execute_reply": "2024-09-18T17:37:00.194288Z"
    },
    "papermill": {
     "duration": 0.021911,
     "end_time": "2024-09-18T17:37:00.198588",
     "exception": false,
     "start_time": "2024-09-18T17:37:00.176677",
     "status": "completed"
    },
    "tags": []
   },
   "outputs": [
    {
     "name": "stdout",
     "output_type": "stream",
     "text": [
      "Missing values in variable columns:\n",
      "Age       86\n",
      "Fare       1\n",
      "Cabin    327\n",
      "dtype: int64\n"
     ]
    }
   ],
   "source": [
    "get_num_missing_values(X_test)"
   ]
  },
  {
   "cell_type": "code",
   "execution_count": 11,
   "id": "de6feddc",
   "metadata": {},
   "outputs": [
    {
     "name": "stdout",
     "output_type": "stream",
     "text": [
      "variable columns with categorical data:\n",
      "[('Sex', 2), ('Embarked', 3), ('Cabin', 76)]\n"
     ]
    }
   ],
   "source": [
    "get_categorical_columns(X_test)"
   ]
  },
  {
   "cell_type": "code",
   "execution_count": 12,
   "id": "70839e93",
   "metadata": {
    "execution": {
     "iopub.execute_input": "2024-09-18T17:37:00.213843Z",
     "iopub.status.busy": "2024-09-18T17:37:00.213359Z",
     "iopub.status.idle": "2024-09-18T17:37:00.353602Z",
     "shell.execute_reply": "2024-09-18T17:37:00.351972Z"
    },
    "papermill": {
     "duration": 0.151504,
     "end_time": "2024-09-18T17:37:00.356695",
     "exception": false,
     "start_time": "2024-09-18T17:37:00.205191",
     "status": "completed"
    },
    "tags": []
   },
   "outputs": [],
   "source": [
    "# With so many Cabin entries missing, the Cabin column can also be removed\n",
    "X.drop(['Cabin'], axis=1, inplace=True)\n",
    "X_test.drop(['Cabin'], axis=1, inplace=True)"
   ]
  },
  {
   "cell_type": "code",
   "execution_count": 13,
   "id": "9ddfe5dc",
   "metadata": {
    "execution": {
     "iopub.execute_input": "2024-09-18T17:37:00.372096Z",
     "iopub.status.busy": "2024-09-18T17:37:00.371601Z",
     "iopub.status.idle": "2024-09-18T17:37:00.379594Z",
     "shell.execute_reply": "2024-09-18T17:37:00.378280Z"
    },
    "papermill": {
     "duration": 0.018885,
     "end_time": "2024-09-18T17:37:00.382344",
     "exception": false,
     "start_time": "2024-09-18T17:37:00.363459",
     "status": "completed"
    },
    "tags": []
   },
   "outputs": [],
   "source": [
    "# Select categorical columns\n",
    "categorical_cols = [cname for cname in X.columns if X[cname].dtype == \"object\"]\n",
    "# Select numerical columns\n",
    "numerical_cols = [\n",
    "    cname for cname in X.columns if X[cname].dtype in [\"int64\", \"float64\"]\n",
    "]\n",
    "# Keep selected columns only\n",
    "my_cols = categorical_cols + numerical_cols"
   ]
  },
  {
   "cell_type": "code",
   "execution_count": 14,
   "id": "ee89c39b",
   "metadata": {
    "execution": {
     "iopub.execute_input": "2024-09-18T17:37:00.397251Z",
     "iopub.status.busy": "2024-09-18T17:37:00.396765Z",
     "iopub.status.idle": "2024-09-18T17:37:00.404129Z",
     "shell.execute_reply": "2024-09-18T17:37:00.402687Z"
    },
    "papermill": {
     "duration": 0.018537,
     "end_time": "2024-09-18T17:37:00.406971",
     "exception": false,
     "start_time": "2024-09-18T17:37:00.388434",
     "status": "completed"
    },
    "tags": []
   },
   "outputs": [
    {
     "name": "stdout",
     "output_type": "stream",
     "text": [
      "['Sex', 'Embarked']\n",
      "['Pclass', 'Age', 'SibSp', 'Parch', 'Fare']\n",
      "['Sex', 'Embarked', 'Pclass', 'Age', 'SibSp', 'Parch', 'Fare']\n"
     ]
    }
   ],
   "source": [
    "print(categorical_cols)\n",
    "print(numerical_cols)\n",
    "print(my_cols)"
   ]
  },
  {
   "cell_type": "code",
   "execution_count": 15,
   "id": "cc79d400",
   "metadata": {
    "execution": {
     "iopub.execute_input": "2024-09-18T17:37:00.422662Z",
     "iopub.status.busy": "2024-09-18T17:37:00.422131Z",
     "iopub.status.idle": "2024-09-18T17:37:00.430904Z",
     "shell.execute_reply": "2024-09-18T17:37:00.429046Z"
    },
    "papermill": {
     "duration": 0.020714,
     "end_time": "2024-09-18T17:37:00.434418",
     "exception": false,
     "start_time": "2024-09-18T17:37:00.413704",
     "status": "completed"
    },
    "tags": []
   },
   "outputs": [],
   "source": [
    "# Preprocessing for numerical data\n",
    "numerical_transformer = SimpleImputer(strategy='mean')\n",
    "\n",
    "# Preprocessing for categorical data\n",
    "categorical_transformer = Pipeline(steps=[\n",
    "    ('imputer', SimpleImputer(strategy='most_frequent')),\n",
    "    ('onehot', OneHotEncoder(handle_unknown='ignore'))\n",
    "])\n",
    "\n",
    "# Bundle preprocessing for numerical and categorical data\n",
    "preprocessor = ColumnTransformer(\n",
    "    transformers=[\n",
    "        ('num', numerical_transformer, numerical_cols),\n",
    "        ('cat', categorical_transformer, categorical_cols)\n",
    "    ])"
   ]
  },
  {
   "cell_type": "markdown",
   "id": "4fe4eb52",
   "metadata": {
    "papermill": {
     "duration": 0.005857,
     "end_time": "2024-09-18T17:37:00.447050",
     "exception": false,
     "start_time": "2024-09-18T17:37:00.441193",
     "status": "completed"
    },
    "tags": []
   },
   "source": [
    "My research on ML models among which were:\n",
    "- Decision Tree Classifier\n",
    "- Random Forest Classifier\n",
    "- XGB Classifier\n",
    "- Logistic Regression Classifier\n",
    "- Support Vector Machine\n",
    "- Gradient Boosting Classifier\n",
    "Proved that the best model was GradientBoostingClassifier(criterion='friedman_mse', n_estimators=400, learning_rate=0.06, loss=log_loss) giving the average validation accuracy of 83.6%.\n",
    "I also considered the inclusion of 'Age' column and even though about 25% of the age data was missing the results were better."
   ]
  },
  {
   "cell_type": "code",
   "execution_count": 16,
   "id": "dd12fefe",
   "metadata": {
    "execution": {
     "iopub.execute_input": "2024-09-18T17:37:00.461683Z",
     "iopub.status.busy": "2024-09-18T17:37:00.461123Z",
     "iopub.status.idle": "2024-09-18T17:37:01.277338Z",
     "shell.execute_reply": "2024-09-18T17:37:01.275670Z"
    },
    "papermill": {
     "duration": 0.827643,
     "end_time": "2024-09-18T17:37:01.281027",
     "exception": false,
     "start_time": "2024-09-18T17:37:00.453384",
     "status": "completed"
    },
    "tags": []
   },
   "outputs": [
    {
     "name": "stdout",
     "output_type": "stream",
     "text": [
      "Your submission was successfully saved!\n"
     ]
    }
   ],
   "source": [
    "from sklearn.ensemble import GradientBoostingClassifier\n",
    "\n",
    "# Define a model\n",
    "model = GradientBoostingClassifier(\n",
    "    criterion=\"friedman_mse\",\n",
    "    n_estimators=400,\n",
    "    learning_rate=0.06,\n",
    "    loss=\"log_loss\",\n",
    "    random_state=0,\n",
    ")\n",
    "\n",
    "# Bundle preprocessing and modeling code in a pipeline\n",
    "my_pipeline = Pipeline(steps=[(\"preprocessor\", preprocessor), (\"model\", model)])\n",
    "\n",
    "# Preprocessing of training data, fit model\n",
    "my_pipeline.fit(X, y)\n",
    "\n",
    "# Preprocessing of validation data, get predictions\n",
    "predictions = my_pipeline.predict(X_test)\n",
    "\n",
    "# Saving the predictions\n",
    "output = pd.DataFrame({\"PassengerId\": X_test.index, \"Survived\": predictions})\n",
    "\n",
    "if not os.path.isdir(\"output/\"):\n",
    "    os.mkdir(\"output/\")\n",
    "    \n",
    "output.to_csv(\"output/submission.csv\", index=False)\n",
    "\n",
    "print(\"Your submission was successfully saved!\")"
   ]
  },
  {
   "cell_type": "code",
   "execution_count": null,
   "id": "07e80e9d",
   "metadata": {},
   "outputs": [],
   "source": []
  }
 ],
 "metadata": {
  "kaggle": {
   "accelerator": "none",
   "dataSources": [
    {
     "databundleVersionId": 26502,
     "sourceId": 3136,
     "sourceType": "competition"
    }
   ],
   "dockerImageVersionId": 30646,
   "isGpuEnabled": false,
   "isInternetEnabled": false,
   "language": "python",
   "sourceType": "notebook"
  },
  "kernelspec": {
   "display_name": "titanic-comp-venv",
   "language": "python",
   "name": "python3"
  },
  "language_info": {
   "codemirror_mode": {
    "name": "ipython",
    "version": 3
   },
   "file_extension": ".py",
   "mimetype": "text/x-python",
   "name": "python",
   "nbconvert_exporter": "python",
   "pygments_lexer": "ipython3",
   "version": "3.10.11"
  },
  "papermill": {
   "default_parameters": {},
   "duration": 9.247006,
   "end_time": "2024-09-18T17:37:02.213741",
   "environment_variables": {},
   "exception": null,
   "input_path": "__notebook__.ipynb",
   "output_path": "__notebook__.ipynb",
   "parameters": {},
   "start_time": "2024-09-18T17:36:52.966735",
   "version": "2.5.0"
  }
 },
 "nbformat": 4,
 "nbformat_minor": 5
}
