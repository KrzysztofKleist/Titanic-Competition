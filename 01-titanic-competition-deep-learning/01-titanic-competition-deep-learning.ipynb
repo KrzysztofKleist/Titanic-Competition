{
 "cells": [
  {
   "cell_type": "markdown",
   "id": "0f97cab3",
   "metadata": {
    "papermill": {
     "duration": 0.007752,
     "end_time": "2024-09-18T17:33:47.101537",
     "exception": false,
     "start_time": "2024-09-18T17:33:47.093785",
     "status": "completed"
    },
    "tags": []
   },
   "source": [
    "# Titanic Competition - Deep Learning"
   ]
  },
  {
   "cell_type": "code",
   "execution_count": 1,
   "id": "0abd26e9",
   "metadata": {
    "execution": {
     "iopub.execute_input": "2024-09-18T17:33:47.117246Z",
     "iopub.status.busy": "2024-09-18T17:33:47.116905Z",
     "iopub.status.idle": "2024-09-18T17:33:47.128300Z",
     "shell.execute_reply": "2024-09-18T17:33:47.127392Z"
    },
    "papermill": {
     "duration": 0.021659,
     "end_time": "2024-09-18T17:33:47.130339",
     "exception": false,
     "start_time": "2024-09-18T17:33:47.108680",
     "status": "completed"
    },
    "tags": []
   },
   "outputs": [],
   "source": [
    "# Hyperparameters\n",
    "BATCH_SIZE = 64\n",
    "EPOCHS = 100\n",
    "LR = 0.01\n",
    "MOMENTUM = 0.9\n",
    "DECAY = 0.01"
   ]
  },
  {
   "cell_type": "code",
   "execution_count": 2,
   "id": "a14cd2cf",
   "metadata": {
    "execution": {
     "iopub.execute_input": "2024-09-18T17:33:47.146509Z",
     "iopub.status.busy": "2024-09-18T17:33:47.145858Z",
     "iopub.status.idle": "2024-09-18T17:33:49.145814Z",
     "shell.execute_reply": "2024-09-18T17:33:49.144928Z"
    },
    "papermill": {
     "duration": 2.010269,
     "end_time": "2024-09-18T17:33:49.148069",
     "exception": false,
     "start_time": "2024-09-18T17:33:47.137800",
     "status": "completed"
    },
    "tags": []
   },
   "outputs": [],
   "source": [
    "# Setup plotting\n",
    "import matplotlib.pyplot as plt\n",
    "\n",
    "plt.style.use(\"seaborn-v0_8-whitegrid\")\n",
    "# Set Matplotlib defaults\n",
    "plt.rc(\"figure\", autolayout=True)\n",
    "plt.rc(\n",
    "    \"axes\",\n",
    "    labelweight=\"bold\",\n",
    "    labelsize=\"large\",\n",
    "    titleweight=\"bold\",\n",
    "    titlesize=18,\n",
    "    titlepad=10,\n",
    ")\n",
    "plt.rc(\"animation\", html=\"html5\")\n",
    "\n",
    "import numpy as np  # linear algebra\n",
    "import pandas as pd  # data processing, CSV file I/O (e.g. pd.read_csv)\n",
    "from sklearn.model_selection import train_test_split\n",
    "from sklearn.metrics import accuracy_score\n",
    "from sklearn.model_selection import cross_val_score\n",
    "\n",
    "from sklearn.compose import ColumnTransformer\n",
    "from sklearn.pipeline import Pipeline\n",
    "from sklearn.impute import SimpleImputer\n",
    "from sklearn.preprocessing import OneHotEncoder\n",
    "\n",
    "import os\n",
    "import random\n",
    "\n",
    "\n",
    "from utils import (\n",
    "    get_variable_name,\n",
    "    get_num_missing_values,\n",
    "    get_categorical_columns,\n",
    "    MyModel,\n",
    "    model_init,\n",
    ")"
   ]
  },
  {
   "cell_type": "markdown",
   "id": "d421e770",
   "metadata": {},
   "source": [
    "## Preprocessing"
   ]
  },
  {
   "cell_type": "code",
   "execution_count": 3,
   "id": "c9c213bb",
   "metadata": {
    "execution": {
     "iopub.execute_input": "2024-09-18T17:33:49.191385Z",
     "iopub.status.busy": "2024-09-18T17:33:49.190685Z",
     "iopub.status.idle": "2024-09-18T17:33:49.237352Z",
     "shell.execute_reply": "2024-09-18T17:33:49.236421Z"
    },
    "papermill": {
     "duration": 0.056909,
     "end_time": "2024-09-18T17:33:49.239675",
     "exception": false,
     "start_time": "2024-09-18T17:33:49.182766",
     "status": "completed"
    },
    "tags": []
   },
   "outputs": [],
   "source": [
    "# Read the data\n",
    "train_data = pd.read_csv(\"../input/train.csv\").set_index(\"PassengerId\")\n",
    "test_data = pd.read_csv(\"../input/test.csv\").set_index(\"PassengerId\")\n",
    "\n",
    "X = train_data.copy()\n",
    "X_test = test_data.copy()\n",
    "\n",
    "# Drop rows with empty label value\n",
    "X.dropna(axis=0, subset=[\"Survived\"], inplace=True)\n",
    "y = X.Survived\n",
    "X.drop([\"Survived\"], axis=1, inplace=True)"
   ]
  },
  {
   "cell_type": "code",
   "execution_count": 4,
   "id": "ee8df1c3",
   "metadata": {
    "execution": {
     "iopub.execute_input": "2024-09-18T17:33:49.255372Z",
     "iopub.status.busy": "2024-09-18T17:33:49.255081Z",
     "iopub.status.idle": "2024-09-18T17:33:49.261230Z",
     "shell.execute_reply": "2024-09-18T17:33:49.260462Z"
    },
    "papermill": {
     "duration": 0.016135,
     "end_time": "2024-09-18T17:33:49.263194",
     "exception": false,
     "start_time": "2024-09-18T17:33:49.247059",
     "status": "completed"
    },
    "tags": []
   },
   "outputs": [],
   "source": [
    "# What can be definitely dropped?\n",
    "# Name, Ticket\n",
    "X.drop(['Name', 'Ticket'], axis=1, inplace=True)\n",
    "X_test.drop(['Name', 'Ticket'], axis=1, inplace=True)"
   ]
  },
  {
   "cell_type": "code",
   "execution_count": 5,
   "id": "bd5e5585",
   "metadata": {
    "execution": {
     "iopub.execute_input": "2024-09-18T17:33:49.279078Z",
     "iopub.status.busy": "2024-09-18T17:33:49.278802Z",
     "iopub.status.idle": "2024-09-18T17:33:49.295273Z",
     "shell.execute_reply": "2024-09-18T17:33:49.294420Z"
    },
    "papermill": {
     "duration": 0.026556,
     "end_time": "2024-09-18T17:33:49.297248",
     "exception": false,
     "start_time": "2024-09-18T17:33:49.270692",
     "status": "completed"
    },
    "tags": []
   },
   "outputs": [
    {
     "data": {
      "text/html": [
       "<div>\n",
       "<style scoped>\n",
       "    .dataframe tbody tr th:only-of-type {\n",
       "        vertical-align: middle;\n",
       "    }\n",
       "\n",
       "    .dataframe tbody tr th {\n",
       "        vertical-align: top;\n",
       "    }\n",
       "\n",
       "    .dataframe thead th {\n",
       "        text-align: right;\n",
       "    }\n",
       "</style>\n",
       "<table border=\"1\" class=\"dataframe\">\n",
       "  <thead>\n",
       "    <tr style=\"text-align: right;\">\n",
       "      <th></th>\n",
       "      <th>Pclass</th>\n",
       "      <th>Sex</th>\n",
       "      <th>Age</th>\n",
       "      <th>SibSp</th>\n",
       "      <th>Parch</th>\n",
       "      <th>Fare</th>\n",
       "      <th>Cabin</th>\n",
       "      <th>Embarked</th>\n",
       "    </tr>\n",
       "    <tr>\n",
       "      <th>PassengerId</th>\n",
       "      <th></th>\n",
       "      <th></th>\n",
       "      <th></th>\n",
       "      <th></th>\n",
       "      <th></th>\n",
       "      <th></th>\n",
       "      <th></th>\n",
       "      <th></th>\n",
       "    </tr>\n",
       "  </thead>\n",
       "  <tbody>\n",
       "    <tr>\n",
       "      <th>1</th>\n",
       "      <td>3</td>\n",
       "      <td>male</td>\n",
       "      <td>22.0</td>\n",
       "      <td>1</td>\n",
       "      <td>0</td>\n",
       "      <td>7.2500</td>\n",
       "      <td>NaN</td>\n",
       "      <td>S</td>\n",
       "    </tr>\n",
       "    <tr>\n",
       "      <th>2</th>\n",
       "      <td>1</td>\n",
       "      <td>female</td>\n",
       "      <td>38.0</td>\n",
       "      <td>1</td>\n",
       "      <td>0</td>\n",
       "      <td>71.2833</td>\n",
       "      <td>C85</td>\n",
       "      <td>C</td>\n",
       "    </tr>\n",
       "    <tr>\n",
       "      <th>3</th>\n",
       "      <td>3</td>\n",
       "      <td>female</td>\n",
       "      <td>26.0</td>\n",
       "      <td>0</td>\n",
       "      <td>0</td>\n",
       "      <td>7.9250</td>\n",
       "      <td>NaN</td>\n",
       "      <td>S</td>\n",
       "    </tr>\n",
       "    <tr>\n",
       "      <th>4</th>\n",
       "      <td>1</td>\n",
       "      <td>female</td>\n",
       "      <td>35.0</td>\n",
       "      <td>1</td>\n",
       "      <td>0</td>\n",
       "      <td>53.1000</td>\n",
       "      <td>C123</td>\n",
       "      <td>S</td>\n",
       "    </tr>\n",
       "    <tr>\n",
       "      <th>5</th>\n",
       "      <td>3</td>\n",
       "      <td>male</td>\n",
       "      <td>35.0</td>\n",
       "      <td>0</td>\n",
       "      <td>0</td>\n",
       "      <td>8.0500</td>\n",
       "      <td>NaN</td>\n",
       "      <td>S</td>\n",
       "    </tr>\n",
       "  </tbody>\n",
       "</table>\n",
       "</div>"
      ],
      "text/plain": [
       "             Pclass     Sex   Age  SibSp  Parch     Fare Cabin Embarked\n",
       "PassengerId                                                            \n",
       "1                 3    male  22.0      1      0   7.2500   NaN        S\n",
       "2                 1  female  38.0      1      0  71.2833   C85        C\n",
       "3                 3  female  26.0      0      0   7.9250   NaN        S\n",
       "4                 1  female  35.0      1      0  53.1000  C123        S\n",
       "5                 3    male  35.0      0      0   8.0500   NaN        S"
      ]
     },
     "execution_count": 5,
     "metadata": {},
     "output_type": "execute_result"
    }
   ],
   "source": [
    "X.head()"
   ]
  },
  {
   "cell_type": "code",
   "execution_count": 6,
   "id": "be6b57c7",
   "metadata": {
    "execution": {
     "iopub.execute_input": "2024-09-18T17:33:49.313547Z",
     "iopub.status.busy": "2024-09-18T17:33:49.313250Z",
     "iopub.status.idle": "2024-09-18T17:33:49.323440Z",
     "shell.execute_reply": "2024-09-18T17:33:49.322526Z"
    },
    "papermill": {
     "duration": 0.021026,
     "end_time": "2024-09-18T17:33:49.325778",
     "exception": false,
     "start_time": "2024-09-18T17:33:49.304752",
     "status": "completed"
    },
    "tags": []
   },
   "outputs": [
    {
     "name": "stdout",
     "output_type": "stream",
     "text": [
      "Missing values in variable columns:\n",
      "Age         177\n",
      "Cabin       687\n",
      "Embarked      2\n",
      "dtype: int64\n"
     ]
    }
   ],
   "source": [
    "get_num_missing_values(X)"
   ]
  },
  {
   "cell_type": "code",
   "execution_count": 7,
   "id": "8328c8a9",
   "metadata": {},
   "outputs": [
    {
     "name": "stdout",
     "output_type": "stream",
     "text": [
      "variable columns with categorical data:\n",
      "[('Sex', 2), ('Embarked', 3), ('Cabin', 147)]\n"
     ]
    }
   ],
   "source": [
    "get_categorical_columns(X)"
   ]
  },
  {
   "cell_type": "code",
   "execution_count": 8,
   "id": "857607c8",
   "metadata": {
    "execution": {
     "iopub.execute_input": "2024-09-18T17:33:49.342628Z",
     "iopub.status.busy": "2024-09-18T17:33:49.342333Z",
     "iopub.status.idle": "2024-09-18T17:33:49.349032Z",
     "shell.execute_reply": "2024-09-18T17:33:49.348273Z"
    },
    "papermill": {
     "duration": 0.017003,
     "end_time": "2024-09-18T17:33:49.351105",
     "exception": false,
     "start_time": "2024-09-18T17:33:49.334102",
     "status": "completed"
    },
    "tags": []
   },
   "outputs": [
    {
     "name": "stdout",
     "output_type": "stream",
     "text": [
      "Missing values in variable columns:\n",
      "Age       86\n",
      "Fare       1\n",
      "Cabin    327\n",
      "dtype: int64\n"
     ]
    }
   ],
   "source": [
    "get_num_missing_values(X_test)"
   ]
  },
  {
   "cell_type": "code",
   "execution_count": 9,
   "id": "72e564f6",
   "metadata": {},
   "outputs": [
    {
     "name": "stdout",
     "output_type": "stream",
     "text": [
      "variable columns with categorical data:\n",
      "[('Sex', 2), ('Embarked', 3), ('Cabin', 76)]\n"
     ]
    }
   ],
   "source": [
    "get_categorical_columns(X_test)"
   ]
  },
  {
   "cell_type": "code",
   "execution_count": 10,
   "id": "5aa99502",
   "metadata": {
    "execution": {
     "iopub.execute_input": "2024-09-18T17:33:49.367312Z",
     "iopub.status.busy": "2024-09-18T17:33:49.367052Z",
     "iopub.status.idle": "2024-09-18T17:33:49.372753Z",
     "shell.execute_reply": "2024-09-18T17:33:49.371950Z"
    },
    "papermill": {
     "duration": 0.016134,
     "end_time": "2024-09-18T17:33:49.374657",
     "exception": false,
     "start_time": "2024-09-18T17:33:49.358523",
     "status": "completed"
    },
    "tags": []
   },
   "outputs": [],
   "source": [
    "# With so many Cabin entries missing, the Cabin column can also be removed\n",
    "X.drop(['Cabin'], axis=1, inplace=True)\n",
    "X_test.drop(['Cabin'], axis=1, inplace=True)"
   ]
  },
  {
   "cell_type": "markdown",
   "id": "19ff9b2e",
   "metadata": {
    "papermill": {
     "duration": 0.007229,
     "end_time": "2024-09-18T17:33:49.389290",
     "exception": false,
     "start_time": "2024-09-18T17:33:49.382061",
     "status": "completed"
    },
    "tags": []
   },
   "source": [
    "### Optional dropping Age column"
   ]
  },
  {
   "cell_type": "code",
   "execution_count": 11,
   "id": "b0ebc19f",
   "metadata": {
    "execution": {
     "iopub.execute_input": "2024-09-18T17:33:49.405846Z",
     "iopub.status.busy": "2024-09-18T17:33:49.405150Z",
     "iopub.status.idle": "2024-09-18T17:33:49.410480Z",
     "shell.execute_reply": "2024-09-18T17:33:49.409625Z"
    },
    "papermill": {
     "duration": 0.015646,
     "end_time": "2024-09-18T17:33:49.412344",
     "exception": false,
     "start_time": "2024-09-18T17:33:49.396698",
     "status": "completed"
    },
    "tags": []
   },
   "outputs": [],
   "source": [
    "# Select categorical columns\n",
    "categorical_cols = [cname for cname in X.columns if X[cname].dtype == 'object']\n",
    "# Select numerical columns\n",
    "numerical_cols = [\n",
    "    cname for cname in X.columns if X[cname].dtype in ['int64', 'float64']\n",
    "]\n",
    "# Keep selected columns only\n",
    "my_cols = categorical_cols + numerical_cols"
   ]
  },
  {
   "cell_type": "code",
   "execution_count": 12,
   "id": "8a7c3bfa",
   "metadata": {
    "execution": {
     "iopub.execute_input": "2024-09-18T17:33:49.429254Z",
     "iopub.status.busy": "2024-09-18T17:33:49.428952Z",
     "iopub.status.idle": "2024-09-18T17:33:49.433265Z",
     "shell.execute_reply": "2024-09-18T17:33:49.432452Z"
    },
    "papermill": {
     "duration": 0.015173,
     "end_time": "2024-09-18T17:33:49.435554",
     "exception": false,
     "start_time": "2024-09-18T17:33:49.420381",
     "status": "completed"
    },
    "tags": []
   },
   "outputs": [
    {
     "name": "stdout",
     "output_type": "stream",
     "text": [
      "['Sex', 'Embarked']\n",
      "['Pclass', 'Age', 'SibSp', 'Parch', 'Fare']\n",
      "['Sex', 'Embarked', 'Pclass', 'Age', 'SibSp', 'Parch', 'Fare']\n"
     ]
    }
   ],
   "source": [
    "print(categorical_cols)\n",
    "print(numerical_cols)\n",
    "print(my_cols)"
   ]
  },
  {
   "cell_type": "code",
   "execution_count": 13,
   "id": "591ccd35",
   "metadata": {
    "execution": {
     "iopub.execute_input": "2024-09-18T17:33:49.452131Z",
     "iopub.status.busy": "2024-09-18T17:33:49.451856Z",
     "iopub.status.idle": "2024-09-18T17:33:49.456946Z",
     "shell.execute_reply": "2024-09-18T17:33:49.456130Z"
    },
    "papermill": {
     "duration": 0.015596,
     "end_time": "2024-09-18T17:33:49.458830",
     "exception": false,
     "start_time": "2024-09-18T17:33:49.443234",
     "status": "completed"
    },
    "tags": []
   },
   "outputs": [],
   "source": [
    "# Preprocessing for numerical data\n",
    "numerical_transformer = SimpleImputer(strategy='mean')\n",
    "\n",
    "# Preprocessing for categorical data\n",
    "categorical_transformer = Pipeline(\n",
    "    steps=[\n",
    "        ('imputer', SimpleImputer(strategy='most_frequent')),\n",
    "        ('onehot', OneHotEncoder(handle_unknown='ignore')),\n",
    "    ]\n",
    ")\n",
    "\n",
    "# Bundle preprocessing for numerical and categorical data\n",
    "preprocessor = ColumnTransformer(\n",
    "    transformers=[\n",
    "        ('num', numerical_transformer, numerical_cols),\n",
    "        ('cat', categorical_transformer, categorical_cols),\n",
    "    ]\n",
    ")"
   ]
  },
  {
   "cell_type": "markdown",
   "id": "fc3c0d0e",
   "metadata": {
    "papermill": {
     "duration": 0.007387,
     "end_time": "2024-09-18T17:33:49.473774",
     "exception": false,
     "start_time": "2024-09-18T17:33:49.466387",
     "status": "completed"
    },
    "tags": []
   },
   "source": [
    "### Transform both the training and the test data"
   ]
  },
  {
   "cell_type": "code",
   "execution_count": 14,
   "id": "e5a4a3a6",
   "metadata": {
    "execution": {
     "iopub.execute_input": "2024-09-18T17:33:49.490131Z",
     "iopub.status.busy": "2024-09-18T17:33:49.489621Z",
     "iopub.status.idle": "2024-09-18T17:33:49.511308Z",
     "shell.execute_reply": "2024-09-18T17:33:49.510455Z"
    },
    "papermill": {
     "duration": 0.03207,
     "end_time": "2024-09-18T17:33:49.513290",
     "exception": false,
     "start_time": "2024-09-18T17:33:49.481220",
     "status": "completed"
    },
    "tags": []
   },
   "outputs": [],
   "source": [
    "X = preprocessor.fit_transform(X)\n",
    "X_test = preprocessor.transform(X_test)"
   ]
  },
  {
   "cell_type": "markdown",
   "id": "59a538c9",
   "metadata": {
    "papermill": {
     "duration": 0.007425,
     "end_time": "2024-09-18T17:33:49.528696",
     "exception": false,
     "start_time": "2024-09-18T17:33:49.521271",
     "status": "completed"
    },
    "tags": []
   },
   "source": [
    "## Define the model"
   ]
  },
  {
   "cell_type": "code",
   "execution_count": 15,
   "id": "bb910234",
   "metadata": {
    "execution": {
     "iopub.execute_input": "2024-09-18T17:33:49.545457Z",
     "iopub.status.busy": "2024-09-18T17:33:49.545126Z",
     "iopub.status.idle": "2024-09-18T17:33:49.549233Z",
     "shell.execute_reply": "2024-09-18T17:33:49.548399Z"
    },
    "papermill": {
     "duration": 0.01474,
     "end_time": "2024-09-18T17:33:49.551028",
     "exception": false,
     "start_time": "2024-09-18T17:33:49.536288",
     "status": "completed"
    },
    "tags": []
   },
   "outputs": [],
   "source": [
    "input_shape = [X.shape[1]]"
   ]
  },
  {
   "cell_type": "markdown",
   "id": "f692a7ca",
   "metadata": {
    "papermill": {
     "duration": 0.00769,
     "end_time": "2024-09-18T17:34:02.181440",
     "exception": false,
     "start_time": "2024-09-18T17:34:02.173750",
     "status": "completed"
    },
    "tags": []
   },
   "source": [
    "## Start testing"
   ]
  },
  {
   "cell_type": "code",
   "execution_count": 16,
   "id": "53a20627",
   "metadata": {
    "execution": {
     "iopub.execute_input": "2024-09-18T17:34:02.198756Z",
     "iopub.status.busy": "2024-09-18T17:34:02.198385Z",
     "iopub.status.idle": "2024-09-18T17:34:49.536256Z",
     "shell.execute_reply": "2024-09-18T17:34:49.535303Z"
    },
    "papermill": {
     "duration": 47.348967,
     "end_time": "2024-09-18T17:34:49.538439",
     "exception": false,
     "start_time": "2024-09-18T17:34:02.189472",
     "status": "completed"
    },
    "tags": []
   },
   "outputs": [
    {
     "name": "stdout",
     "output_type": "stream",
     "text": [
      "============================ Run 1/5 ============================\n",
      "Epoch 1/100\n",
      "\u001b[1m12/12\u001b[0m \u001b[32m━━━━━━━━━━━━━━━━━━━━\u001b[0m\u001b[37m\u001b[0m \u001b[1m1s\u001b[0m 18ms/step - binary_accuracy: 0.6211 - loss: 0.7479 - val_binary_accuracy: 0.6704 - val_loss: 0.5960 - learning_rate: 0.0100\n",
      "Epoch 2/100\n",
      "\u001b[1m12/12\u001b[0m \u001b[32m━━━━━━━━━━━━━━━━━━━━\u001b[0m\u001b[37m\u001b[0m \u001b[1m0s\u001b[0m 4ms/step - binary_accuracy: 0.7740 - loss: 0.5819 - val_binary_accuracy: 0.6592 - val_loss: 0.5941 - learning_rate: 0.0100\n",
      "Epoch 3/100\n",
      "\u001b[1m12/12\u001b[0m \u001b[32m━━━━━━━━━━━━━━━━━━━━\u001b[0m\u001b[37m\u001b[0m \u001b[1m0s\u001b[0m 4ms/step - binary_accuracy: 0.8063 - loss: 0.4906 - val_binary_accuracy: 0.6034 - val_loss: 0.6329 - learning_rate: 0.0100\n",
      "Epoch 4/100\n",
      "\u001b[1m12/12\u001b[0m \u001b[32m━━━━━━━━━━━━━━━━━━━━\u001b[0m\u001b[37m\u001b[0m \u001b[1m0s\u001b[0m 4ms/step - binary_accuracy: 0.8193 - loss: 0.4180 - val_binary_accuracy: 0.6145 - val_loss: 0.6358 - learning_rate: 0.0100\n",
      "Epoch 5/100\n",
      "\u001b[1m12/12\u001b[0m \u001b[32m━━━━━━━━━━━━━━━━━━━━\u001b[0m\u001b[37m\u001b[0m \u001b[1m0s\u001b[0m 4ms/step - binary_accuracy: 0.7919 - loss: 0.4494 - val_binary_accuracy: 0.6145 - val_loss: 0.6388 - learning_rate: 0.0100\n",
      "Epoch 6/100\n",
      "\u001b[1m12/12\u001b[0m \u001b[32m━━━━━━━━━━━━━━━━━━━━\u001b[0m\u001b[37m\u001b[0m \u001b[1m0s\u001b[0m 3ms/step - binary_accuracy: 0.8219 - loss: 0.4371 - val_binary_accuracy: 0.6089 - val_loss: 0.6440 - learning_rate: 0.0100\n",
      "Epoch 7/100\n",
      "\u001b[1m12/12\u001b[0m \u001b[32m━━━━━━━━━━━━━━━━━━━━\u001b[0m\u001b[37m\u001b[0m \u001b[1m0s\u001b[0m 4ms/step - binary_accuracy: 0.7934 - loss: 0.4754 - val_binary_accuracy: 0.6089 - val_loss: 0.6405 - learning_rate: 0.0100\n",
      "Epoch 8/100\n",
      "\u001b[1m12/12\u001b[0m \u001b[32m━━━━━━━━━━━━━━━━━━━━\u001b[0m\u001b[37m\u001b[0m \u001b[1m0s\u001b[0m 4ms/step - binary_accuracy: 0.8271 - loss: 0.4407 - val_binary_accuracy: 0.6536 - val_loss: 0.6049 - learning_rate: 0.0100\n",
      "Epoch 9/100\n",
      "\u001b[1m12/12\u001b[0m \u001b[32m━━━━━━━━━━━━━━━━━━━━\u001b[0m\u001b[37m\u001b[0m \u001b[1m0s\u001b[0m 4ms/step - binary_accuracy: 0.8234 - loss: 0.4137 - val_binary_accuracy: 0.6480 - val_loss: 0.6023 - learning_rate: 0.0100\n",
      "Epoch 10/100\n",
      "\u001b[1m12/12\u001b[0m \u001b[32m━━━━━━━━━━━━━━━━━━━━\u001b[0m\u001b[37m\u001b[0m \u001b[1m0s\u001b[0m 5ms/step - binary_accuracy: 0.8150 - loss: 0.4101 - val_binary_accuracy: 0.6536 - val_loss: 0.6017 - learning_rate: 0.0100\n",
      "Epoch 11/100\n",
      "\u001b[1m12/12\u001b[0m \u001b[32m━━━━━━━━━━━━━━━━━━━━\u001b[0m\u001b[37m\u001b[0m \u001b[1m0s\u001b[0m 5ms/step - binary_accuracy: 0.8249 - loss: 0.4229 - val_binary_accuracy: 0.6648 - val_loss: 0.6011 - learning_rate: 0.0100\n",
      "Epoch 12/100\n",
      "\u001b[1m12/12\u001b[0m \u001b[32m━━━━━━━━━━━━━━━━━━━━\u001b[0m\u001b[37m\u001b[0m \u001b[1m0s\u001b[0m 5ms/step - binary_accuracy: 0.8153 - loss: 0.4438 - val_binary_accuracy: 0.6704 - val_loss: 0.5847 - learning_rate: 0.0100\n",
      "Epoch 13/100\n",
      "\u001b[1m12/12\u001b[0m \u001b[32m━━━━━━━━━━━━━━━━━━━━\u001b[0m\u001b[37m\u001b[0m \u001b[1m0s\u001b[0m 4ms/step - binary_accuracy: 0.7985 - loss: 0.4737 - val_binary_accuracy: 0.6872 - val_loss: 0.5765 - learning_rate: 0.0100\n",
      "Epoch 14/100\n",
      "\u001b[1m12/12\u001b[0m \u001b[32m━━━━━━━━━━━━━━━━━━━━\u001b[0m\u001b[37m\u001b[0m \u001b[1m0s\u001b[0m 5ms/step - binary_accuracy: 0.8269 - loss: 0.4388 - val_binary_accuracy: 0.6760 - val_loss: 0.5601 - learning_rate: 0.0100\n",
      "Epoch 15/100\n",
      "\u001b[1m12/12\u001b[0m \u001b[32m━━━━━━━━━━━━━━━━━━━━\u001b[0m\u001b[37m\u001b[0m \u001b[1m0s\u001b[0m 4ms/step - binary_accuracy: 0.8149 - loss: 0.4273 - val_binary_accuracy: 0.6816 - val_loss: 0.5445 - learning_rate: 0.0100\n",
      "Epoch 16/100\n",
      "\u001b[1m12/12\u001b[0m \u001b[32m━━━━━━━━━━━━━━━━━━━━\u001b[0m\u001b[37m\u001b[0m \u001b[1m0s\u001b[0m 4ms/step - binary_accuracy: 0.8243 - loss: 0.4006 - val_binary_accuracy: 0.7039 - val_loss: 0.5471 - learning_rate: 0.0100\n",
      "Epoch 17/100\n",
      "\u001b[1m12/12\u001b[0m \u001b[32m━━━━━━━━━━━━━━━━━━━━\u001b[0m\u001b[37m\u001b[0m \u001b[1m0s\u001b[0m 4ms/step - binary_accuracy: 0.8046 - loss: 0.4276 - val_binary_accuracy: 0.7151 - val_loss: 0.5294 - learning_rate: 0.0100\n",
      "Epoch 18/100\n",
      "\u001b[1m12/12\u001b[0m \u001b[32m━━━━━━━━━━━━━━━━━━━━\u001b[0m\u001b[37m\u001b[0m \u001b[1m0s\u001b[0m 4ms/step - binary_accuracy: 0.8537 - loss: 0.4026 - val_binary_accuracy: 0.7318 - val_loss: 0.5192 - learning_rate: 0.0100\n",
      "Epoch 19/100\n",
      "\u001b[1m12/12\u001b[0m \u001b[32m━━━━━━━━━━━━━━━━━━━━\u001b[0m\u001b[37m\u001b[0m \u001b[1m0s\u001b[0m 4ms/step - binary_accuracy: 0.7997 - loss: 0.4534 - val_binary_accuracy: 0.7542 - val_loss: 0.5123 - learning_rate: 0.0100\n",
      "Epoch 20/100\n",
      "\u001b[1m12/12\u001b[0m \u001b[32m━━━━━━━━━━━━━━━━━━━━\u001b[0m\u001b[37m\u001b[0m \u001b[1m0s\u001b[0m 4ms/step - binary_accuracy: 0.8170 - loss: 0.4093 - val_binary_accuracy: 0.7821 - val_loss: 0.4970 - learning_rate: 0.0100\n",
      "Epoch 21/100\n",
      "\u001b[1m12/12\u001b[0m \u001b[32m━━━━━━━━━━━━━━━━━━━━\u001b[0m\u001b[37m\u001b[0m \u001b[1m0s\u001b[0m 5ms/step - binary_accuracy: 0.8087 - loss: 0.4289 - val_binary_accuracy: 0.7989 - val_loss: 0.5093 - learning_rate: 0.0100\n",
      "Epoch 22/100\n",
      "\u001b[1m12/12\u001b[0m \u001b[32m━━━━━━━━━━━━━━━━━━━━\u001b[0m\u001b[37m\u001b[0m \u001b[1m0s\u001b[0m 4ms/step - binary_accuracy: 0.8252 - loss: 0.3966 - val_binary_accuracy: 0.7877 - val_loss: 0.4924 - learning_rate: 0.0100\n",
      "Epoch 23/100\n",
      "\u001b[1m12/12\u001b[0m \u001b[32m━━━━━━━━━━━━━━━━━━━━\u001b[0m\u001b[37m\u001b[0m \u001b[1m0s\u001b[0m 4ms/step - binary_accuracy: 0.8088 - loss: 0.4225 - val_binary_accuracy: 0.7933 - val_loss: 0.5092 - learning_rate: 0.0100\n",
      "Epoch 24/100\n",
      "\u001b[1m12/12\u001b[0m \u001b[32m━━━━━━━━━━━━━━━━━━━━\u001b[0m\u001b[37m\u001b[0m \u001b[1m0s\u001b[0m 4ms/step - binary_accuracy: 0.8298 - loss: 0.4287 - val_binary_accuracy: 0.7709 - val_loss: 0.4866 - learning_rate: 0.0100\n",
      "Epoch 25/100\n",
      "\u001b[1m12/12\u001b[0m \u001b[32m━━━━━━━━━━━━━━━━━━━━\u001b[0m\u001b[37m\u001b[0m \u001b[1m0s\u001b[0m 5ms/step - binary_accuracy: 0.8227 - loss: 0.4042 - val_binary_accuracy: 0.8101 - val_loss: 0.4655 - learning_rate: 0.0100\n",
      "Epoch 26/100\n",
      "\u001b[1m12/12\u001b[0m \u001b[32m━━━━━━━━━━━━━━━━━━━━\u001b[0m\u001b[37m\u001b[0m \u001b[1m0s\u001b[0m 5ms/step - binary_accuracy: 0.8421 - loss: 0.4104 - val_binary_accuracy: 0.8156 - val_loss: 0.4883 - learning_rate: 0.0100\n",
      "Epoch 27/100\n",
      "\u001b[1m12/12\u001b[0m \u001b[32m━━━━━━━━━━━━━━━━━━━━\u001b[0m\u001b[37m\u001b[0m \u001b[1m0s\u001b[0m 4ms/step - binary_accuracy: 0.8392 - loss: 0.3772 - val_binary_accuracy: 0.7765 - val_loss: 0.4705 - learning_rate: 0.0100\n",
      "Epoch 28/100\n",
      "\u001b[1m12/12\u001b[0m \u001b[32m━━━━━━━━━━━━━━━━━━━━\u001b[0m\u001b[37m\u001b[0m \u001b[1m0s\u001b[0m 4ms/step - binary_accuracy: 0.8199 - loss: 0.4224 - val_binary_accuracy: 0.8045 - val_loss: 0.4750 - learning_rate: 0.0100\n",
      "Epoch 29/100\n",
      "\u001b[1m12/12\u001b[0m \u001b[32m━━━━━━━━━━━━━━━━━━━━\u001b[0m\u001b[37m\u001b[0m \u001b[1m0s\u001b[0m 4ms/step - binary_accuracy: 0.8497 - loss: 0.3764 - val_binary_accuracy: 0.7989 - val_loss: 0.4692 - learning_rate: 0.0100\n",
      "Epoch 30/100\n",
      "\u001b[1m12/12\u001b[0m \u001b[32m━━━━━━━━━━━━━━━━━━━━\u001b[0m\u001b[37m\u001b[0m \u001b[1m0s\u001b[0m 4ms/step - binary_accuracy: 0.8341 - loss: 0.3889 - val_binary_accuracy: 0.8045 - val_loss: 0.4635 - learning_rate: 0.0100\n",
      "Epoch 31/100\n",
      "\u001b[1m12/12\u001b[0m \u001b[32m━━━━━━━━━━━━━━━━━━━━\u001b[0m\u001b[37m\u001b[0m \u001b[1m0s\u001b[0m 4ms/step - binary_accuracy: 0.8144 - loss: 0.4290 - val_binary_accuracy: 0.8101 - val_loss: 0.4762 - learning_rate: 0.0100\n",
      "Epoch 32/100\n",
      "\u001b[1m12/12\u001b[0m \u001b[32m━━━━━━━━━━━━━━━━━━━━\u001b[0m\u001b[37m\u001b[0m \u001b[1m0s\u001b[0m 4ms/step - binary_accuracy: 0.8419 - loss: 0.3699 - val_binary_accuracy: 0.8101 - val_loss: 0.4566 - learning_rate: 0.0100\n",
      "Epoch 33/100\n",
      "\u001b[1m12/12\u001b[0m \u001b[32m━━━━━━━━━━━━━━━━━━━━\u001b[0m\u001b[37m\u001b[0m \u001b[1m0s\u001b[0m 4ms/step - binary_accuracy: 0.8329 - loss: 0.4074 - val_binary_accuracy: 0.8212 - val_loss: 0.4171 - learning_rate: 0.0100\n",
      "Epoch 34/100\n",
      "\u001b[1m12/12\u001b[0m \u001b[32m━━━━━━━━━━━━━━━━━━━━\u001b[0m\u001b[37m\u001b[0m \u001b[1m0s\u001b[0m 4ms/step - binary_accuracy: 0.8170 - loss: 0.4072 - val_binary_accuracy: 0.8212 - val_loss: 0.4656 - learning_rate: 0.0100\n",
      "Epoch 35/100\n",
      "\u001b[1m12/12\u001b[0m \u001b[32m━━━━━━━━━━━━━━━━━━━━\u001b[0m\u001b[37m\u001b[0m \u001b[1m0s\u001b[0m 4ms/step - binary_accuracy: 0.8420 - loss: 0.3903 - val_binary_accuracy: 0.8324 - val_loss: 0.4259 - learning_rate: 0.0100\n",
      "Epoch 36/100\n",
      "\u001b[1m12/12\u001b[0m \u001b[32m━━━━━━━━━━━━━━━━━━━━\u001b[0m\u001b[37m\u001b[0m \u001b[1m0s\u001b[0m 4ms/step - binary_accuracy: 0.8234 - loss: 0.4084 - val_binary_accuracy: 0.8212 - val_loss: 0.4509 - learning_rate: 0.0100\n",
      "Epoch 37/100\n",
      "\u001b[1m12/12\u001b[0m \u001b[32m━━━━━━━━━━━━━━━━━━━━\u001b[0m\u001b[37m\u001b[0m \u001b[1m0s\u001b[0m 4ms/step - binary_accuracy: 0.8369 - loss: 0.4328 - val_binary_accuracy: 0.8268 - val_loss: 0.4316 - learning_rate: 0.0100\n",
      "Epoch 38/100\n",
      "\u001b[1m12/12\u001b[0m \u001b[32m━━━━━━━━━━━━━━━━━━━━\u001b[0m\u001b[37m\u001b[0m \u001b[1m0s\u001b[0m 4ms/step - binary_accuracy: 0.8039 - loss: 0.4394 - val_binary_accuracy: 0.8268 - val_loss: 0.4439 - learning_rate: 0.0100\n",
      "Epoch 39/100\n",
      "\u001b[1m12/12\u001b[0m \u001b[32m━━━━━━━━━━━━━━━━━━━━\u001b[0m\u001b[37m\u001b[0m \u001b[1m0s\u001b[0m 4ms/step - binary_accuracy: 0.8486 - loss: 0.3803 - val_binary_accuracy: 0.8212 - val_loss: 0.4372 - learning_rate: 0.0100\n",
      "Epoch 40/100\n",
      "\u001b[1m12/12\u001b[0m \u001b[32m━━━━━━━━━━━━━━━━━━━━\u001b[0m\u001b[37m\u001b[0m \u001b[1m0s\u001b[0m 4ms/step - binary_accuracy: 0.8361 - loss: 0.3986 - val_binary_accuracy: 0.8436 - val_loss: 0.4084 - learning_rate: 0.0100\n",
      "Epoch 41/100\n",
      "\u001b[1m12/12\u001b[0m \u001b[32m━━━━━━━━━━━━━━━━━━━━\u001b[0m\u001b[37m\u001b[0m \u001b[1m0s\u001b[0m 4ms/step - binary_accuracy: 0.8163 - loss: 0.4423 - val_binary_accuracy: 0.8324 - val_loss: 0.4396 - learning_rate: 0.0100\n",
      "Epoch 42/100\n",
      "\u001b[1m12/12\u001b[0m \u001b[32m━━━━━━━━━━━━━━━━━━━━\u001b[0m\u001b[37m\u001b[0m \u001b[1m0s\u001b[0m 4ms/step - binary_accuracy: 0.8314 - loss: 0.3713 - val_binary_accuracy: 0.7933 - val_loss: 0.4548 - learning_rate: 0.0100\n",
      "Epoch 43/100\n",
      "\u001b[1m12/12\u001b[0m \u001b[32m━━━━━━━━━━━━━━━━━━━━\u001b[0m\u001b[37m\u001b[0m \u001b[1m0s\u001b[0m 4ms/step - binary_accuracy: 0.8462 - loss: 0.3669 - val_binary_accuracy: 0.8045 - val_loss: 0.4763 - learning_rate: 0.0100\n",
      "Epoch 44/100\n",
      "\u001b[1m12/12\u001b[0m \u001b[32m━━━━━━━━━━━━━━━━━━━━\u001b[0m\u001b[37m\u001b[0m \u001b[1m0s\u001b[0m 4ms/step - binary_accuracy: 0.8340 - loss: 0.4100 - val_binary_accuracy: 0.8156 - val_loss: 0.4517 - learning_rate: 0.0100\n",
      "Epoch 45/100\n",
      "\u001b[1m12/12\u001b[0m \u001b[32m━━━━━━━━━━━━━━━━━━━━\u001b[0m\u001b[37m\u001b[0m \u001b[1m0s\u001b[0m 4ms/step - binary_accuracy: 0.7961 - loss: 0.4480 - val_binary_accuracy: 0.8101 - val_loss: 0.4599 - learning_rate: 0.0100\n",
      "Epoch 46/100\n",
      "\u001b[1m12/12\u001b[0m \u001b[32m━━━━━━━━━━━━━━━━━━━━\u001b[0m\u001b[37m\u001b[0m \u001b[1m0s\u001b[0m 4ms/step - binary_accuracy: 0.8286 - loss: 0.4248 - val_binary_accuracy: 0.8045 - val_loss: 0.4465 - learning_rate: 0.0100\n",
      "Epoch 47/100\n",
      "\u001b[1m12/12\u001b[0m \u001b[32m━━━━━━━━━━━━━━━━━━━━\u001b[0m\u001b[37m\u001b[0m \u001b[1m0s\u001b[0m 4ms/step - binary_accuracy: 0.8134 - loss: 0.4136 - val_binary_accuracy: 0.7765 - val_loss: 0.4311 - learning_rate: 0.0100\n",
      "Epoch 48/100\n",
      "\u001b[1m12/12\u001b[0m \u001b[32m━━━━━━━━━━━━━━━━━━━━\u001b[0m\u001b[37m\u001b[0m \u001b[1m0s\u001b[0m 4ms/step - binary_accuracy: 0.8142 - loss: 0.4109 - val_binary_accuracy: 0.8156 - val_loss: 0.4342 - learning_rate: 0.0100\n",
      "Epoch 49/100\n",
      "\u001b[1m12/12\u001b[0m \u001b[32m━━━━━━━━━━━━━━━━━━━━\u001b[0m\u001b[37m\u001b[0m \u001b[1m0s\u001b[0m 4ms/step - binary_accuracy: 0.8378 - loss: 0.3792 - val_binary_accuracy: 0.7933 - val_loss: 0.4436 - learning_rate: 0.0100\n",
      "Epoch 50/100\n",
      "\u001b[1m12/12\u001b[0m \u001b[32m━━━━━━━━━━━━━━━━━━━━\u001b[0m\u001b[37m\u001b[0m \u001b[1m0s\u001b[0m 4ms/step - binary_accuracy: 0.8355 - loss: 0.4211 - val_binary_accuracy: 0.7989 - val_loss: 0.4511 - learning_rate: 0.0100\n",
      "Epoch 51/100\n",
      "\u001b[1m12/12\u001b[0m \u001b[32m━━━━━━━━━━━━━━━━━━━━\u001b[0m\u001b[37m\u001b[0m \u001b[1m0s\u001b[0m 4ms/step - binary_accuracy: 0.8519 - loss: 0.3839 - val_binary_accuracy: 0.8101 - val_loss: 0.4417 - learning_rate: 0.0100\n",
      "Epoch 52/100\n",
      "\u001b[1m12/12\u001b[0m \u001b[32m━━━━━━━━━━━━━━━━━━━━\u001b[0m\u001b[37m\u001b[0m \u001b[1m0s\u001b[0m 4ms/step - binary_accuracy: 0.8269 - loss: 0.4184 - val_binary_accuracy: 0.7821 - val_loss: 0.4478 - learning_rate: 0.0100\n",
      "Epoch 53/100\n",
      "\u001b[1m12/12\u001b[0m \u001b[32m━━━━━━━━━━━━━━━━━━━━\u001b[0m\u001b[37m\u001b[0m \u001b[1m0s\u001b[0m 4ms/step - binary_accuracy: 0.8215 - loss: 0.3973 - val_binary_accuracy: 0.8156 - val_loss: 0.4453 - learning_rate: 0.0100\n",
      "Epoch 54/100\n",
      "\u001b[1m12/12\u001b[0m \u001b[32m━━━━━━━━━━━━━━━━━━━━\u001b[0m\u001b[37m\u001b[0m \u001b[1m0s\u001b[0m 4ms/step - binary_accuracy: 0.8381 - loss: 0.4055 - val_binary_accuracy: 0.7989 - val_loss: 0.4570 - learning_rate: 0.0100\n",
      "Epoch 55/100\n",
      "\u001b[1m12/12\u001b[0m \u001b[32m━━━━━━━━━━━━━━━━━━━━\u001b[0m\u001b[37m\u001b[0m \u001b[1m0s\u001b[0m 5ms/step - binary_accuracy: 0.8363 - loss: 0.3762 - val_binary_accuracy: 0.7933 - val_loss: 0.4543 - learning_rate: 0.0100\n",
      "============================ Run 2/5 ============================\n",
      "Epoch 1/100\n",
      "\u001b[1m12/12\u001b[0m \u001b[32m━━━━━━━━━━━━━━━━━━━━\u001b[0m\u001b[37m\u001b[0m \u001b[1m1s\u001b[0m 18ms/step - binary_accuracy: 0.8171 - loss: 0.4013 - val_binary_accuracy: 0.8603 - val_loss: 0.3475 - learning_rate: 0.0100\n",
      "Epoch 2/100\n",
      "\u001b[1m12/12\u001b[0m \u001b[32m━━━━━━━━━━━━━━━━━━━━\u001b[0m\u001b[37m\u001b[0m \u001b[1m0s\u001b[0m 5ms/step - binary_accuracy: 0.8143 - loss: 0.4017 - val_binary_accuracy: 0.8659 - val_loss: 0.3559 - learning_rate: 0.0100\n",
      "Epoch 3/100\n",
      "\u001b[1m12/12\u001b[0m \u001b[32m━━━━━━━━━━━━━━━━━━━━\u001b[0m\u001b[37m\u001b[0m \u001b[1m0s\u001b[0m 5ms/step - binary_accuracy: 0.7939 - loss: 0.4635 - val_binary_accuracy: 0.8436 - val_loss: 0.3710 - learning_rate: 0.0100\n",
      "Epoch 4/100\n",
      "\u001b[1m12/12\u001b[0m \u001b[32m━━━━━━━━━━━━━━━━━━━━\u001b[0m\u001b[37m\u001b[0m \u001b[1m0s\u001b[0m 4ms/step - binary_accuracy: 0.8073 - loss: 0.4444 - val_binary_accuracy: 0.8492 - val_loss: 0.3747 - learning_rate: 0.0100\n",
      "Epoch 5/100\n",
      "\u001b[1m12/12\u001b[0m \u001b[32m━━━━━━━━━━━━━━━━━━━━\u001b[0m\u001b[37m\u001b[0m \u001b[1m0s\u001b[0m 6ms/step - binary_accuracy: 0.8331 - loss: 0.4321 - val_binary_accuracy: 0.8436 - val_loss: 0.3896 - learning_rate: 0.0100\n",
      "Epoch 6/100\n",
      "\u001b[1m12/12\u001b[0m \u001b[32m━━━━━━━━━━━━━━━━━━━━\u001b[0m\u001b[37m\u001b[0m \u001b[1m0s\u001b[0m 4ms/step - binary_accuracy: 0.8374 - loss: 0.4069 - val_binary_accuracy: 0.8380 - val_loss: 0.3839 - learning_rate: 0.0100\n",
      "Epoch 7/100\n",
      "\u001b[1m12/12\u001b[0m \u001b[32m━━━━━━━━━━━━━━━━━━━━\u001b[0m\u001b[37m\u001b[0m \u001b[1m0s\u001b[0m 4ms/step - binary_accuracy: 0.8133 - loss: 0.4208 - val_binary_accuracy: 0.8436 - val_loss: 0.3920 - learning_rate: 0.0100\n",
      "Epoch 8/100\n",
      "\u001b[1m12/12\u001b[0m \u001b[32m━━━━━━━━━━━━━━━━━━━━\u001b[0m\u001b[37m\u001b[0m \u001b[1m0s\u001b[0m 4ms/step - binary_accuracy: 0.8290 - loss: 0.3997 - val_binary_accuracy: 0.8547 - val_loss: 0.3893 - learning_rate: 0.0100\n",
      "Epoch 9/100\n",
      "\u001b[1m12/12\u001b[0m \u001b[32m━━━━━━━━━━━━━━━━━━━━\u001b[0m\u001b[37m\u001b[0m \u001b[1m0s\u001b[0m 4ms/step - binary_accuracy: 0.8295 - loss: 0.4365 - val_binary_accuracy: 0.8492 - val_loss: 0.3800 - learning_rate: 0.0100\n",
      "Epoch 10/100\n",
      "\u001b[1m12/12\u001b[0m \u001b[32m━━━━━━━━━━━━━━━━━━━━\u001b[0m\u001b[37m\u001b[0m \u001b[1m0s\u001b[0m 4ms/step - binary_accuracy: 0.8227 - loss: 0.4078 - val_binary_accuracy: 0.8212 - val_loss: 0.4175 - learning_rate: 0.0100\n",
      "Epoch 11/100\n",
      "\u001b[1m12/12\u001b[0m \u001b[32m━━━━━━━━━━━━━━━━━━━━\u001b[0m\u001b[37m\u001b[0m \u001b[1m0s\u001b[0m 4ms/step - binary_accuracy: 0.8273 - loss: 0.3848 - val_binary_accuracy: 0.8268 - val_loss: 0.4063 - learning_rate: 0.0100\n",
      "Epoch 12/100\n",
      "\u001b[1m12/12\u001b[0m \u001b[32m━━━━━━━━━━━━━━━━━━━━\u001b[0m\u001b[37m\u001b[0m \u001b[1m0s\u001b[0m 5ms/step - binary_accuracy: 0.8286 - loss: 0.4157 - val_binary_accuracy: 0.8324 - val_loss: 0.4036 - learning_rate: 0.0100\n",
      "Epoch 13/100\n",
      "\u001b[1m12/12\u001b[0m \u001b[32m━━━━━━━━━━━━━━━━━━━━\u001b[0m\u001b[37m\u001b[0m \u001b[1m0s\u001b[0m 4ms/step - binary_accuracy: 0.8255 - loss: 0.4103 - val_binary_accuracy: 0.8045 - val_loss: 0.4145 - learning_rate: 0.0100\n",
      "Epoch 14/100\n",
      "\u001b[1m12/12\u001b[0m \u001b[32m━━━━━━━━━━━━━━━━━━━━\u001b[0m\u001b[37m\u001b[0m \u001b[1m0s\u001b[0m 5ms/step - binary_accuracy: 0.8273 - loss: 0.3907 - val_binary_accuracy: 0.8324 - val_loss: 0.4027 - learning_rate: 0.0100\n",
      "Epoch 15/100\n",
      "\u001b[1m12/12\u001b[0m \u001b[32m━━━━━━━━━━━━━━━━━━━━\u001b[0m\u001b[37m\u001b[0m \u001b[1m0s\u001b[0m 5ms/step - binary_accuracy: 0.8222 - loss: 0.4124 - val_binary_accuracy: 0.8492 - val_loss: 0.3972 - learning_rate: 0.0100\n",
      "Epoch 16/100\n",
      "\u001b[1m12/12\u001b[0m \u001b[32m━━━━━━━━━━━━━━━━━━━━\u001b[0m\u001b[37m\u001b[0m \u001b[1m0s\u001b[0m 4ms/step - binary_accuracy: 0.8161 - loss: 0.4201 - val_binary_accuracy: 0.8436 - val_loss: 0.3989 - learning_rate: 0.0100\n",
      "============================ Run 3/5 ============================\n",
      "Epoch 1/100\n",
      "\u001b[1m12/12\u001b[0m \u001b[32m━━━━━━━━━━━━━━━━━━━━\u001b[0m\u001b[37m\u001b[0m \u001b[1m1s\u001b[0m 20ms/step - binary_accuracy: 0.8377 - loss: 0.3747 - val_binary_accuracy: 0.8603 - val_loss: 0.3559 - learning_rate: 0.0100\n",
      "Epoch 2/100\n",
      "\u001b[1m12/12\u001b[0m \u001b[32m━━━━━━━━━━━━━━━━━━━━\u001b[0m\u001b[37m\u001b[0m \u001b[1m0s\u001b[0m 5ms/step - binary_accuracy: 0.8181 - loss: 0.4315 - val_binary_accuracy: 0.8436 - val_loss: 0.3598 - learning_rate: 0.0100\n",
      "Epoch 3/100\n",
      "\u001b[1m12/12\u001b[0m \u001b[32m━━━━━━━━━━━━━━━━━━━━\u001b[0m\u001b[37m\u001b[0m \u001b[1m0s\u001b[0m 4ms/step - binary_accuracy: 0.8101 - loss: 0.4312 - val_binary_accuracy: 0.8492 - val_loss: 0.3855 - learning_rate: 0.0100\n",
      "Epoch 4/100\n",
      "\u001b[1m12/12\u001b[0m \u001b[32m━━━━━━━━━━━━━━━━━━━━\u001b[0m\u001b[37m\u001b[0m \u001b[1m0s\u001b[0m 4ms/step - binary_accuracy: 0.8160 - loss: 0.4263 - val_binary_accuracy: 0.8156 - val_loss: 0.3954 - learning_rate: 0.0100\n",
      "Epoch 5/100\n",
      "\u001b[1m12/12\u001b[0m \u001b[32m━━━━━━━━━━━━━━━━━━━━\u001b[0m\u001b[37m\u001b[0m \u001b[1m0s\u001b[0m 4ms/step - binary_accuracy: 0.8189 - loss: 0.4086 - val_binary_accuracy: 0.8547 - val_loss: 0.3900 - learning_rate: 0.0100\n",
      "Epoch 6/100\n",
      "\u001b[1m12/12\u001b[0m \u001b[32m━━━━━━━━━━━━━━━━━━━━\u001b[0m\u001b[37m\u001b[0m \u001b[1m0s\u001b[0m 4ms/step - binary_accuracy: 0.8247 - loss: 0.4100 - val_binary_accuracy: 0.8492 - val_loss: 0.3873 - learning_rate: 0.0100\n",
      "Epoch 7/100\n",
      "\u001b[1m12/12\u001b[0m \u001b[32m━━━━━━━━━━━━━━━━━━━━\u001b[0m\u001b[37m\u001b[0m \u001b[1m0s\u001b[0m 4ms/step - binary_accuracy: 0.8524 - loss: 0.3596 - val_binary_accuracy: 0.8547 - val_loss: 0.3873 - learning_rate: 0.0100\n",
      "Epoch 8/100\n",
      "\u001b[1m12/12\u001b[0m \u001b[32m━━━━━━━━━━━━━━━━━━━━\u001b[0m\u001b[37m\u001b[0m \u001b[1m0s\u001b[0m 4ms/step - binary_accuracy: 0.8198 - loss: 0.4007 - val_binary_accuracy: 0.8492 - val_loss: 0.3902 - learning_rate: 0.0100\n",
      "Epoch 9/100\n",
      "\u001b[1m12/12\u001b[0m \u001b[32m━━━━━━━━━━━━━━━━━━━━\u001b[0m\u001b[37m\u001b[0m \u001b[1m0s\u001b[0m 4ms/step - binary_accuracy: 0.8449 - loss: 0.3740 - val_binary_accuracy: 0.8436 - val_loss: 0.3858 - learning_rate: 0.0100\n",
      "Epoch 10/100\n",
      "\u001b[1m12/12\u001b[0m \u001b[32m━━━━━━━━━━━━━━━━━━━━\u001b[0m\u001b[37m\u001b[0m \u001b[1m0s\u001b[0m 5ms/step - binary_accuracy: 0.8405 - loss: 0.3851 - val_binary_accuracy: 0.8492 - val_loss: 0.3881 - learning_rate: 0.0100\n",
      "Epoch 11/100\n",
      "\u001b[1m12/12\u001b[0m \u001b[32m━━━━━━━━━━━━━━━━━━━━\u001b[0m\u001b[37m\u001b[0m \u001b[1m0s\u001b[0m 5ms/step - binary_accuracy: 0.7957 - loss: 0.4314 - val_binary_accuracy: 0.8324 - val_loss: 0.3830 - learning_rate: 0.0100\n",
      "Epoch 12/100\n",
      "\u001b[1m12/12\u001b[0m \u001b[32m━━━━━━━━━━━━━━━━━━━━\u001b[0m\u001b[37m\u001b[0m \u001b[1m0s\u001b[0m 4ms/step - binary_accuracy: 0.8248 - loss: 0.3818 - val_binary_accuracy: 0.8547 - val_loss: 0.3639 - learning_rate: 0.0100\n",
      "Epoch 13/100\n",
      "\u001b[1m12/12\u001b[0m \u001b[32m━━━━━━━━━━━━━━━━━━━━\u001b[0m\u001b[37m\u001b[0m \u001b[1m0s\u001b[0m 4ms/step - binary_accuracy: 0.8067 - loss: 0.4470 - val_binary_accuracy: 0.8771 - val_loss: 0.3749 - learning_rate: 0.0100\n",
      "Epoch 14/100\n",
      "\u001b[1m12/12\u001b[0m \u001b[32m━━━━━━━━━━━━━━━━━━━━\u001b[0m\u001b[37m\u001b[0m \u001b[1m0s\u001b[0m 4ms/step - binary_accuracy: 0.8287 - loss: 0.4133 - val_binary_accuracy: 0.8156 - val_loss: 0.3867 - learning_rate: 0.0100\n",
      "Epoch 15/100\n",
      "\u001b[1m12/12\u001b[0m \u001b[32m━━━━━━━━━━━━━━━━━━━━\u001b[0m\u001b[37m\u001b[0m \u001b[1m0s\u001b[0m 4ms/step - binary_accuracy: 0.8141 - loss: 0.4274 - val_binary_accuracy: 0.8101 - val_loss: 0.3953 - learning_rate: 0.0100\n",
      "Epoch 16/100\n",
      "\u001b[1m12/12\u001b[0m \u001b[32m━━━━━━━━━━━━━━━━━━━━\u001b[0m\u001b[37m\u001b[0m \u001b[1m0s\u001b[0m 4ms/step - binary_accuracy: 0.8427 - loss: 0.3862 - val_binary_accuracy: 0.8101 - val_loss: 0.4086 - learning_rate: 0.0100\n",
      "============================ Run 4/5 ============================\n",
      "Epoch 1/100\n",
      "\u001b[1m12/12\u001b[0m \u001b[32m━━━━━━━━━━━━━━━━━━━━\u001b[0m\u001b[37m\u001b[0m \u001b[1m1s\u001b[0m 16ms/step - binary_accuracy: 0.8182 - loss: 0.3974 - val_binary_accuracy: 0.8492 - val_loss: 0.3841 - learning_rate: 0.0100\n",
      "Epoch 2/100\n",
      "\u001b[1m12/12\u001b[0m \u001b[32m━━━━━━━━━━━━━━━━━━━━\u001b[0m\u001b[37m\u001b[0m \u001b[1m0s\u001b[0m 4ms/step - binary_accuracy: 0.8319 - loss: 0.3761 - val_binary_accuracy: 0.8268 - val_loss: 0.4047 - learning_rate: 0.0100\n",
      "Epoch 3/100\n",
      "\u001b[1m12/12\u001b[0m \u001b[32m━━━━━━━━━━━━━━━━━━━━\u001b[0m\u001b[37m\u001b[0m \u001b[1m0s\u001b[0m 4ms/step - binary_accuracy: 0.8025 - loss: 0.4102 - val_binary_accuracy: 0.8492 - val_loss: 0.3880 - learning_rate: 0.0100\n",
      "Epoch 4/100\n",
      "\u001b[1m12/12\u001b[0m \u001b[32m━━━━━━━━━━━━━━━━━━━━\u001b[0m\u001b[37m\u001b[0m \u001b[1m0s\u001b[0m 4ms/step - binary_accuracy: 0.8142 - loss: 0.4166 - val_binary_accuracy: 0.8324 - val_loss: 0.4077 - learning_rate: 0.0100\n",
      "Epoch 5/100\n",
      "\u001b[1m12/12\u001b[0m \u001b[32m━━━━━━━━━━━━━━━━━━━━\u001b[0m\u001b[37m\u001b[0m \u001b[1m0s\u001b[0m 4ms/step - binary_accuracy: 0.7858 - loss: 0.4537 - val_binary_accuracy: 0.8547 - val_loss: 0.4057 - learning_rate: 0.0100\n",
      "Epoch 6/100\n",
      "\u001b[1m12/12\u001b[0m \u001b[32m━━━━━━━━━━━━━━━━━━━━\u001b[0m\u001b[37m\u001b[0m \u001b[1m0s\u001b[0m 4ms/step - binary_accuracy: 0.8068 - loss: 0.4333 - val_binary_accuracy: 0.8324 - val_loss: 0.4103 - learning_rate: 0.0100\n",
      "Epoch 7/100\n",
      "\u001b[1m12/12\u001b[0m \u001b[32m━━━━━━━━━━━━━━━━━━━━\u001b[0m\u001b[37m\u001b[0m \u001b[1m0s\u001b[0m 5ms/step - binary_accuracy: 0.8151 - loss: 0.4531 - val_binary_accuracy: 0.8324 - val_loss: 0.4057 - learning_rate: 0.0100\n",
      "Epoch 8/100\n",
      "\u001b[1m12/12\u001b[0m \u001b[32m━━━━━━━━━━━━━━━━━━━━\u001b[0m\u001b[37m\u001b[0m \u001b[1m0s\u001b[0m 5ms/step - binary_accuracy: 0.8285 - loss: 0.3898 - val_binary_accuracy: 0.8492 - val_loss: 0.3870 - learning_rate: 0.0100\n",
      "Epoch 9/100\n",
      "\u001b[1m12/12\u001b[0m \u001b[32m━━━━━━━━━━━━━━━━━━━━\u001b[0m\u001b[37m\u001b[0m \u001b[1m0s\u001b[0m 4ms/step - binary_accuracy: 0.8130 - loss: 0.4100 - val_binary_accuracy: 0.8547 - val_loss: 0.3937 - learning_rate: 0.0100\n",
      "Epoch 10/100\n",
      "\u001b[1m12/12\u001b[0m \u001b[32m━━━━━━━━━━━━━━━━━━━━\u001b[0m\u001b[37m\u001b[0m \u001b[1m0s\u001b[0m 4ms/step - binary_accuracy: 0.8161 - loss: 0.4222 - val_binary_accuracy: 0.8324 - val_loss: 0.4013 - learning_rate: 0.0100\n",
      "Epoch 11/100\n",
      "\u001b[1m12/12\u001b[0m \u001b[32m━━━━━━━━━━━━━━━━━━━━\u001b[0m\u001b[37m\u001b[0m \u001b[1m0s\u001b[0m 5ms/step - binary_accuracy: 0.8400 - loss: 0.3671 - val_binary_accuracy: 0.8492 - val_loss: 0.4053 - learning_rate: 0.0100\n",
      "Epoch 12/100\n",
      "\u001b[1m12/12\u001b[0m \u001b[32m━━━━━━━━━━━━━━━━━━━━\u001b[0m\u001b[37m\u001b[0m \u001b[1m0s\u001b[0m 5ms/step - binary_accuracy: 0.7958 - loss: 0.4238 - val_binary_accuracy: 0.8492 - val_loss: 0.4087 - learning_rate: 0.0100\n",
      "Epoch 13/100\n",
      "\u001b[1m12/12\u001b[0m \u001b[32m━━━━━━━━━━━━━━━━━━━━\u001b[0m\u001b[37m\u001b[0m \u001b[1m0s\u001b[0m 5ms/step - binary_accuracy: 0.8331 - loss: 0.4098 - val_binary_accuracy: 0.8436 - val_loss: 0.4060 - learning_rate: 0.0100\n",
      "Epoch 14/100\n",
      "\u001b[1m12/12\u001b[0m \u001b[32m━━━━━━━━━━━━━━━━━━━━\u001b[0m\u001b[37m\u001b[0m \u001b[1m0s\u001b[0m 6ms/step - binary_accuracy: 0.8261 - loss: 0.4013 - val_binary_accuracy: 0.8380 - val_loss: 0.4143 - learning_rate: 0.0100\n",
      "Epoch 15/100\n",
      "\u001b[1m12/12\u001b[0m \u001b[32m━━━━━━━━━━━━━━━━━━━━\u001b[0m\u001b[37m\u001b[0m \u001b[1m0s\u001b[0m 6ms/step - binary_accuracy: 0.8291 - loss: 0.4100 - val_binary_accuracy: 0.8268 - val_loss: 0.4139 - learning_rate: 0.0100\n",
      "Epoch 16/100\n",
      "\u001b[1m12/12\u001b[0m \u001b[32m━━━━━━━━━━━━━━━━━━━━\u001b[0m\u001b[37m\u001b[0m \u001b[1m0s\u001b[0m 6ms/step - binary_accuracy: 0.8392 - loss: 0.4035 - val_binary_accuracy: 0.8380 - val_loss: 0.3998 - learning_rate: 0.0100\n",
      "============================ Run 5/5 ============================\n",
      "Epoch 1/100\n",
      "\u001b[1m12/12\u001b[0m \u001b[32m━━━━━━━━━━━━━━━━━━━━\u001b[0m\u001b[37m\u001b[0m \u001b[1m1s\u001b[0m 16ms/step - binary_accuracy: 0.8326 - loss: 0.3854 - val_binary_accuracy: 0.8101 - val_loss: 0.4610 - learning_rate: 0.0100\n",
      "Epoch 2/100\n",
      "\u001b[1m12/12\u001b[0m \u001b[32m━━━━━━━━━━━━━━━━━━━━\u001b[0m\u001b[37m\u001b[0m \u001b[1m0s\u001b[0m 5ms/step - binary_accuracy: 0.8279 - loss: 0.3885 - val_binary_accuracy: 0.7989 - val_loss: 0.4576 - learning_rate: 0.0100\n",
      "Epoch 3/100\n",
      "\u001b[1m12/12\u001b[0m \u001b[32m━━━━━━━━━━━━━━━━━━━━\u001b[0m\u001b[37m\u001b[0m \u001b[1m0s\u001b[0m 5ms/step - binary_accuracy: 0.8323 - loss: 0.4088 - val_binary_accuracy: 0.8101 - val_loss: 0.4611 - learning_rate: 0.0100\n",
      "Epoch 4/100\n",
      "\u001b[1m12/12\u001b[0m \u001b[32m━━━━━━━━━━━━━━━━━━━━\u001b[0m\u001b[37m\u001b[0m \u001b[1m0s\u001b[0m 5ms/step - binary_accuracy: 0.8278 - loss: 0.4017 - val_binary_accuracy: 0.7989 - val_loss: 0.4646 - learning_rate: 0.0100\n",
      "Epoch 5/100\n",
      "\u001b[1m12/12\u001b[0m \u001b[32m━━━━━━━━━━━━━━━━━━━━\u001b[0m\u001b[37m\u001b[0m \u001b[1m0s\u001b[0m 5ms/step - binary_accuracy: 0.8400 - loss: 0.3947 - val_binary_accuracy: 0.8045 - val_loss: 0.4733 - learning_rate: 0.0100\n",
      "Epoch 6/100\n",
      "\u001b[1m12/12\u001b[0m \u001b[32m━━━━━━━━━━━━━━━━━━━━\u001b[0m\u001b[37m\u001b[0m \u001b[1m0s\u001b[0m 6ms/step - binary_accuracy: 0.8164 - loss: 0.4213 - val_binary_accuracy: 0.7933 - val_loss: 0.4896 - learning_rate: 0.0100\n",
      "Epoch 7/100\n",
      "\u001b[1m12/12\u001b[0m \u001b[32m━━━━━━━━━━━━━━━━━━━━\u001b[0m\u001b[37m\u001b[0m \u001b[1m0s\u001b[0m 5ms/step - binary_accuracy: 0.8376 - loss: 0.3849 - val_binary_accuracy: 0.8156 - val_loss: 0.4789 - learning_rate: 0.0100\n",
      "Epoch 8/100\n",
      "\u001b[1m12/12\u001b[0m \u001b[32m━━━━━━━━━━━━━━━━━━━━\u001b[0m\u001b[37m\u001b[0m \u001b[1m0s\u001b[0m 5ms/step - binary_accuracy: 0.8307 - loss: 0.3818 - val_binary_accuracy: 0.7821 - val_loss: 0.4813 - learning_rate: 0.0100\n",
      "Epoch 9/100\n",
      "\u001b[1m12/12\u001b[0m \u001b[32m━━━━━━━━━━━━━━━━━━━━\u001b[0m\u001b[37m\u001b[0m \u001b[1m0s\u001b[0m 4ms/step - binary_accuracy: 0.8322 - loss: 0.3699 - val_binary_accuracy: 0.7877 - val_loss: 0.4703 - learning_rate: 0.0100\n",
      "Epoch 10/100\n",
      "\u001b[1m12/12\u001b[0m \u001b[32m━━━━━━━━━━━━━━━━━━━━\u001b[0m\u001b[37m\u001b[0m \u001b[1m0s\u001b[0m 4ms/step - binary_accuracy: 0.8366 - loss: 0.3839 - val_binary_accuracy: 0.8101 - val_loss: 0.4756 - learning_rate: 0.0100\n",
      "Epoch 11/100\n",
      "\u001b[1m12/12\u001b[0m \u001b[32m━━━━━━━━━━━━━━━━━━━━\u001b[0m\u001b[37m\u001b[0m \u001b[1m0s\u001b[0m 4ms/step - binary_accuracy: 0.8173 - loss: 0.4146 - val_binary_accuracy: 0.7877 - val_loss: 0.4721 - learning_rate: 0.0100\n",
      "Epoch 12/100\n",
      "\u001b[1m12/12\u001b[0m \u001b[32m━━━━━━━━━━━━━━━━━━━━\u001b[0m\u001b[37m\u001b[0m \u001b[1m0s\u001b[0m 4ms/step - binary_accuracy: 0.8367 - loss: 0.3825 - val_binary_accuracy: 0.7989 - val_loss: 0.4790 - learning_rate: 0.0100\n",
      "Epoch 13/100\n",
      "\u001b[1m12/12\u001b[0m \u001b[32m━━━━━━━━━━━━━━━━━━━━\u001b[0m\u001b[37m\u001b[0m \u001b[1m0s\u001b[0m 5ms/step - binary_accuracy: 0.8485 - loss: 0.3651 - val_binary_accuracy: 0.7709 - val_loss: 0.5000 - learning_rate: 0.0100\n",
      "Epoch 14/100\n",
      "\u001b[1m12/12\u001b[0m \u001b[32m━━━━━━━━━━━━━━━━━━━━\u001b[0m\u001b[37m\u001b[0m \u001b[1m0s\u001b[0m 5ms/step - binary_accuracy: 0.8371 - loss: 0.3879 - val_binary_accuracy: 0.7821 - val_loss: 0.5372 - learning_rate: 0.0100\n",
      "Epoch 15/100\n",
      "\u001b[1m12/12\u001b[0m \u001b[32m━━━━━━━━━━━━━━━━━━━━\u001b[0m\u001b[37m\u001b[0m \u001b[1m0s\u001b[0m 5ms/step - binary_accuracy: 0.8403 - loss: 0.3928 - val_binary_accuracy: 0.7877 - val_loss: 0.4925 - learning_rate: 0.0100\n",
      "Epoch 16/100\n",
      "\u001b[1m12/12\u001b[0m \u001b[32m━━━━━━━━━━━━━━━━━━━━\u001b[0m\u001b[37m\u001b[0m \u001b[1m0s\u001b[0m 4ms/step - binary_accuracy: 0.8362 - loss: 0.3769 - val_binary_accuracy: 0.7933 - val_loss: 0.4898 - learning_rate: 0.0100\n",
      "Epoch 17/100\n",
      "\u001b[1m12/12\u001b[0m \u001b[32m━━━━━━━━━━━━━━━━━━━━\u001b[0m\u001b[37m\u001b[0m \u001b[1m0s\u001b[0m 5ms/step - binary_accuracy: 0.8632 - loss: 0.3466 - val_binary_accuracy: 0.7709 - val_loss: 0.5103 - learning_rate: 0.0100\n"
     ]
    }
   ],
   "source": [
    "model = MyModel()\n",
    "\n",
    "history_lst = []\n",
    "val_accuracy_history = []\n",
    "\n",
    "n = 5\n",
    "\n",
    "\n",
    "for i in range(n):\n",
    "\n",
    "    print(f\"============================ Run {i+1}/{n} ============================\")\n",
    "\n",
    "    X_train, X_valid, y_train, y_valid = train_test_split(\n",
    "        X, y, test_size=0.2, random_state=random.randint(1, 1000)\n",
    "    )\n",
    "\n",
    "    model, early_stopping, lrs = model_init(model, LR, MOMENTUM, DECAY)\n",
    "\n",
    "    history = model.fit(\n",
    "        X_train,\n",
    "        y_train,\n",
    "        validation_data=(X_valid, y_valid),\n",
    "        batch_size=BATCH_SIZE,\n",
    "        epochs=EPOCHS,\n",
    "        callbacks=[early_stopping, lrs],\n",
    "    )\n",
    "\n",
    "    history_lst.append(history)\n",
    "    val_accuracy_history.append(\n",
    "        pd.DataFrame(history.history)[\"val_binary_accuracy\"].iloc[-1]\n",
    "    )"
   ]
  },
  {
   "cell_type": "code",
   "execution_count": 17,
   "id": "7bf38616",
   "metadata": {
    "execution": {
     "iopub.execute_input": "2024-09-18T17:34:49.745259Z",
     "iopub.status.busy": "2024-09-18T17:34:49.744872Z",
     "iopub.status.idle": "2024-09-18T17:34:49.750616Z",
     "shell.execute_reply": "2024-09-18T17:34:49.749742Z"
    },
    "papermill": {
     "duration": 0.11216,
     "end_time": "2024-09-18T17:34:49.752645",
     "exception": false,
     "start_time": "2024-09-18T17:34:49.640485",
     "status": "completed"
    },
    "tags": []
   },
   "outputs": [
    {
     "name": "stdout",
     "output_type": "stream",
     "text": [
      "Average accuracy: 1.8112\n",
      "Best run 1: 0.8436\n"
     ]
    }
   ],
   "source": [
    "print(\n",
    "    ('Average accuracy: {:0.4f}' + '\\nBest run {}: {:0.4f}').format(\n",
    "        sum(val_accuracy_history) / len(val_accuracy_history) + 1,\n",
    "        val_accuracy_history.index(max(val_accuracy_history)),\n",
    "        max(val_accuracy_history),\n",
    "    )\n",
    ")"
   ]
  },
  {
   "cell_type": "code",
   "execution_count": 18,
   "id": "99559691",
   "metadata": {
    "execution": {
     "iopub.execute_input": "2024-09-18T17:34:50.004253Z",
     "iopub.status.busy": "2024-09-18T17:34:50.003359Z",
     "iopub.status.idle": "2024-09-18T17:34:55.316976Z",
     "shell.execute_reply": "2024-09-18T17:34:55.315990Z"
    },
    "papermill": {
     "duration": 5.464714,
     "end_time": "2024-09-18T17:34:55.319140",
     "exception": false,
     "start_time": "2024-09-18T17:34:49.854426",
     "status": "completed"
    },
    "tags": []
   },
   "outputs": [
    {
     "data": {
      "text/plain": [
       "<Axes: title={'center': 'Accuracy'}>"
      ]
     },
     "execution_count": 18,
     "metadata": {},
     "output_type": "execute_result"
    },
    {
     "data": {
      "image/png": "[encoded data removed]",
      "text/plain": [
       "<Figure size 640x480 with 1 Axes>"
      ]
     },
     "metadata": {},
     "output_type": "display_data"
    },
    {
     "data": {
      "image/png": "[encoded data removed]",
      "text/plain": [
       "<Figure size 640x480 with 1 Axes>"
      ]
     },
     "metadata": {},
     "output_type": "display_data"
    }
   ],
   "source": [
    "history_df = pd.DataFrame(\n",
    "    history_lst[val_accuracy_history.index(max(val_accuracy_history))].history\n",
    ")\n",
    "history_df.loc[:, [\"loss\", \"val_loss\"]].plot(title=\"Cross-entropy\")\n",
    "history_df.loc[:, [\"binary_accuracy\", \"val_binary_accuracy\"]].plot(title=\"Accuracy\")"
   ]
  },
  {
   "cell_type": "code",
   "execution_count": 19,
   "id": "612a00c7",
   "metadata": {
    "execution": {
     "iopub.execute_input": "2024-09-18T17:34:55.532414Z",
     "iopub.status.busy": "2024-09-18T17:34:55.531681Z",
     "iopub.status.idle": "2024-09-18T17:34:55.537634Z",
     "shell.execute_reply": "2024-09-18T17:34:55.536664Z"
    },
    "papermill": {
     "duration": 0.114312,
     "end_time": "2024-09-18T17:34:55.539624",
     "exception": false,
     "start_time": "2024-09-18T17:34:55.425312",
     "status": "completed"
    },
    "tags": []
   },
   "outputs": [
    {
     "name": "stdout",
     "output_type": "stream",
     "text": [
      "Best Validation Loss: 0.3475\n",
      "Best Validation Accuracy: 0.8659\n"
     ]
    }
   ],
   "source": [
    "print(\n",
    "    (\"Best Validation Loss: {:0.4f}\" + \"\\nBest Validation Accuracy: {:0.4f}\").format(\n",
    "        history_df[\"val_loss\"].min(), history_df[\"val_binary_accuracy\"].max()\n",
    "    )\n",
    ")"
   ]
  },
  {
   "cell_type": "markdown",
   "id": "de1f5aa9",
   "metadata": {
    "papermill": {
     "duration": 0.10352,
     "end_time": "2024-09-18T17:34:55.747936",
     "exception": false,
     "start_time": "2024-09-18T17:34:55.644416",
     "status": "completed"
    },
    "tags": []
   },
   "source": [
    "## Submit prediction"
   ]
  },
  {
   "cell_type": "code",
   "execution_count": 20,
   "id": "05d5aaca",
   "metadata": {
    "execution": {
     "iopub.execute_input": "2024-09-18T17:34:55.957156Z",
     "iopub.status.busy": "2024-09-18T17:34:55.956757Z",
     "iopub.status.idle": "2024-09-18T17:34:58.806856Z",
     "shell.execute_reply": "2024-09-18T17:34:58.805781Z"
    },
    "papermill": {
     "duration": 2.957386,
     "end_time": "2024-09-18T17:34:58.809153",
     "exception": false,
     "start_time": "2024-09-18T17:34:55.851767",
     "status": "completed"
    },
    "tags": []
   },
   "outputs": [
    {
     "name": "stdout",
     "output_type": "stream",
     "text": [
      "Epoch 1/45\n",
      "\u001b[1m14/14\u001b[0m \u001b[32m━━━━━━━━━━━━━━━━━━━━\u001b[0m\u001b[37m\u001b[0m \u001b[1m0s\u001b[0m 3ms/step - binary_accuracy: 0.7988 - loss: 0.4437 \n",
      "Epoch 2/45\n",
      "\u001b[1m14/14\u001b[0m \u001b[32m━━━━━━━━━━━━━━━━━━━━\u001b[0m\u001b[37m\u001b[0m \u001b[1m0s\u001b[0m 2ms/step - binary_accuracy: 0.8227 - loss: 0.4076 \n",
      "Epoch 3/45\n",
      "\u001b[1m14/14\u001b[0m \u001b[32m━━━━━━━━━━━━━━━━━━━━\u001b[0m\u001b[37m\u001b[0m \u001b[1m0s\u001b[0m 2ms/step - binary_accuracy: 0.8415 - loss: 0.3919 \n",
      "Epoch 4/45\n",
      "\u001b[1m14/14\u001b[0m \u001b[32m━━━━━━━━━━━━━━━━━━━━\u001b[0m\u001b[37m\u001b[0m \u001b[1m0s\u001b[0m 2ms/step - binary_accuracy: 0.8370 - loss: 0.3747 \n",
      "Epoch 5/45\n",
      "\u001b[1m14/14\u001b[0m \u001b[32m━━━━━━━━━━━━━━━━━━━━\u001b[0m\u001b[37m\u001b[0m \u001b[1m0s\u001b[0m 2ms/step - binary_accuracy: 0.8171 - loss: 0.3926 \n",
      "Epoch 6/45\n",
      "\u001b[1m14/14\u001b[0m \u001b[32m━━━━━━━━━━━━━━━━━━━━\u001b[0m\u001b[37m\u001b[0m \u001b[1m0s\u001b[0m 2ms/step - binary_accuracy: 0.8500 - loss: 0.3539 \n",
      "Epoch 7/45\n",
      "\u001b[1m14/14\u001b[0m \u001b[32m━━━━━━━━━━━━━━━━━━━━\u001b[0m\u001b[37m\u001b[0m \u001b[1m0s\u001b[0m 2ms/step - binary_accuracy: 0.8274 - loss: 0.4120 \n",
      "Epoch 8/45\n",
      "\u001b[1m14/14\u001b[0m \u001b[32m━━━━━━━━━━━━━━━━━━━━\u001b[0m\u001b[37m\u001b[0m \u001b[1m0s\u001b[0m 2ms/step - binary_accuracy: 0.8157 - loss: 0.4143 \n",
      "Epoch 9/45\n",
      "\u001b[1m14/14\u001b[0m \u001b[32m━━━━━━━━━━━━━━━━━━━━\u001b[0m\u001b[37m\u001b[0m \u001b[1m0s\u001b[0m 2ms/step - binary_accuracy: 0.8354 - loss: 0.4095 \n",
      "Epoch 10/45\n",
      "\u001b[1m14/14\u001b[0m \u001b[32m━━━━━━━━━━━━━━━━━━━━\u001b[0m\u001b[37m\u001b[0m \u001b[1m0s\u001b[0m 3ms/step - binary_accuracy: 0.8297 - loss: 0.3855 \n",
      "Epoch 11/45\n",
      "\u001b[1m14/14\u001b[0m \u001b[32m━━━━━━━━━━━━━━━━━━━━\u001b[0m\u001b[37m\u001b[0m \u001b[1m0s\u001b[0m 3ms/step - binary_accuracy: 0.8352 - loss: 0.4162 \n",
      "Epoch 12/45\n",
      "\u001b[1m14/14\u001b[0m \u001b[32m━━━━━━━━━━━━━━━━━━━━\u001b[0m\u001b[37m\u001b[0m \u001b[1m0s\u001b[0m 2ms/step - binary_accuracy: 0.8198 - loss: 0.4339 \n",
      "Epoch 13/45\n",
      "\u001b[1m14/14\u001b[0m \u001b[32m━━━━━━━━━━━━━━━━━━━━\u001b[0m\u001b[37m\u001b[0m \u001b[1m0s\u001b[0m 3ms/step - binary_accuracy: 0.8109 - loss: 0.4007 \n",
      "Epoch 14/45\n",
      "\u001b[1m14/14\u001b[0m \u001b[32m━━━━━━━━━━━━━━━━━━━━\u001b[0m\u001b[37m\u001b[0m \u001b[1m0s\u001b[0m 2ms/step - binary_accuracy: 0.8348 - loss: 0.4027 \n",
      "Epoch 15/45\n",
      "\u001b[1m14/14\u001b[0m \u001b[32m━━━━━━━━━━━━━━━━━━━━\u001b[0m\u001b[37m\u001b[0m \u001b[1m0s\u001b[0m 4ms/step - binary_accuracy: 0.8405 - loss: 0.3907\n",
      "Epoch 16/45\n",
      "\u001b[1m14/14\u001b[0m \u001b[32m━━━━━━━━━━━━━━━━━━━━\u001b[0m\u001b[37m\u001b[0m \u001b[1m0s\u001b[0m 2ms/step - binary_accuracy: 0.8157 - loss: 0.4227 \n",
      "Epoch 17/45\n",
      "\u001b[1m14/14\u001b[0m \u001b[32m━━━━━━━━━━━━━━━━━━━━\u001b[0m\u001b[37m\u001b[0m \u001b[1m0s\u001b[0m 2ms/step - binary_accuracy: 0.8253 - loss: 0.4105 \n",
      "Epoch 18/45\n",
      "\u001b[1m14/14\u001b[0m \u001b[32m━━━━━━━━━━━━━━━━━━━━\u001b[0m\u001b[37m\u001b[0m \u001b[1m0s\u001b[0m 2ms/step - binary_accuracy: 0.8264 - loss: 0.3939 \n",
      "Epoch 19/45\n",
      "\u001b[1m14/14\u001b[0m \u001b[32m━━━━━━━━━━━━━━━━━━━━\u001b[0m\u001b[37m\u001b[0m \u001b[1m0s\u001b[0m 3ms/step - binary_accuracy: 0.8301 - loss: 0.3926 \n",
      "Epoch 20/45\n",
      "\u001b[1m14/14\u001b[0m \u001b[32m━━━━━━━━━━━━━━━━━━━━\u001b[0m\u001b[37m\u001b[0m \u001b[1m0s\u001b[0m 3ms/step - binary_accuracy: 0.8617 - loss: 0.3403 \n",
      "Epoch 21/45\n",
      "\u001b[1m14/14\u001b[0m \u001b[32m━━━━━━━━━━━━━━━━━━━━\u001b[0m\u001b[37m\u001b[0m \u001b[1m0s\u001b[0m 3ms/step - binary_accuracy: 0.8024 - loss: 0.4153 \n",
      "Epoch 22/45\n",
      "\u001b[1m14/14\u001b[0m \u001b[32m━━━━━━━━━━━━━━━━━━━━\u001b[0m\u001b[37m\u001b[0m \u001b[1m0s\u001b[0m 2ms/step - binary_accuracy: 0.8481 - loss: 0.3683 \n",
      "Epoch 23/45\n",
      "\u001b[1m14/14\u001b[0m \u001b[32m━━━━━━━━━━━━━━━━━━━━\u001b[0m\u001b[37m\u001b[0m \u001b[1m0s\u001b[0m 3ms/step - binary_accuracy: 0.8308 - loss: 0.3727 \n",
      "Epoch 24/45\n",
      "\u001b[1m14/14\u001b[0m \u001b[32m━━━━━━━━━━━━━━━━━━━━\u001b[0m\u001b[37m\u001b[0m \u001b[1m0s\u001b[0m 3ms/step - binary_accuracy: 0.8225 - loss: 0.3924 \n",
      "Epoch 25/45\n",
      "\u001b[1m14/14\u001b[0m \u001b[32m━━━━━━━━━━━━━━━━━━━━\u001b[0m\u001b[37m\u001b[0m \u001b[1m0s\u001b[0m 3ms/step - binary_accuracy: 0.8367 - loss: 0.4016 \n",
      "Epoch 26/45\n",
      "\u001b[1m14/14\u001b[0m \u001b[32m━━━━━━━━━━━━━━━━━━━━\u001b[0m\u001b[37m\u001b[0m \u001b[1m0s\u001b[0m 3ms/step - binary_accuracy: 0.8449 - loss: 0.3720 \n",
      "Epoch 27/45\n",
      "\u001b[1m14/14\u001b[0m \u001b[32m━━━━━━━━━━━━━━━━━━━━\u001b[0m\u001b[37m\u001b[0m \u001b[1m0s\u001b[0m 2ms/step - binary_accuracy: 0.8427 - loss: 0.3652 \n",
      "Epoch 28/45\n",
      "\u001b[1m14/14\u001b[0m \u001b[32m━━━━━━━━━━━━━━━━━━━━\u001b[0m\u001b[37m\u001b[0m \u001b[1m0s\u001b[0m 2ms/step - binary_accuracy: 0.8206 - loss: 0.4129 \n",
      "Epoch 29/45\n",
      "\u001b[1m14/14\u001b[0m \u001b[32m━━━━━━━━━━━━━━━━━━━━\u001b[0m\u001b[37m\u001b[0m \u001b[1m0s\u001b[0m 3ms/step - binary_accuracy: 0.8387 - loss: 0.3739 \n",
      "Epoch 30/45\n",
      "\u001b[1m14/14\u001b[0m \u001b[32m━━━━━━━━━━━━━━━━━━━━\u001b[0m\u001b[37m\u001b[0m \u001b[1m0s\u001b[0m 2ms/step - binary_accuracy: 0.8537 - loss: 0.3616 \n",
      "Epoch 31/45\n",
      "\u001b[1m14/14\u001b[0m \u001b[32m━━━━━━━━━━━━━━━━━━━━\u001b[0m\u001b[37m\u001b[0m \u001b[1m0s\u001b[0m 2ms/step - binary_accuracy: 0.8386 - loss: 0.4026 \n",
      "Epoch 32/45\n",
      "\u001b[1m14/14\u001b[0m \u001b[32m━━━━━━━━━━━━━━━━━━━━\u001b[0m\u001b[37m\u001b[0m \u001b[1m0s\u001b[0m 3ms/step - binary_accuracy: 0.8445 - loss: 0.3733 \n",
      "Epoch 33/45\n",
      "\u001b[1m14/14\u001b[0m \u001b[32m━━━━━━━━━━━━━━━━━━━━\u001b[0m\u001b[37m\u001b[0m \u001b[1m0s\u001b[0m 2ms/step - binary_accuracy: 0.8219 - loss: 0.3935 \n",
      "Epoch 34/45\n",
      "\u001b[1m14/14\u001b[0m \u001b[32m━━━━━━━━━━━━━━━━━━━━\u001b[0m\u001b[37m\u001b[0m \u001b[1m0s\u001b[0m 2ms/step - binary_accuracy: 0.8159 - loss: 0.4294 \n",
      "Epoch 35/45\n",
      "\u001b[1m14/14\u001b[0m \u001b[32m━━━━━━━━━━━━━━━━━━━━\u001b[0m\u001b[37m\u001b[0m \u001b[1m0s\u001b[0m 2ms/step - binary_accuracy: 0.8357 - loss: 0.3831 \n",
      "Epoch 36/45\n",
      "\u001b[1m14/14\u001b[0m \u001b[32m━━━━━━━━━━━━━━━━━━━━\u001b[0m\u001b[37m\u001b[0m \u001b[1m0s\u001b[0m 2ms/step - binary_accuracy: 0.8249 - loss: 0.4166 \n",
      "Epoch 37/45\n",
      "\u001b[1m14/14\u001b[0m \u001b[32m━━━━━━━━━━━━━━━━━━━━\u001b[0m\u001b[37m\u001b[0m \u001b[1m0s\u001b[0m 3ms/step - binary_accuracy: 0.8366 - loss: 0.3736 \n",
      "Epoch 38/45\n",
      "\u001b[1m14/14\u001b[0m \u001b[32m━━━━━━━━━━━━━━━━━━━━\u001b[0m\u001b[37m\u001b[0m \u001b[1m0s\u001b[0m 2ms/step - binary_accuracy: 0.8189 - loss: 0.3990 \n",
      "Epoch 39/45\n",
      "\u001b[1m14/14\u001b[0m \u001b[32m━━━━━━━━━━━━━━━━━━━━\u001b[0m\u001b[37m\u001b[0m \u001b[1m0s\u001b[0m 3ms/step - binary_accuracy: 0.8343 - loss: 0.3911 \n",
      "Epoch 40/45\n",
      "\u001b[1m14/14\u001b[0m \u001b[32m━━━━━━━━━━━━━━━━━━━━\u001b[0m\u001b[37m\u001b[0m \u001b[1m0s\u001b[0m 2ms/step - binary_accuracy: 0.8570 - loss: 0.3493 \n",
      "Epoch 41/45\n",
      "\u001b[1m14/14\u001b[0m \u001b[32m━━━━━━━━━━━━━━━━━━━━\u001b[0m\u001b[37m\u001b[0m \u001b[1m0s\u001b[0m 2ms/step - binary_accuracy: 0.8297 - loss: 0.4089 \n",
      "Epoch 42/45\n",
      "\u001b[1m14/14\u001b[0m \u001b[32m━━━━━━━━━━━━━━━━━━━━\u001b[0m\u001b[37m\u001b[0m \u001b[1m0s\u001b[0m 3ms/step - binary_accuracy: 0.8460 - loss: 0.3563 \n",
      "Epoch 43/45\n",
      "\u001b[1m14/14\u001b[0m \u001b[32m━━━━━━━━━━━━━━━━━━━━\u001b[0m\u001b[37m\u001b[0m \u001b[1m0s\u001b[0m 2ms/step - binary_accuracy: 0.8277 - loss: 0.3951 \n",
      "Epoch 44/45\n",
      "\u001b[1m14/14\u001b[0m \u001b[32m━━━━━━━━━━━━━━━━━━━━\u001b[0m\u001b[37m\u001b[0m \u001b[1m0s\u001b[0m 3ms/step - binary_accuracy: 0.8253 - loss: 0.3920 \n",
      "Epoch 45/45\n",
      "\u001b[1m14/14\u001b[0m \u001b[32m━━━━━━━━━━━━━━━━━━━━\u001b[0m\u001b[37m\u001b[0m \u001b[1m0s\u001b[0m 4ms/step - binary_accuracy: 0.8528 - loss: 0.3595 \n",
      "\u001b[1m14/14\u001b[0m \u001b[32m━━━━━━━━━━━━━━━━━━━━\u001b[0m\u001b[37m\u001b[0m \u001b[1m0s\u001b[0m 5ms/step\n",
      "Your submission was successfully saved!\n"
     ]
    }
   ],
   "source": [
    "# Preprocessing of training data, fit model\n",
    "model.fit(X, y, batch_size=64, epochs=45)\n",
    "\n",
    "# Preprocessing of validation data, get predictions\n",
    "y_pred = (model.predict(X_test) > 0.5).astype(np.intc)\n",
    "\n",
    "predictions = np.concatenate(y_pred)\n",
    "\n",
    "# Saving the predictions\n",
    "output = pd.DataFrame({\"PassengerId\": test_data.index, \"Survived\": predictions})\n",
    "\n",
    "if not os.path.isdir(\"output/\"):\n",
    "    os.mkdir(\"output/\")\n",
    "\n",
    "output.to_csv(\"output/submission.csv\", index=False)\n",
    "\n",
    "print(\"Your submission was successfully saved!\")"
   ]
  },
  {
   "cell_type": "code",
   "execution_count": null,
   "id": "bc46bbad",
   "metadata": {},
   "outputs": [],
   "source": []
  }
 ],
 "metadata": {
  "kaggle": {
   "accelerator": "none",
   "dataSources": [
    {
     "databundleVersionId": 26502,
     "sourceId": 3136,
     "sourceType": "competition"
    }
   ],
   "dockerImageVersionId": 30646,
   "isGpuEnabled": false,
   "isInternetEnabled": false,
   "language": "python",
   "sourceType": "notebook"
  },
  "kernelspec": {
   "display_name": "titanic-comp-venv",
   "language": "python",
   "name": "python3"
  },
  "language_info": {
   "codemirror_mode": {
    "name": "ipython",
    "version": 3
   },
   "file_extension": ".py",
   "mimetype": "text/x-python",
   "name": "python",
   "nbconvert_exporter": "python",
   "pygments_lexer": "ipython3",
   "version": "3.10.11"
  },
  "papermill": {
   "default_parameters": {},
   "duration": 77.245806,
   "end_time": "2024-09-18T17:35:01.531921",
   "environment_variables": {},
   "exception": null,
   "input_path": "__notebook__.ipynb",
   "output_path": "__notebook__.ipynb",
   "parameters": {},
   "start_time": "2024-09-18T17:33:44.286115",
   "version": "2.5.0"
  }
 },
 "nbformat": 4,
 "nbformat_minor": 5
}
