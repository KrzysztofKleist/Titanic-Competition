{
 "cells": [
  {
   "cell_type": "markdown",
   "id": "0f97cab3",
   "metadata": {
    "papermill": {
     "duration": 0.007752,
     "end_time": "2024-09-18T17:33:47.101537",
     "exception": false,
     "start_time": "2024-09-18T17:33:47.093785",
     "status": "completed"
    },
    "tags": []
   },
   "source": [
    "# Titanic Competition - Deep Learning"
   ]
  },
  {
   "cell_type": "code",
   "execution_count": 1,
   "id": "0abd26e9",
   "metadata": {
    "execution": {
     "iopub.execute_input": "2024-09-18T17:33:47.117246Z",
     "iopub.status.busy": "2024-09-18T17:33:47.116905Z",
     "iopub.status.idle": "2024-09-18T17:33:47.128300Z",
     "shell.execute_reply": "2024-09-18T17:33:47.127392Z"
    },
    "papermill": {
     "duration": 0.021659,
     "end_time": "2024-09-18T17:33:47.130339",
     "exception": false,
     "start_time": "2024-09-18T17:33:47.108680",
     "status": "completed"
    },
    "tags": []
   },
   "outputs": [],
   "source": [
    "# Hyperparameters\n",
    "BATCH_SIZE = 64\n",
    "EPOCHS = 100\n",
    "LR = 0.01\n",
    "MOMENTUM = 0.9\n",
    "DECAY = 0.01"
   ]
  },
  {
   "cell_type": "code",
   "execution_count": 2,
   "id": "a14cd2cf",
   "metadata": {
    "execution": {
     "iopub.execute_input": "2024-09-18T17:33:47.146509Z",
     "iopub.status.busy": "2024-09-18T17:33:47.145858Z",
     "iopub.status.idle": "2024-09-18T17:33:49.145814Z",
     "shell.execute_reply": "2024-09-18T17:33:49.144928Z"
    },
    "papermill": {
     "duration": 2.010269,
     "end_time": "2024-09-18T17:33:49.148069",
     "exception": false,
     "start_time": "2024-09-18T17:33:47.137800",
     "status": "completed"
    },
    "tags": []
   },
   "outputs": [],
   "source": [
    "# Setup plotting\n",
    "import matplotlib.pyplot as plt\n",
    "\n",
    "plt.style.use(\"seaborn-v0_8-whitegrid\")\n",
    "# Set Matplotlib defaults\n",
    "plt.rc(\"figure\", autolayout=True)\n",
    "plt.rc(\n",
    "    \"axes\",\n",
    "    labelweight=\"bold\",\n",
    "    labelsize=\"large\",\n",
    "    titleweight=\"bold\",\n",
    "    titlesize=18,\n",
    "    titlepad=10,\n",
    ")\n",
    "plt.rc(\"animation\", html=\"html5\")\n",
    "\n",
    "import numpy as np  # linear algebra\n",
    "import pandas as pd  # data processing, CSV file I/O (e.g. pd.read_csv)\n",
    "from sklearn.model_selection import train_test_split\n",
    "from sklearn.metrics import accuracy_score\n",
    "from sklearn.model_selection import cross_val_score\n",
    "\n",
    "from sklearn.compose import ColumnTransformer\n",
    "from sklearn.pipeline import Pipeline\n",
    "from sklearn.impute import SimpleImputer\n",
    "from sklearn.preprocessing import OneHotEncoder\n",
    "\n",
    "import os\n",
    "\n",
    "from tensorflow import keras\n",
    "from tensorflow.keras import layers\n",
    "from tensorflow.keras.optimizers import SGD, Adam\n",
    "from tensorflow.keras.callbacks import LearningRateScheduler\n",
    "\n",
    "from utils import (\n",
    "    get_variable_name,\n",
    "    get_num_missing_values,\n",
    "    get_categorical_columns,\n",
    "    MyModel,\n",
    ")"
   ]
  },
  {
   "cell_type": "markdown",
   "id": "d421e770",
   "metadata": {},
   "source": [
    "## Preprocessing"
   ]
  },
  {
   "cell_type": "code",
   "execution_count": 3,
   "id": "c9c213bb",
   "metadata": {
    "execution": {
     "iopub.execute_input": "2024-09-18T17:33:49.191385Z",
     "iopub.status.busy": "2024-09-18T17:33:49.190685Z",
     "iopub.status.idle": "2024-09-18T17:33:49.237352Z",
     "shell.execute_reply": "2024-09-18T17:33:49.236421Z"
    },
    "papermill": {
     "duration": 0.056909,
     "end_time": "2024-09-18T17:33:49.239675",
     "exception": false,
     "start_time": "2024-09-18T17:33:49.182766",
     "status": "completed"
    },
    "tags": []
   },
   "outputs": [],
   "source": [
    "# Read the data\n",
    "train_data = pd.read_csv(\"../input/train.csv\").set_index(\"PassengerId\")\n",
    "test_data = pd.read_csv(\"../input/test.csv\").set_index(\"PassengerId\")\n",
    "\n",
    "X = train_data.copy()\n",
    "X_test = test_data.copy()\n",
    "\n",
    "# Drop rows with empty label value\n",
    "X.dropna(axis=0, subset=[\"Survived\"], inplace=True)\n",
    "y = X.Survived\n",
    "X.drop([\"Survived\"], axis=1, inplace=True)"
   ]
  },
  {
   "cell_type": "code",
   "execution_count": 4,
   "id": "ee8df1c3",
   "metadata": {
    "execution": {
     "iopub.execute_input": "2024-09-18T17:33:49.255372Z",
     "iopub.status.busy": "2024-09-18T17:33:49.255081Z",
     "iopub.status.idle": "2024-09-18T17:33:49.261230Z",
     "shell.execute_reply": "2024-09-18T17:33:49.260462Z"
    },
    "papermill": {
     "duration": 0.016135,
     "end_time": "2024-09-18T17:33:49.263194",
     "exception": false,
     "start_time": "2024-09-18T17:33:49.247059",
     "status": "completed"
    },
    "tags": []
   },
   "outputs": [],
   "source": [
    "# What can be definitely dropped?\n",
    "# Name, Ticket\n",
    "X.drop(['Name', 'Ticket'], axis=1, inplace=True)\n",
    "X_test.drop(['Name', 'Ticket'], axis=1, inplace=True)"
   ]
  },
  {
   "cell_type": "code",
   "execution_count": 5,
   "id": "bd5e5585",
   "metadata": {
    "execution": {
     "iopub.execute_input": "2024-09-18T17:33:49.279078Z",
     "iopub.status.busy": "2024-09-18T17:33:49.278802Z",
     "iopub.status.idle": "2024-09-18T17:33:49.295273Z",
     "shell.execute_reply": "2024-09-18T17:33:49.294420Z"
    },
    "papermill": {
     "duration": 0.026556,
     "end_time": "2024-09-18T17:33:49.297248",
     "exception": false,
     "start_time": "2024-09-18T17:33:49.270692",
     "status": "completed"
    },
    "tags": []
   },
   "outputs": [
    {
     "data": {
      "text/html": [
       "<div>\n",
       "<style scoped>\n",
       "    .dataframe tbody tr th:only-of-type {\n",
       "        vertical-align: middle;\n",
       "    }\n",
       "\n",
       "    .dataframe tbody tr th {\n",
       "        vertical-align: top;\n",
       "    }\n",
       "\n",
       "    .dataframe thead th {\n",
       "        text-align: right;\n",
       "    }\n",
       "</style>\n",
       "<table border=\"1\" class=\"dataframe\">\n",
       "  <thead>\n",
       "    <tr style=\"text-align: right;\">\n",
       "      <th></th>\n",
       "      <th>Pclass</th>\n",
       "      <th>Sex</th>\n",
       "      <th>Age</th>\n",
       "      <th>SibSp</th>\n",
       "      <th>Parch</th>\n",
       "      <th>Fare</th>\n",
       "      <th>Cabin</th>\n",
       "      <th>Embarked</th>\n",
       "    </tr>\n",
       "    <tr>\n",
       "      <th>PassengerId</th>\n",
       "      <th></th>\n",
       "      <th></th>\n",
       "      <th></th>\n",
       "      <th></th>\n",
       "      <th></th>\n",
       "      <th></th>\n",
       "      <th></th>\n",
       "      <th></th>\n",
       "    </tr>\n",
       "  </thead>\n",
       "  <tbody>\n",
       "    <tr>\n",
       "      <th>1</th>\n",
       "      <td>3</td>\n",
       "      <td>male</td>\n",
       "      <td>22.0</td>\n",
       "      <td>1</td>\n",
       "      <td>0</td>\n",
       "      <td>7.2500</td>\n",
       "      <td>NaN</td>\n",
       "      <td>S</td>\n",
       "    </tr>\n",
       "    <tr>\n",
       "      <th>2</th>\n",
       "      <td>1</td>\n",
       "      <td>female</td>\n",
       "      <td>38.0</td>\n",
       "      <td>1</td>\n",
       "      <td>0</td>\n",
       "      <td>71.2833</td>\n",
       "      <td>C85</td>\n",
       "      <td>C</td>\n",
       "    </tr>\n",
       "    <tr>\n",
       "      <th>3</th>\n",
       "      <td>3</td>\n",
       "      <td>female</td>\n",
       "      <td>26.0</td>\n",
       "      <td>0</td>\n",
       "      <td>0</td>\n",
       "      <td>7.9250</td>\n",
       "      <td>NaN</td>\n",
       "      <td>S</td>\n",
       "    </tr>\n",
       "    <tr>\n",
       "      <th>4</th>\n",
       "      <td>1</td>\n",
       "      <td>female</td>\n",
       "      <td>35.0</td>\n",
       "      <td>1</td>\n",
       "      <td>0</td>\n",
       "      <td>53.1000</td>\n",
       "      <td>C123</td>\n",
       "      <td>S</td>\n",
       "    </tr>\n",
       "    <tr>\n",
       "      <th>5</th>\n",
       "      <td>3</td>\n",
       "      <td>male</td>\n",
       "      <td>35.0</td>\n",
       "      <td>0</td>\n",
       "      <td>0</td>\n",
       "      <td>8.0500</td>\n",
       "      <td>NaN</td>\n",
       "      <td>S</td>\n",
       "    </tr>\n",
       "  </tbody>\n",
       "</table>\n",
       "</div>"
      ],
      "text/plain": [
       "             Pclass     Sex   Age  SibSp  Parch     Fare Cabin Embarked\n",
       "PassengerId                                                            \n",
       "1                 3    male  22.0      1      0   7.2500   NaN        S\n",
       "2                 1  female  38.0      1      0  71.2833   C85        C\n",
       "3                 3  female  26.0      0      0   7.9250   NaN        S\n",
       "4                 1  female  35.0      1      0  53.1000  C123        S\n",
       "5                 3    male  35.0      0      0   8.0500   NaN        S"
      ]
     },
     "execution_count": 5,
     "metadata": {},
     "output_type": "execute_result"
    }
   ],
   "source": [
    "X.head()"
   ]
  },
  {
   "cell_type": "code",
   "execution_count": 6,
   "id": "be6b57c7",
   "metadata": {
    "execution": {
     "iopub.execute_input": "2024-09-18T17:33:49.313547Z",
     "iopub.status.busy": "2024-09-18T17:33:49.313250Z",
     "iopub.status.idle": "2024-09-18T17:33:49.323440Z",
     "shell.execute_reply": "2024-09-18T17:33:49.322526Z"
    },
    "papermill": {
     "duration": 0.021026,
     "end_time": "2024-09-18T17:33:49.325778",
     "exception": false,
     "start_time": "2024-09-18T17:33:49.304752",
     "status": "completed"
    },
    "tags": []
   },
   "outputs": [
    {
     "name": "stdout",
     "output_type": "stream",
     "text": [
      "Missing values in variable columns:\n",
      "Age         177\n",
      "Cabin       687\n",
      "Embarked      2\n",
      "dtype: int64\n"
     ]
    }
   ],
   "source": [
    "get_num_missing_values(X)"
   ]
  },
  {
   "cell_type": "code",
   "execution_count": 7,
   "id": "8328c8a9",
   "metadata": {},
   "outputs": [
    {
     "name": "stdout",
     "output_type": "stream",
     "text": [
      "variable columns with categorical data:\n",
      "[('Sex', 2), ('Embarked', 3), ('Cabin', 147)]\n"
     ]
    }
   ],
   "source": [
    "get_categorical_columns(X)"
   ]
  },
  {
   "cell_type": "code",
   "execution_count": 8,
   "id": "857607c8",
   "metadata": {
    "execution": {
     "iopub.execute_input": "2024-09-18T17:33:49.342628Z",
     "iopub.status.busy": "2024-09-18T17:33:49.342333Z",
     "iopub.status.idle": "2024-09-18T17:33:49.349032Z",
     "shell.execute_reply": "2024-09-18T17:33:49.348273Z"
    },
    "papermill": {
     "duration": 0.017003,
     "end_time": "2024-09-18T17:33:49.351105",
     "exception": false,
     "start_time": "2024-09-18T17:33:49.334102",
     "status": "completed"
    },
    "tags": []
   },
   "outputs": [
    {
     "name": "stdout",
     "output_type": "stream",
     "text": [
      "Missing values in variable columns:\n",
      "Age       86\n",
      "Fare       1\n",
      "Cabin    327\n",
      "dtype: int64\n"
     ]
    }
   ],
   "source": [
    "get_num_missing_values(X_test)"
   ]
  },
  {
   "cell_type": "code",
   "execution_count": 9,
   "id": "72e564f6",
   "metadata": {},
   "outputs": [
    {
     "name": "stdout",
     "output_type": "stream",
     "text": [
      "variable columns with categorical data:\n",
      "[('Sex', 2), ('Embarked', 3), ('Cabin', 76)]\n"
     ]
    }
   ],
   "source": [
    "get_categorical_columns(X_test)"
   ]
  },
  {
   "cell_type": "code",
   "execution_count": 10,
   "id": "5aa99502",
   "metadata": {
    "execution": {
     "iopub.execute_input": "2024-09-18T17:33:49.367312Z",
     "iopub.status.busy": "2024-09-18T17:33:49.367052Z",
     "iopub.status.idle": "2024-09-18T17:33:49.372753Z",
     "shell.execute_reply": "2024-09-18T17:33:49.371950Z"
    },
    "papermill": {
     "duration": 0.016134,
     "end_time": "2024-09-18T17:33:49.374657",
     "exception": false,
     "start_time": "2024-09-18T17:33:49.358523",
     "status": "completed"
    },
    "tags": []
   },
   "outputs": [],
   "source": [
    "# With so many Cabin entries missing, the Cabin column can also be removed\n",
    "X.drop(['Cabin'], axis=1, inplace=True)\n",
    "X_test.drop(['Cabin'], axis=1, inplace=True)"
   ]
  },
  {
   "cell_type": "markdown",
   "id": "19ff9b2e",
   "metadata": {
    "papermill": {
     "duration": 0.007229,
     "end_time": "2024-09-18T17:33:49.389290",
     "exception": false,
     "start_time": "2024-09-18T17:33:49.382061",
     "status": "completed"
    },
    "tags": []
   },
   "source": [
    "### Optional dropping Age column"
   ]
  },
  {
   "cell_type": "code",
   "execution_count": 11,
   "id": "b0ebc19f",
   "metadata": {
    "execution": {
     "iopub.execute_input": "2024-09-18T17:33:49.405846Z",
     "iopub.status.busy": "2024-09-18T17:33:49.405150Z",
     "iopub.status.idle": "2024-09-18T17:33:49.410480Z",
     "shell.execute_reply": "2024-09-18T17:33:49.409625Z"
    },
    "papermill": {
     "duration": 0.015646,
     "end_time": "2024-09-18T17:33:49.412344",
     "exception": false,
     "start_time": "2024-09-18T17:33:49.396698",
     "status": "completed"
    },
    "tags": []
   },
   "outputs": [],
   "source": [
    "# Select categorical columns\n",
    "categorical_cols = [cname for cname in X.columns if X[cname].dtype == 'object']\n",
    "# Select numerical columns\n",
    "numerical_cols = [\n",
    "    cname for cname in X.columns if X[cname].dtype in ['int64', 'float64']\n",
    "]\n",
    "# Keep selected columns only\n",
    "my_cols = categorical_cols + numerical_cols"
   ]
  },
  {
   "cell_type": "code",
   "execution_count": 12,
   "id": "8a7c3bfa",
   "metadata": {
    "execution": {
     "iopub.execute_input": "2024-09-18T17:33:49.429254Z",
     "iopub.status.busy": "2024-09-18T17:33:49.428952Z",
     "iopub.status.idle": "2024-09-18T17:33:49.433265Z",
     "shell.execute_reply": "2024-09-18T17:33:49.432452Z"
    },
    "papermill": {
     "duration": 0.015173,
     "end_time": "2024-09-18T17:33:49.435554",
     "exception": false,
     "start_time": "2024-09-18T17:33:49.420381",
     "status": "completed"
    },
    "tags": []
   },
   "outputs": [
    {
     "name": "stdout",
     "output_type": "stream",
     "text": [
      "['Sex', 'Embarked']\n",
      "['Pclass', 'Age', 'SibSp', 'Parch', 'Fare']\n",
      "['Sex', 'Embarked', 'Pclass', 'Age', 'SibSp', 'Parch', 'Fare']\n"
     ]
    }
   ],
   "source": [
    "print(categorical_cols)\n",
    "print(numerical_cols)\n",
    "print(my_cols)"
   ]
  },
  {
   "cell_type": "code",
   "execution_count": 13,
   "id": "591ccd35",
   "metadata": {
    "execution": {
     "iopub.execute_input": "2024-09-18T17:33:49.452131Z",
     "iopub.status.busy": "2024-09-18T17:33:49.451856Z",
     "iopub.status.idle": "2024-09-18T17:33:49.456946Z",
     "shell.execute_reply": "2024-09-18T17:33:49.456130Z"
    },
    "papermill": {
     "duration": 0.015596,
     "end_time": "2024-09-18T17:33:49.458830",
     "exception": false,
     "start_time": "2024-09-18T17:33:49.443234",
     "status": "completed"
    },
    "tags": []
   },
   "outputs": [],
   "source": [
    "# Preprocessing for numerical data\n",
    "numerical_transformer = SimpleImputer(strategy='mean')\n",
    "\n",
    "# Preprocessing for categorical data\n",
    "categorical_transformer = Pipeline(\n",
    "    steps=[\n",
    "        ('imputer', SimpleImputer(strategy='most_frequent')),\n",
    "        ('onehot', OneHotEncoder(handle_unknown='ignore')),\n",
    "    ]\n",
    ")\n",
    "\n",
    "# Bundle preprocessing for numerical and categorical data\n",
    "preprocessor = ColumnTransformer(\n",
    "    transformers=[\n",
    "        ('num', numerical_transformer, numerical_cols),\n",
    "        ('cat', categorical_transformer, categorical_cols),\n",
    "    ]\n",
    ")"
   ]
  },
  {
   "cell_type": "markdown",
   "id": "fc3c0d0e",
   "metadata": {
    "papermill": {
     "duration": 0.007387,
     "end_time": "2024-09-18T17:33:49.473774",
     "exception": false,
     "start_time": "2024-09-18T17:33:49.466387",
     "status": "completed"
    },
    "tags": []
   },
   "source": [
    "### Transform both the training and the test data"
   ]
  },
  {
   "cell_type": "code",
   "execution_count": 14,
   "id": "e5a4a3a6",
   "metadata": {
    "execution": {
     "iopub.execute_input": "2024-09-18T17:33:49.490131Z",
     "iopub.status.busy": "2024-09-18T17:33:49.489621Z",
     "iopub.status.idle": "2024-09-18T17:33:49.511308Z",
     "shell.execute_reply": "2024-09-18T17:33:49.510455Z"
    },
    "papermill": {
     "duration": 0.03207,
     "end_time": "2024-09-18T17:33:49.513290",
     "exception": false,
     "start_time": "2024-09-18T17:33:49.481220",
     "status": "completed"
    },
    "tags": []
   },
   "outputs": [],
   "source": [
    "X = preprocessor.fit_transform(X)\n",
    "X_test = preprocessor.transform(X_test)"
   ]
  },
  {
   "cell_type": "markdown",
   "id": "59a538c9",
   "metadata": {
    "papermill": {
     "duration": 0.007425,
     "end_time": "2024-09-18T17:33:49.528696",
     "exception": false,
     "start_time": "2024-09-18T17:33:49.521271",
     "status": "completed"
    },
    "tags": []
   },
   "source": [
    "## Define the model"
   ]
  },
  {
   "cell_type": "code",
   "execution_count": 15,
   "id": "bb910234",
   "metadata": {
    "execution": {
     "iopub.execute_input": "2024-09-18T17:33:49.545457Z",
     "iopub.status.busy": "2024-09-18T17:33:49.545126Z",
     "iopub.status.idle": "2024-09-18T17:33:49.549233Z",
     "shell.execute_reply": "2024-09-18T17:33:49.548399Z"
    },
    "papermill": {
     "duration": 0.01474,
     "end_time": "2024-09-18T17:33:49.551028",
     "exception": false,
     "start_time": "2024-09-18T17:33:49.536288",
     "status": "completed"
    },
    "tags": []
   },
   "outputs": [],
   "source": [
    "input_shape = [X.shape[1]]"
   ]
  },
  {
   "cell_type": "code",
   "execution_count": 17,
   "id": "9c57ceff",
   "metadata": {
    "execution": {
     "iopub.execute_input": "2024-09-18T17:34:02.141848Z",
     "iopub.status.busy": "2024-09-18T17:34:02.141155Z",
     "iopub.status.idle": "2024-09-18T17:34:02.163181Z",
     "shell.execute_reply": "2024-09-18T17:34:02.162440Z"
    },
    "papermill": {
     "duration": 0.033885,
     "end_time": "2024-09-18T17:34:02.165380",
     "exception": false,
     "start_time": "2024-09-18T17:34:02.131495",
     "status": "completed"
    },
    "tags": []
   },
   "outputs": [],
   "source": [
    "def model_init():\n",
    "\n",
    "    model = MyModel()\n",
    "\n",
    "    opt = SGD(learning_rate=LR, momentum=MOMENTUM, weight_decay=DECAY)\n",
    "    # opt = Adam()\n",
    "\n",
    "    def my_learning_rate(epoch, lrate):\n",
    "        return lrate\n",
    "\n",
    "    lrs = LearningRateScheduler(my_learning_rate)\n",
    "\n",
    "    model.compile(\n",
    "        optimizer=opt,\n",
    "        loss=\"binary_crossentropy\",\n",
    "        metrics=[\"binary_accuracy\"],\n",
    "    )\n",
    "\n",
    "    early_stopping = keras.callbacks.EarlyStopping(\n",
    "        patience=15,\n",
    "        min_delta=0.002,\n",
    "        restore_best_weights=True,\n",
    "    )\n",
    "\n",
    "    return model, early_stopping, lrs"
   ]
  },
  {
   "cell_type": "markdown",
   "id": "f692a7ca",
   "metadata": {
    "papermill": {
     "duration": 0.00769,
     "end_time": "2024-09-18T17:34:02.181440",
     "exception": false,
     "start_time": "2024-09-18T17:34:02.173750",
     "status": "completed"
    },
    "tags": []
   },
   "source": [
    "## Start testing"
   ]
  },
  {
   "cell_type": "code",
   "execution_count": 17,
   "id": "53a20627",
   "metadata": {
    "execution": {
     "iopub.execute_input": "2024-09-18T17:34:02.198756Z",
     "iopub.status.busy": "2024-09-18T17:34:02.198385Z",
     "iopub.status.idle": "2024-09-18T17:34:49.536256Z",
     "shell.execute_reply": "2024-09-18T17:34:49.535303Z"
    },
    "papermill": {
     "duration": 47.348967,
     "end_time": "2024-09-18T17:34:49.538439",
     "exception": false,
     "start_time": "2024-09-18T17:34:02.189472",
     "status": "completed"
    },
    "tags": []
   },
   "outputs": [
    {
     "name": "stdout",
     "output_type": "stream",
     "text": [
      "============================ Run 1/5 ============================\n",
      "Epoch 1/100\n"
     ]
    },
    {
     "name": "stderr",
     "output_type": "stream",
     "text": [
      "WARNING: All log messages before absl::InitializeLog() is called are written to STDERR\n",
      "I0000 00:00:1726680847.137410      69 device_compiler.h:186] Compiled cluster using XLA!  This line is logged at most once for the lifetime of the process.\n"
     ]
    },
    {
     "name": "stdout",
     "output_type": "stream",
     "text": [
      "12/12 [==============================] - 5s 29ms/step - loss: 0.6588 - binary_accuracy: 0.7051 - val_loss: 0.6006 - val_binary_accuracy: 0.6592 - lr: 0.0100\n",
      "Epoch 2/100\n",
      "12/12 [==============================] - 0s 8ms/step - loss: 0.5412 - binary_accuracy: 0.7992 - val_loss: 0.5706 - val_binary_accuracy: 0.6983 - lr: 0.0100\n",
      "Epoch 3/100\n",
      "12/12 [==============================] - 0s 8ms/step - loss: 0.5357 - binary_accuracy: 0.7725 - val_loss: 0.5729 - val_binary_accuracy: 0.7207 - lr: 0.0100\n",
      "Epoch 4/100\n",
      "12/12 [==============================] - 0s 8ms/step - loss: 0.5062 - binary_accuracy: 0.7963 - val_loss: 0.5729 - val_binary_accuracy: 0.7095 - lr: 0.0100\n",
      "Epoch 5/100\n",
      "12/12 [==============================] - 0s 8ms/step - loss: 0.4583 - binary_accuracy: 0.8048 - val_loss: 0.5609 - val_binary_accuracy: 0.7318 - lr: 0.0100\n",
      "Epoch 6/100\n",
      "12/12 [==============================] - 0s 8ms/step - loss: 0.4457 - binary_accuracy: 0.8048 - val_loss: 0.5599 - val_binary_accuracy: 0.7374 - lr: 0.0100\n",
      "Epoch 7/100\n",
      "12/12 [==============================] - 0s 8ms/step - loss: 0.4803 - binary_accuracy: 0.8160 - val_loss: 0.5686 - val_binary_accuracy: 0.7263 - lr: 0.0100\n",
      "Epoch 8/100\n",
      "12/12 [==============================] - 0s 8ms/step - loss: 0.4320 - binary_accuracy: 0.8146 - val_loss: 0.5501 - val_binary_accuracy: 0.7374 - lr: 0.0100\n",
      "Epoch 9/100\n",
      "12/12 [==============================] - 0s 8ms/step - loss: 0.4377 - binary_accuracy: 0.8202 - val_loss: 0.5528 - val_binary_accuracy: 0.7430 - lr: 0.0100\n",
      "Epoch 10/100\n",
      "12/12 [==============================] - 0s 8ms/step - loss: 0.4336 - binary_accuracy: 0.8146 - val_loss: 0.5495 - val_binary_accuracy: 0.7430 - lr: 0.0100\n",
      "Epoch 11/100\n",
      "12/12 [==============================] - 0s 8ms/step - loss: 0.4225 - binary_accuracy: 0.8132 - val_loss: 0.5274 - val_binary_accuracy: 0.7765 - lr: 0.0100\n",
      "Epoch 12/100\n",
      "12/12 [==============================] - 0s 8ms/step - loss: 0.4303 - binary_accuracy: 0.8104 - val_loss: 0.5254 - val_binary_accuracy: 0.7933 - lr: 0.0100\n",
      "Epoch 13/100\n",
      "12/12 [==============================] - 0s 8ms/step - loss: 0.4748 - binary_accuracy: 0.8006 - val_loss: 0.5129 - val_binary_accuracy: 0.7933 - lr: 0.0100\n",
      "Epoch 14/100\n",
      "12/12 [==============================] - 0s 8ms/step - loss: 0.4426 - binary_accuracy: 0.7992 - val_loss: 0.4854 - val_binary_accuracy: 0.7821 - lr: 0.0100\n",
      "Epoch 15/100\n",
      "12/12 [==============================] - 0s 8ms/step - loss: 0.4325 - binary_accuracy: 0.8202 - val_loss: 0.4856 - val_binary_accuracy: 0.7989 - lr: 0.0100\n",
      "Epoch 16/100\n",
      "12/12 [==============================] - 0s 8ms/step - loss: 0.4558 - binary_accuracy: 0.8006 - val_loss: 0.4760 - val_binary_accuracy: 0.7765 - lr: 0.0100\n",
      "Epoch 17/100\n",
      "12/12 [==============================] - 0s 8ms/step - loss: 0.4467 - binary_accuracy: 0.8160 - val_loss: 0.4549 - val_binary_accuracy: 0.7989 - lr: 0.0100\n",
      "Epoch 18/100\n",
      "12/12 [==============================] - 0s 8ms/step - loss: 0.4397 - binary_accuracy: 0.8315 - val_loss: 0.4592 - val_binary_accuracy: 0.7821 - lr: 0.0100\n",
      "Epoch 19/100\n",
      "12/12 [==============================] - 0s 8ms/step - loss: 0.4432 - binary_accuracy: 0.8132 - val_loss: 0.4592 - val_binary_accuracy: 0.7933 - lr: 0.0100\n",
      "Epoch 20/100\n",
      "12/12 [==============================] - 0s 9ms/step - loss: 0.4459 - binary_accuracy: 0.8104 - val_loss: 0.4568 - val_binary_accuracy: 0.7821 - lr: 0.0100\n",
      "Epoch 21/100\n",
      "12/12 [==============================] - 0s 9ms/step - loss: 0.4366 - binary_accuracy: 0.8202 - val_loss: 0.4296 - val_binary_accuracy: 0.8156 - lr: 0.0100\n",
      "Epoch 22/100\n",
      "12/12 [==============================] - 0s 8ms/step - loss: 0.4395 - binary_accuracy: 0.8146 - val_loss: 0.4381 - val_binary_accuracy: 0.8268 - lr: 0.0100\n",
      "Epoch 23/100\n",
      "12/12 [==============================] - 0s 8ms/step - loss: 0.4260 - binary_accuracy: 0.8174 - val_loss: 0.4438 - val_binary_accuracy: 0.8268 - lr: 0.0100\n",
      "Epoch 24/100\n",
      "12/12 [==============================] - 0s 8ms/step - loss: 0.4351 - binary_accuracy: 0.8104 - val_loss: 0.4274 - val_binary_accuracy: 0.8212 - lr: 0.0100\n",
      "Epoch 25/100\n",
      "12/12 [==============================] - 0s 8ms/step - loss: 0.4269 - binary_accuracy: 0.8174 - val_loss: 0.4080 - val_binary_accuracy: 0.8268 - lr: 0.0100\n",
      "Epoch 26/100\n",
      "12/12 [==============================] - 0s 8ms/step - loss: 0.4285 - binary_accuracy: 0.8216 - val_loss: 0.4125 - val_binary_accuracy: 0.8268 - lr: 0.0100\n",
      "Epoch 27/100\n",
      "12/12 [==============================] - 0s 8ms/step - loss: 0.4216 - binary_accuracy: 0.8118 - val_loss: 0.4171 - val_binary_accuracy: 0.8324 - lr: 0.0100\n",
      "Epoch 28/100\n",
      "12/12 [==============================] - 0s 8ms/step - loss: 0.4334 - binary_accuracy: 0.8174 - val_loss: 0.4085 - val_binary_accuracy: 0.8268 - lr: 0.0100\n",
      "Epoch 29/100\n",
      "12/12 [==============================] - 0s 8ms/step - loss: 0.4251 - binary_accuracy: 0.8202 - val_loss: 0.4173 - val_binary_accuracy: 0.8324 - lr: 0.0100\n",
      "Epoch 30/100\n",
      "12/12 [==============================] - 0s 7ms/step - loss: 0.4418 - binary_accuracy: 0.8006 - val_loss: 0.4071 - val_binary_accuracy: 0.8324 - lr: 0.0100\n",
      "Epoch 31/100\n",
      "12/12 [==============================] - 0s 8ms/step - loss: 0.4385 - binary_accuracy: 0.8216 - val_loss: 0.3810 - val_binary_accuracy: 0.8212 - lr: 0.0100\n",
      "Epoch 32/100\n",
      "12/12 [==============================] - 0s 8ms/step - loss: 0.4094 - binary_accuracy: 0.8301 - val_loss: 0.4023 - val_binary_accuracy: 0.8380 - lr: 0.0100\n",
      "Epoch 33/100\n",
      "12/12 [==============================] - 0s 8ms/step - loss: 0.4012 - binary_accuracy: 0.8258 - val_loss: 0.3993 - val_binary_accuracy: 0.7933 - lr: 0.0100\n",
      "Epoch 34/100\n",
      "12/12 [==============================] - 0s 8ms/step - loss: 0.4162 - binary_accuracy: 0.8244 - val_loss: 0.3996 - val_binary_accuracy: 0.8324 - lr: 0.0100\n",
      "Epoch 35/100\n",
      "12/12 [==============================] - 0s 8ms/step - loss: 0.3981 - binary_accuracy: 0.8385 - val_loss: 0.3884 - val_binary_accuracy: 0.8324 - lr: 0.0100\n",
      "Epoch 36/100\n",
      "12/12 [==============================] - 0s 9ms/step - loss: 0.4204 - binary_accuracy: 0.8118 - val_loss: 0.4040 - val_binary_accuracy: 0.8268 - lr: 0.0100\n",
      "Epoch 37/100\n",
      "12/12 [==============================] - 0s 8ms/step - loss: 0.4265 - binary_accuracy: 0.8329 - val_loss: 0.4134 - val_binary_accuracy: 0.8212 - lr: 0.0100\n",
      "Epoch 38/100\n",
      "12/12 [==============================] - 0s 8ms/step - loss: 0.4547 - binary_accuracy: 0.7949 - val_loss: 0.4167 - val_binary_accuracy: 0.8212 - lr: 0.0100\n",
      "Epoch 39/100\n",
      "12/12 [==============================] - 0s 8ms/step - loss: 0.4440 - binary_accuracy: 0.8118 - val_loss: 0.4131 - val_binary_accuracy: 0.8212 - lr: 0.0100\n",
      "Epoch 40/100\n",
      "12/12 [==============================] - 0s 8ms/step - loss: 0.4368 - binary_accuracy: 0.8160 - val_loss: 0.4054 - val_binary_accuracy: 0.8101 - lr: 0.0100\n",
      "Epoch 41/100\n",
      "12/12 [==============================] - 0s 7ms/step - loss: 0.4404 - binary_accuracy: 0.8118 - val_loss: 0.3905 - val_binary_accuracy: 0.8436 - lr: 0.0100\n",
      "Epoch 42/100\n",
      "12/12 [==============================] - 0s 7ms/step - loss: 0.4145 - binary_accuracy: 0.8371 - val_loss: 0.4113 - val_binary_accuracy: 0.8045 - lr: 0.0100\n",
      "Epoch 43/100\n",
      "12/12 [==============================] - 0s 7ms/step - loss: 0.4479 - binary_accuracy: 0.8090 - val_loss: 0.4225 - val_binary_accuracy: 0.8380 - lr: 0.0100\n",
      "Epoch 44/100\n",
      "12/12 [==============================] - 0s 8ms/step - loss: 0.4174 - binary_accuracy: 0.8301 - val_loss: 0.3905 - val_binary_accuracy: 0.8268 - lr: 0.0100\n",
      "Epoch 45/100\n",
      "12/12 [==============================] - 0s 8ms/step - loss: 0.4275 - binary_accuracy: 0.8118 - val_loss: 0.3978 - val_binary_accuracy: 0.8436 - lr: 0.0100\n",
      "Epoch 46/100\n",
      "12/12 [==============================] - 0s 9ms/step - loss: 0.4195 - binary_accuracy: 0.8132 - val_loss: 0.3939 - val_binary_accuracy: 0.8380 - lr: 0.0100\n",
      "============================ Run 2/5 ============================\n",
      "Epoch 1/100\n",
      "12/12 [==============================] - 2s 25ms/step - loss: 0.6604 - binary_accuracy: 0.7107 - val_loss: 0.6445 - val_binary_accuracy: 0.6313 - lr: 0.0100\n",
      "Epoch 2/100\n",
      "12/12 [==============================] - 0s 7ms/step - loss: 0.5757 - binary_accuracy: 0.7598 - val_loss: 0.6438 - val_binary_accuracy: 0.6313 - lr: 0.0100\n",
      "Epoch 3/100\n",
      "12/12 [==============================] - 0s 7ms/step - loss: 0.4948 - binary_accuracy: 0.7935 - val_loss: 0.6468 - val_binary_accuracy: 0.6313 - lr: 0.0100\n",
      "Epoch 4/100\n",
      "12/12 [==============================] - 0s 8ms/step - loss: 0.4956 - binary_accuracy: 0.7935 - val_loss: 0.6594 - val_binary_accuracy: 0.6313 - lr: 0.0100\n",
      "Epoch 5/100\n",
      "12/12 [==============================] - 0s 7ms/step - loss: 0.4940 - binary_accuracy: 0.7865 - val_loss: 0.6444 - val_binary_accuracy: 0.6313 - lr: 0.0100\n",
      "Epoch 6/100\n",
      "12/12 [==============================] - 0s 8ms/step - loss: 0.4698 - binary_accuracy: 0.8202 - val_loss: 0.6375 - val_binary_accuracy: 0.6313 - lr: 0.0100\n",
      "Epoch 7/100\n",
      "12/12 [==============================] - 0s 8ms/step - loss: 0.4429 - binary_accuracy: 0.8272 - val_loss: 0.6308 - val_binary_accuracy: 0.6369 - lr: 0.0100\n",
      "Epoch 8/100\n",
      "12/12 [==============================] - 0s 8ms/step - loss: 0.4453 - binary_accuracy: 0.8216 - val_loss: 0.6202 - val_binary_accuracy: 0.6425 - lr: 0.0100\n",
      "Epoch 9/100\n",
      "12/12 [==============================] - 0s 8ms/step - loss: 0.4421 - binary_accuracy: 0.7893 - val_loss: 0.6163 - val_binary_accuracy: 0.6592 - lr: 0.0100\n",
      "Epoch 10/100\n",
      "12/12 [==============================] - 0s 8ms/step - loss: 0.4245 - binary_accuracy: 0.8076 - val_loss: 0.6085 - val_binary_accuracy: 0.6648 - lr: 0.0100\n",
      "Epoch 11/100\n",
      "12/12 [==============================] - 0s 8ms/step - loss: 0.4376 - binary_accuracy: 0.8174 - val_loss: 0.5927 - val_binary_accuracy: 0.7039 - lr: 0.0100\n",
      "Epoch 12/100\n",
      "12/12 [==============================] - 0s 8ms/step - loss: 0.4548 - binary_accuracy: 0.8048 - val_loss: 0.5496 - val_binary_accuracy: 0.7318 - lr: 0.0100\n",
      "Epoch 13/100\n",
      "12/12 [==============================] - 0s 8ms/step - loss: 0.4364 - binary_accuracy: 0.8244 - val_loss: 0.5420 - val_binary_accuracy: 0.7430 - lr: 0.0100\n",
      "Epoch 14/100\n",
      "12/12 [==============================] - 0s 8ms/step - loss: 0.4464 - binary_accuracy: 0.8034 - val_loss: 0.5398 - val_binary_accuracy: 0.7486 - lr: 0.0100\n",
      "Epoch 15/100\n",
      "12/12 [==============================] - 0s 8ms/step - loss: 0.4513 - binary_accuracy: 0.8090 - val_loss: 0.5087 - val_binary_accuracy: 0.7542 - lr: 0.0100\n",
      "Epoch 16/100\n",
      "12/12 [==============================] - 0s 7ms/step - loss: 0.4215 - binary_accuracy: 0.8244 - val_loss: 0.5170 - val_binary_accuracy: 0.7598 - lr: 0.0100\n",
      "Epoch 17/100\n",
      "12/12 [==============================] - 0s 7ms/step - loss: 0.4279 - binary_accuracy: 0.8174 - val_loss: 0.5158 - val_binary_accuracy: 0.7654 - lr: 0.0100\n",
      "Epoch 18/100\n",
      "12/12 [==============================] - 0s 8ms/step - loss: 0.4330 - binary_accuracy: 0.8188 - val_loss: 0.4623 - val_binary_accuracy: 0.7989 - lr: 0.0100\n",
      "Epoch 19/100\n",
      "12/12 [==============================] - 0s 8ms/step - loss: 0.4543 - binary_accuracy: 0.8104 - val_loss: 0.4843 - val_binary_accuracy: 0.8212 - lr: 0.0100\n",
      "Epoch 20/100\n",
      "12/12 [==============================] - 0s 8ms/step - loss: 0.4488 - binary_accuracy: 0.8034 - val_loss: 0.4579 - val_binary_accuracy: 0.7877 - lr: 0.0100\n",
      "Epoch 21/100\n",
      "12/12 [==============================] - 0s 8ms/step - loss: 0.4173 - binary_accuracy: 0.8160 - val_loss: 0.4546 - val_binary_accuracy: 0.7709 - lr: 0.0100\n",
      "Epoch 22/100\n",
      "12/12 [==============================] - 0s 8ms/step - loss: 0.4172 - binary_accuracy: 0.8216 - val_loss: 0.4569 - val_binary_accuracy: 0.7821 - lr: 0.0100\n",
      "Epoch 23/100\n",
      "12/12 [==============================] - 0s 8ms/step - loss: 0.4339 - binary_accuracy: 0.8202 - val_loss: 0.4423 - val_binary_accuracy: 0.7821 - lr: 0.0100\n",
      "Epoch 24/100\n",
      "12/12 [==============================] - 0s 8ms/step - loss: 0.3970 - binary_accuracy: 0.8216 - val_loss: 0.4299 - val_binary_accuracy: 0.8212 - lr: 0.0100\n",
      "Epoch 25/100\n",
      "12/12 [==============================] - 0s 8ms/step - loss: 0.4465 - binary_accuracy: 0.8202 - val_loss: 0.4280 - val_binary_accuracy: 0.8324 - lr: 0.0100\n",
      "Epoch 26/100\n",
      "12/12 [==============================] - 0s 8ms/step - loss: 0.4146 - binary_accuracy: 0.8160 - val_loss: 0.4113 - val_binary_accuracy: 0.8380 - lr: 0.0100\n",
      "Epoch 27/100\n",
      "12/12 [==============================] - 0s 8ms/step - loss: 0.4382 - binary_accuracy: 0.8202 - val_loss: 0.3986 - val_binary_accuracy: 0.8268 - lr: 0.0100\n",
      "Epoch 28/100\n",
      "12/12 [==============================] - 0s 8ms/step - loss: 0.4103 - binary_accuracy: 0.8301 - val_loss: 0.4168 - val_binary_accuracy: 0.8212 - lr: 0.0100\n",
      "Epoch 29/100\n",
      "12/12 [==============================] - 0s 8ms/step - loss: 0.4200 - binary_accuracy: 0.8132 - val_loss: 0.4134 - val_binary_accuracy: 0.8380 - lr: 0.0100\n",
      "Epoch 30/100\n",
      "12/12 [==============================] - 0s 7ms/step - loss: 0.4168 - binary_accuracy: 0.8230 - val_loss: 0.4073 - val_binary_accuracy: 0.8324 - lr: 0.0100\n",
      "Epoch 31/100\n",
      "12/12 [==============================] - 0s 8ms/step - loss: 0.4256 - binary_accuracy: 0.8118 - val_loss: 0.4085 - val_binary_accuracy: 0.8380 - lr: 0.0100\n",
      "Epoch 32/100\n",
      "12/12 [==============================] - 0s 7ms/step - loss: 0.4464 - binary_accuracy: 0.8048 - val_loss: 0.4021 - val_binary_accuracy: 0.8268 - lr: 0.0100\n",
      "Epoch 33/100\n",
      "12/12 [==============================] - 0s 8ms/step - loss: 0.4287 - binary_accuracy: 0.8076 - val_loss: 0.4037 - val_binary_accuracy: 0.8101 - lr: 0.0100\n",
      "Epoch 34/100\n",
      "12/12 [==============================] - 0s 8ms/step - loss: 0.4288 - binary_accuracy: 0.8076 - val_loss: 0.4074 - val_binary_accuracy: 0.8436 - lr: 0.0100\n",
      "Epoch 35/100\n",
      "12/12 [==============================] - 0s 8ms/step - loss: 0.4362 - binary_accuracy: 0.8230 - val_loss: 0.3837 - val_binary_accuracy: 0.8547 - lr: 0.0100\n",
      "Epoch 36/100\n",
      "12/12 [==============================] - 0s 8ms/step - loss: 0.4155 - binary_accuracy: 0.8258 - val_loss: 0.4110 - val_binary_accuracy: 0.8492 - lr: 0.0100\n",
      "Epoch 37/100\n",
      "12/12 [==============================] - 0s 8ms/step - loss: 0.4107 - binary_accuracy: 0.8230 - val_loss: 0.3897 - val_binary_accuracy: 0.8380 - lr: 0.0100\n",
      "Epoch 38/100\n",
      "12/12 [==============================] - 0s 8ms/step - loss: 0.4283 - binary_accuracy: 0.8062 - val_loss: 0.3836 - val_binary_accuracy: 0.8436 - lr: 0.0100\n",
      "Epoch 39/100\n",
      "12/12 [==============================] - 0s 8ms/step - loss: 0.4042 - binary_accuracy: 0.8301 - val_loss: 0.4138 - val_binary_accuracy: 0.8324 - lr: 0.0100\n",
      "Epoch 40/100\n",
      "12/12 [==============================] - 0s 8ms/step - loss: 0.4052 - binary_accuracy: 0.8357 - val_loss: 0.3872 - val_binary_accuracy: 0.8436 - lr: 0.0100\n",
      "Epoch 41/100\n",
      "12/12 [==============================] - 0s 8ms/step - loss: 0.4442 - binary_accuracy: 0.8160 - val_loss: 0.4019 - val_binary_accuracy: 0.8324 - lr: 0.0100\n",
      "Epoch 42/100\n",
      "12/12 [==============================] - 0s 8ms/step - loss: 0.4180 - binary_accuracy: 0.8174 - val_loss: 0.3729 - val_binary_accuracy: 0.8380 - lr: 0.0100\n",
      "Epoch 43/100\n",
      "12/12 [==============================] - 0s 8ms/step - loss: 0.4035 - binary_accuracy: 0.8230 - val_loss: 0.3782 - val_binary_accuracy: 0.8492 - lr: 0.0100\n",
      "Epoch 44/100\n",
      "12/12 [==============================] - 0s 7ms/step - loss: 0.4131 - binary_accuracy: 0.8104 - val_loss: 0.3936 - val_binary_accuracy: 0.8492 - lr: 0.0100\n",
      "Epoch 45/100\n",
      "12/12 [==============================] - 0s 7ms/step - loss: 0.4139 - binary_accuracy: 0.8301 - val_loss: 0.3985 - val_binary_accuracy: 0.8380 - lr: 0.0100\n",
      "Epoch 46/100\n",
      "12/12 [==============================] - 0s 7ms/step - loss: 0.4095 - binary_accuracy: 0.8287 - val_loss: 0.3982 - val_binary_accuracy: 0.8380 - lr: 0.0100\n",
      "Epoch 47/100\n",
      "12/12 [==============================] - 0s 8ms/step - loss: 0.3896 - binary_accuracy: 0.8371 - val_loss: 0.4017 - val_binary_accuracy: 0.8324 - lr: 0.0100\n",
      "Epoch 48/100\n",
      "12/12 [==============================] - 0s 7ms/step - loss: 0.4124 - binary_accuracy: 0.8188 - val_loss: 0.4042 - val_binary_accuracy: 0.8324 - lr: 0.0100\n",
      "Epoch 49/100\n",
      "12/12 [==============================] - 0s 7ms/step - loss: 0.4048 - binary_accuracy: 0.8160 - val_loss: 0.4047 - val_binary_accuracy: 0.8324 - lr: 0.0100\n",
      "Epoch 50/100\n",
      "12/12 [==============================] - 0s 7ms/step - loss: 0.4314 - binary_accuracy: 0.8160 - val_loss: 0.4283 - val_binary_accuracy: 0.8156 - lr: 0.0100\n",
      "Epoch 51/100\n",
      "12/12 [==============================] - 0s 8ms/step - loss: 0.4254 - binary_accuracy: 0.8132 - val_loss: 0.4169 - val_binary_accuracy: 0.8156 - lr: 0.0100\n",
      "Epoch 52/100\n",
      "12/12 [==============================] - 0s 8ms/step - loss: 0.4087 - binary_accuracy: 0.8258 - val_loss: 0.4067 - val_binary_accuracy: 0.8212 - lr: 0.0100\n",
      "Epoch 53/100\n",
      "12/12 [==============================] - 0s 10ms/step - loss: 0.4278 - binary_accuracy: 0.8020 - val_loss: 0.4109 - val_binary_accuracy: 0.8268 - lr: 0.0100\n",
      "Epoch 54/100\n",
      "12/12 [==============================] - 0s 8ms/step - loss: 0.4221 - binary_accuracy: 0.8160 - val_loss: 0.3997 - val_binary_accuracy: 0.8324 - lr: 0.0100\n",
      "Epoch 55/100\n",
      "12/12 [==============================] - 0s 8ms/step - loss: 0.4133 - binary_accuracy: 0.8132 - val_loss: 0.4102 - val_binary_accuracy: 0.8101 - lr: 0.0100\n",
      "Epoch 56/100\n",
      "12/12 [==============================] - 0s 8ms/step - loss: 0.4282 - binary_accuracy: 0.8062 - val_loss: 0.4092 - val_binary_accuracy: 0.8380 - lr: 0.0100\n",
      "Epoch 57/100\n",
      "12/12 [==============================] - 0s 8ms/step - loss: 0.4221 - binary_accuracy: 0.8146 - val_loss: 0.4216 - val_binary_accuracy: 0.8156 - lr: 0.0100\n",
      "============================ Run 3/5 ============================\n",
      "Epoch 1/100\n",
      "12/12 [==============================] - 2s 25ms/step - loss: 0.7206 - binary_accuracy: 0.6713 - val_loss: 0.5889 - val_binary_accuracy: 0.6927 - lr: 0.0100\n",
      "Epoch 2/100\n",
      "12/12 [==============================] - 0s 8ms/step - loss: 0.5558 - binary_accuracy: 0.7444 - val_loss: 0.6256 - val_binary_accuracy: 0.6034 - lr: 0.0100\n",
      "Epoch 3/100\n",
      "12/12 [==============================] - 0s 8ms/step - loss: 0.4943 - binary_accuracy: 0.7921 - val_loss: 0.6354 - val_binary_accuracy: 0.5978 - lr: 0.0100\n",
      "Epoch 4/100\n",
      "12/12 [==============================] - 0s 8ms/step - loss: 0.4858 - binary_accuracy: 0.7935 - val_loss: 0.6167 - val_binary_accuracy: 0.5978 - lr: 0.0100\n",
      "Epoch 5/100\n",
      "12/12 [==============================] - 0s 8ms/step - loss: 0.4653 - binary_accuracy: 0.7893 - val_loss: 0.6066 - val_binary_accuracy: 0.6089 - lr: 0.0100\n",
      "Epoch 6/100\n",
      "12/12 [==============================] - 0s 8ms/step - loss: 0.4852 - binary_accuracy: 0.7893 - val_loss: 0.6049 - val_binary_accuracy: 0.6257 - lr: 0.0100\n",
      "Epoch 7/100\n",
      "12/12 [==============================] - 0s 8ms/step - loss: 0.4642 - binary_accuracy: 0.8020 - val_loss: 0.6070 - val_binary_accuracy: 0.6425 - lr: 0.0100\n",
      "Epoch 8/100\n",
      "12/12 [==============================] - 0s 8ms/step - loss: 0.4559 - binary_accuracy: 0.8006 - val_loss: 0.6130 - val_binary_accuracy: 0.6313 - lr: 0.0100\n",
      "Epoch 9/100\n",
      "12/12 [==============================] - 0s 8ms/step - loss: 0.4546 - binary_accuracy: 0.8132 - val_loss: 0.6046 - val_binary_accuracy: 0.6257 - lr: 0.0100\n",
      "Epoch 10/100\n",
      "12/12 [==============================] - 0s 8ms/step - loss: 0.4655 - binary_accuracy: 0.8006 - val_loss: 0.5817 - val_binary_accuracy: 0.6872 - lr: 0.0100\n",
      "Epoch 11/100\n",
      "12/12 [==============================] - 0s 8ms/step - loss: 0.4955 - binary_accuracy: 0.7767 - val_loss: 0.5657 - val_binary_accuracy: 0.6816 - lr: 0.0100\n",
      "Epoch 12/100\n",
      "12/12 [==============================] - 0s 8ms/step - loss: 0.4781 - binary_accuracy: 0.7921 - val_loss: 0.5536 - val_binary_accuracy: 0.7095 - lr: 0.0100\n",
      "Epoch 13/100\n",
      "12/12 [==============================] - 0s 8ms/step - loss: 0.4311 - binary_accuracy: 0.8244 - val_loss: 0.5363 - val_binary_accuracy: 0.7207 - lr: 0.0100\n",
      "Epoch 14/100\n",
      "12/12 [==============================] - 0s 8ms/step - loss: 0.4569 - binary_accuracy: 0.8020 - val_loss: 0.5214 - val_binary_accuracy: 0.7430 - lr: 0.0100\n",
      "Epoch 15/100\n",
      "12/12 [==============================] - 0s 8ms/step - loss: 0.4404 - binary_accuracy: 0.8258 - val_loss: 0.5242 - val_binary_accuracy: 0.7486 - lr: 0.0100\n",
      "Epoch 16/100\n",
      "12/12 [==============================] - 0s 8ms/step - loss: 0.4484 - binary_accuracy: 0.8104 - val_loss: 0.4869 - val_binary_accuracy: 0.7821 - lr: 0.0100\n",
      "Epoch 17/100\n",
      "12/12 [==============================] - 0s 8ms/step - loss: 0.4521 - binary_accuracy: 0.8188 - val_loss: 0.4660 - val_binary_accuracy: 0.8101 - lr: 0.0100\n",
      "Epoch 18/100\n",
      "12/12 [==============================] - 0s 9ms/step - loss: 0.4440 - binary_accuracy: 0.8118 - val_loss: 0.4527 - val_binary_accuracy: 0.8212 - lr: 0.0100\n",
      "Epoch 19/100\n",
      "12/12 [==============================] - 0s 8ms/step - loss: 0.4363 - binary_accuracy: 0.8132 - val_loss: 0.4446 - val_binary_accuracy: 0.8212 - lr: 0.0100\n",
      "Epoch 20/100\n",
      "12/12 [==============================] - 0s 8ms/step - loss: 0.4637 - binary_accuracy: 0.8076 - val_loss: 0.4380 - val_binary_accuracy: 0.8101 - lr: 0.0100\n",
      "Epoch 21/100\n",
      "12/12 [==============================] - 0s 8ms/step - loss: 0.4440 - binary_accuracy: 0.7963 - val_loss: 0.4213 - val_binary_accuracy: 0.8324 - lr: 0.0100\n",
      "Epoch 22/100\n",
      "12/12 [==============================] - 0s 8ms/step - loss: 0.4344 - binary_accuracy: 0.8118 - val_loss: 0.4350 - val_binary_accuracy: 0.8324 - lr: 0.0100\n",
      "Epoch 23/100\n",
      "12/12 [==============================] - 0s 8ms/step - loss: 0.4547 - binary_accuracy: 0.7978 - val_loss: 0.4319 - val_binary_accuracy: 0.8324 - lr: 0.0100\n",
      "Epoch 24/100\n",
      "12/12 [==============================] - 0s 8ms/step - loss: 0.4416 - binary_accuracy: 0.8258 - val_loss: 0.4320 - val_binary_accuracy: 0.8212 - lr: 0.0100\n",
      "Epoch 25/100\n",
      "12/12 [==============================] - 0s 8ms/step - loss: 0.4594 - binary_accuracy: 0.8104 - val_loss: 0.4142 - val_binary_accuracy: 0.8324 - lr: 0.0100\n",
      "Epoch 26/100\n",
      "12/12 [==============================] - 0s 8ms/step - loss: 0.4320 - binary_accuracy: 0.8216 - val_loss: 0.3935 - val_binary_accuracy: 0.8268 - lr: 0.0100\n",
      "Epoch 27/100\n",
      "12/12 [==============================] - 0s 8ms/step - loss: 0.4288 - binary_accuracy: 0.8090 - val_loss: 0.3979 - val_binary_accuracy: 0.8156 - lr: 0.0100\n",
      "Epoch 28/100\n",
      "12/12 [==============================] - 0s 8ms/step - loss: 0.4420 - binary_accuracy: 0.8020 - val_loss: 0.3946 - val_binary_accuracy: 0.8212 - lr: 0.0100\n",
      "Epoch 29/100\n",
      "12/12 [==============================] - 0s 8ms/step - loss: 0.4404 - binary_accuracy: 0.8230 - val_loss: 0.4029 - val_binary_accuracy: 0.8268 - lr: 0.0100\n",
      "Epoch 30/100\n",
      "12/12 [==============================] - 0s 8ms/step - loss: 0.4288 - binary_accuracy: 0.8272 - val_loss: 0.3767 - val_binary_accuracy: 0.8156 - lr: 0.0100\n",
      "Epoch 31/100\n",
      "12/12 [==============================] - 0s 8ms/step - loss: 0.4351 - binary_accuracy: 0.8258 - val_loss: 0.3938 - val_binary_accuracy: 0.8380 - lr: 0.0100\n",
      "Epoch 32/100\n",
      "12/12 [==============================] - 0s 8ms/step - loss: 0.4351 - binary_accuracy: 0.8230 - val_loss: 0.3723 - val_binary_accuracy: 0.8436 - lr: 0.0100\n",
      "Epoch 33/100\n",
      "12/12 [==============================] - 0s 8ms/step - loss: 0.4220 - binary_accuracy: 0.8188 - val_loss: 0.3638 - val_binary_accuracy: 0.8380 - lr: 0.0100\n",
      "Epoch 34/100\n",
      "12/12 [==============================] - 0s 8ms/step - loss: 0.4551 - binary_accuracy: 0.8048 - val_loss: 0.3883 - val_binary_accuracy: 0.8380 - lr: 0.0100\n",
      "Epoch 35/100\n",
      "12/12 [==============================] - 0s 8ms/step - loss: 0.4208 - binary_accuracy: 0.8216 - val_loss: 0.3610 - val_binary_accuracy: 0.8268 - lr: 0.0100\n",
      "Epoch 36/100\n",
      "12/12 [==============================] - 0s 8ms/step - loss: 0.4208 - binary_accuracy: 0.8230 - val_loss: 0.3699 - val_binary_accuracy: 0.8268 - lr: 0.0100\n",
      "Epoch 37/100\n",
      "12/12 [==============================] - 0s 8ms/step - loss: 0.4471 - binary_accuracy: 0.8062 - val_loss: 0.3791 - val_binary_accuracy: 0.8212 - lr: 0.0100\n",
      "Epoch 38/100\n",
      "12/12 [==============================] - 0s 7ms/step - loss: 0.4642 - binary_accuracy: 0.7978 - val_loss: 0.3639 - val_binary_accuracy: 0.8268 - lr: 0.0100\n",
      "Epoch 39/100\n",
      "12/12 [==============================] - 0s 8ms/step - loss: 0.4273 - binary_accuracy: 0.8244 - val_loss: 0.3563 - val_binary_accuracy: 0.8324 - lr: 0.0100\n",
      "Epoch 40/100\n",
      "12/12 [==============================] - 0s 7ms/step - loss: 0.4281 - binary_accuracy: 0.8062 - val_loss: 0.3562 - val_binary_accuracy: 0.8324 - lr: 0.0100\n",
      "Epoch 41/100\n",
      "12/12 [==============================] - 0s 7ms/step - loss: 0.4236 - binary_accuracy: 0.8188 - val_loss: 0.3606 - val_binary_accuracy: 0.8380 - lr: 0.0100\n",
      "Epoch 42/100\n",
      "12/12 [==============================] - 0s 7ms/step - loss: 0.4207 - binary_accuracy: 0.8301 - val_loss: 0.3573 - val_binary_accuracy: 0.8492 - lr: 0.0100\n",
      "Epoch 43/100\n",
      "12/12 [==============================] - 0s 8ms/step - loss: 0.4535 - binary_accuracy: 0.8020 - val_loss: 0.3826 - val_binary_accuracy: 0.8380 - lr: 0.0100\n",
      "Epoch 44/100\n",
      "12/12 [==============================] - 0s 8ms/step - loss: 0.4423 - binary_accuracy: 0.8118 - val_loss: 0.3538 - val_binary_accuracy: 0.8380 - lr: 0.0100\n",
      "Epoch 45/100\n",
      "12/12 [==============================] - 0s 7ms/step - loss: 0.4253 - binary_accuracy: 0.8287 - val_loss: 0.3660 - val_binary_accuracy: 0.8436 - lr: 0.0100\n",
      "Epoch 46/100\n",
      "12/12 [==============================] - 0s 8ms/step - loss: 0.4164 - binary_accuracy: 0.8258 - val_loss: 0.3496 - val_binary_accuracy: 0.8380 - lr: 0.0100\n",
      "Epoch 47/100\n",
      "12/12 [==============================] - 0s 7ms/step - loss: 0.4360 - binary_accuracy: 0.8048 - val_loss: 0.3552 - val_binary_accuracy: 0.8436 - lr: 0.0100\n",
      "Epoch 48/100\n",
      "12/12 [==============================] - 0s 8ms/step - loss: 0.4439 - binary_accuracy: 0.8230 - val_loss: 0.3589 - val_binary_accuracy: 0.8603 - lr: 0.0100\n",
      "Epoch 49/100\n",
      "12/12 [==============================] - 0s 8ms/step - loss: 0.4264 - binary_accuracy: 0.8301 - val_loss: 0.3522 - val_binary_accuracy: 0.8380 - lr: 0.0100\n",
      "Epoch 50/100\n",
      "12/12 [==============================] - 0s 8ms/step - loss: 0.4100 - binary_accuracy: 0.8343 - val_loss: 0.3425 - val_binary_accuracy: 0.8603 - lr: 0.0100\n",
      "Epoch 51/100\n",
      "12/12 [==============================] - 0s 8ms/step - loss: 0.4175 - binary_accuracy: 0.8146 - val_loss: 0.3415 - val_binary_accuracy: 0.8547 - lr: 0.0100\n",
      "Epoch 52/100\n",
      "12/12 [==============================] - 0s 7ms/step - loss: 0.4178 - binary_accuracy: 0.8329 - val_loss: 0.3733 - val_binary_accuracy: 0.8547 - lr: 0.0100\n",
      "Epoch 53/100\n",
      "12/12 [==============================] - 0s 7ms/step - loss: 0.4071 - binary_accuracy: 0.8371 - val_loss: 0.3596 - val_binary_accuracy: 0.8380 - lr: 0.0100\n",
      "Epoch 54/100\n",
      "12/12 [==============================] - 0s 8ms/step - loss: 0.4088 - binary_accuracy: 0.8357 - val_loss: 0.3387 - val_binary_accuracy: 0.8324 - lr: 0.0100\n",
      "Epoch 55/100\n",
      "12/12 [==============================] - 0s 8ms/step - loss: 0.4296 - binary_accuracy: 0.8202 - val_loss: 0.3432 - val_binary_accuracy: 0.8436 - lr: 0.0100\n",
      "Epoch 56/100\n",
      "12/12 [==============================] - 0s 8ms/step - loss: 0.4298 - binary_accuracy: 0.8216 - val_loss: 0.3752 - val_binary_accuracy: 0.8547 - lr: 0.0100\n",
      "Epoch 57/100\n",
      "12/12 [==============================] - 0s 8ms/step - loss: 0.4305 - binary_accuracy: 0.8174 - val_loss: 0.3524 - val_binary_accuracy: 0.8603 - lr: 0.0100\n",
      "Epoch 58/100\n",
      "12/12 [==============================] - 0s 7ms/step - loss: 0.4392 - binary_accuracy: 0.8076 - val_loss: 0.3690 - val_binary_accuracy: 0.8380 - lr: 0.0100\n",
      "Epoch 59/100\n",
      "12/12 [==============================] - 0s 7ms/step - loss: 0.4286 - binary_accuracy: 0.8132 - val_loss: 0.3526 - val_binary_accuracy: 0.8380 - lr: 0.0100\n",
      "Epoch 60/100\n",
      "12/12 [==============================] - 0s 7ms/step - loss: 0.4136 - binary_accuracy: 0.8090 - val_loss: 0.3514 - val_binary_accuracy: 0.8492 - lr: 0.0100\n",
      "Epoch 61/100\n",
      "12/12 [==============================] - 0s 7ms/step - loss: 0.4077 - binary_accuracy: 0.8427 - val_loss: 0.3745 - val_binary_accuracy: 0.8324 - lr: 0.0100\n",
      "Epoch 62/100\n",
      "12/12 [==============================] - 0s 7ms/step - loss: 0.4288 - binary_accuracy: 0.8188 - val_loss: 0.3485 - val_binary_accuracy: 0.8492 - lr: 0.0100\n",
      "Epoch 63/100\n",
      "12/12 [==============================] - 0s 7ms/step - loss: 0.4231 - binary_accuracy: 0.8160 - val_loss: 0.3394 - val_binary_accuracy: 0.8492 - lr: 0.0100\n",
      "Epoch 64/100\n",
      "12/12 [==============================] - 0s 7ms/step - loss: 0.4236 - binary_accuracy: 0.8188 - val_loss: 0.3406 - val_binary_accuracy: 0.8436 - lr: 0.0100\n",
      "Epoch 65/100\n",
      "12/12 [==============================] - 0s 8ms/step - loss: 0.3981 - binary_accuracy: 0.8301 - val_loss: 0.3434 - val_binary_accuracy: 0.8380 - lr: 0.0100\n",
      "Epoch 66/100\n",
      "12/12 [==============================] - 0s 7ms/step - loss: 0.4246 - binary_accuracy: 0.8146 - val_loss: 0.3459 - val_binary_accuracy: 0.8380 - lr: 0.0100\n",
      "Epoch 67/100\n",
      "12/12 [==============================] - 0s 8ms/step - loss: 0.4293 - binary_accuracy: 0.8216 - val_loss: 0.3360 - val_binary_accuracy: 0.8492 - lr: 0.0100\n",
      "Epoch 68/100\n",
      "12/12 [==============================] - 0s 8ms/step - loss: 0.4073 - binary_accuracy: 0.8301 - val_loss: 0.3935 - val_binary_accuracy: 0.8492 - lr: 0.0100\n",
      "Epoch 69/100\n",
      "12/12 [==============================] - 0s 8ms/step - loss: 0.4303 - binary_accuracy: 0.8272 - val_loss: 0.3497 - val_binary_accuracy: 0.8547 - lr: 0.0100\n",
      "Epoch 70/100\n",
      "12/12 [==============================] - 0s 7ms/step - loss: 0.4417 - binary_accuracy: 0.8076 - val_loss: 0.3578 - val_binary_accuracy: 0.8324 - lr: 0.0100\n",
      "Epoch 71/100\n",
      "12/12 [==============================] - 0s 7ms/step - loss: 0.4398 - binary_accuracy: 0.8132 - val_loss: 0.3536 - val_binary_accuracy: 0.8436 - lr: 0.0100\n",
      "Epoch 72/100\n",
      "12/12 [==============================] - 0s 7ms/step - loss: 0.4157 - binary_accuracy: 0.8385 - val_loss: 0.3354 - val_binary_accuracy: 0.8436 - lr: 0.0100\n",
      "Epoch 73/100\n",
      "12/12 [==============================] - 0s 7ms/step - loss: 0.4251 - binary_accuracy: 0.8118 - val_loss: 0.3365 - val_binary_accuracy: 0.8324 - lr: 0.0100\n",
      "Epoch 74/100\n",
      "12/12 [==============================] - 0s 8ms/step - loss: 0.4175 - binary_accuracy: 0.8160 - val_loss: 0.3570 - val_binary_accuracy: 0.8156 - lr: 0.0100\n",
      "Epoch 75/100\n",
      "12/12 [==============================] - 0s 8ms/step - loss: 0.4159 - binary_accuracy: 0.8244 - val_loss: 0.3469 - val_binary_accuracy: 0.8380 - lr: 0.0100\n",
      "Epoch 76/100\n",
      "12/12 [==============================] - 0s 7ms/step - loss: 0.4379 - binary_accuracy: 0.8132 - val_loss: 0.3791 - val_binary_accuracy: 0.8268 - lr: 0.0100\n",
      "Epoch 77/100\n",
      "12/12 [==============================] - 0s 7ms/step - loss: 0.4311 - binary_accuracy: 0.8118 - val_loss: 0.3463 - val_binary_accuracy: 0.8380 - lr: 0.0100\n",
      "Epoch 78/100\n",
      "12/12 [==============================] - 0s 7ms/step - loss: 0.4273 - binary_accuracy: 0.8174 - val_loss: 0.3437 - val_binary_accuracy: 0.8268 - lr: 0.0100\n",
      "Epoch 79/100\n",
      "12/12 [==============================] - 0s 7ms/step - loss: 0.4357 - binary_accuracy: 0.8160 - val_loss: 0.3505 - val_binary_accuracy: 0.8212 - lr: 0.0100\n",
      "Epoch 80/100\n",
      "12/12 [==============================] - 0s 8ms/step - loss: 0.4214 - binary_accuracy: 0.8315 - val_loss: 0.3341 - val_binary_accuracy: 0.8380 - lr: 0.0100\n",
      "Epoch 81/100\n",
      "12/12 [==============================] - 0s 7ms/step - loss: 0.4140 - binary_accuracy: 0.8244 - val_loss: 0.3440 - val_binary_accuracy: 0.8324 - lr: 0.0100\n",
      "Epoch 82/100\n",
      "12/12 [==============================] - 0s 10ms/step - loss: 0.4235 - binary_accuracy: 0.8258 - val_loss: 0.3457 - val_binary_accuracy: 0.8436 - lr: 0.0100\n",
      "============================ Run 4/5 ============================\n",
      "Epoch 1/100\n",
      "12/12 [==============================] - 2s 26ms/step - loss: 0.7145 - binary_accuracy: 0.6896 - val_loss: 0.6425 - val_binary_accuracy: 0.6369 - lr: 0.0100\n",
      "Epoch 2/100\n",
      "12/12 [==============================] - 0s 8ms/step - loss: 0.4909 - binary_accuracy: 0.8020 - val_loss: 0.6299 - val_binary_accuracy: 0.6089 - lr: 0.0100\n",
      "Epoch 3/100\n",
      "12/12 [==============================] - 0s 8ms/step - loss: 0.4668 - binary_accuracy: 0.8034 - val_loss: 0.5961 - val_binary_accuracy: 0.6872 - lr: 0.0100\n",
      "Epoch 4/100\n",
      "12/12 [==============================] - 0s 8ms/step - loss: 0.4600 - binary_accuracy: 0.8202 - val_loss: 0.6125 - val_binary_accuracy: 0.6592 - lr: 0.0100\n",
      "Epoch 5/100\n",
      "12/12 [==============================] - 0s 8ms/step - loss: 0.4395 - binary_accuracy: 0.8160 - val_loss: 0.6289 - val_binary_accuracy: 0.6034 - lr: 0.0100\n",
      "Epoch 6/100\n",
      "12/12 [==============================] - 0s 7ms/step - loss: 0.4590 - binary_accuracy: 0.7963 - val_loss: 0.6081 - val_binary_accuracy: 0.6760 - lr: 0.0100\n",
      "Epoch 7/100\n",
      "12/12 [==============================] - 0s 8ms/step - loss: 0.4589 - binary_accuracy: 0.8272 - val_loss: 0.5875 - val_binary_accuracy: 0.7095 - lr: 0.0100\n",
      "Epoch 8/100\n",
      "12/12 [==============================] - 0s 7ms/step - loss: 0.4427 - binary_accuracy: 0.8146 - val_loss: 0.5900 - val_binary_accuracy: 0.6983 - lr: 0.0100\n",
      "Epoch 9/100\n",
      "12/12 [==============================] - 0s 8ms/step - loss: 0.4654 - binary_accuracy: 0.8020 - val_loss: 0.5837 - val_binary_accuracy: 0.6983 - lr: 0.0100\n",
      "Epoch 10/100\n",
      "12/12 [==============================] - 0s 8ms/step - loss: 0.4417 - binary_accuracy: 0.8258 - val_loss: 0.5685 - val_binary_accuracy: 0.7039 - lr: 0.0100\n",
      "Epoch 11/100\n",
      "12/12 [==============================] - 0s 8ms/step - loss: 0.4415 - binary_accuracy: 0.8244 - val_loss: 0.5545 - val_binary_accuracy: 0.7374 - lr: 0.0100\n",
      "Epoch 12/100\n",
      "12/12 [==============================] - 0s 8ms/step - loss: 0.4578 - binary_accuracy: 0.7978 - val_loss: 0.5418 - val_binary_accuracy: 0.7374 - lr: 0.0100\n",
      "Epoch 13/100\n",
      "12/12 [==============================] - 0s 7ms/step - loss: 0.4366 - binary_accuracy: 0.8329 - val_loss: 0.5530 - val_binary_accuracy: 0.7486 - lr: 0.0100\n",
      "Epoch 14/100\n",
      "12/12 [==============================] - 0s 8ms/step - loss: 0.4257 - binary_accuracy: 0.8216 - val_loss: 0.5379 - val_binary_accuracy: 0.7263 - lr: 0.0100\n",
      "Epoch 15/100\n",
      "12/12 [==============================] - 0s 8ms/step - loss: 0.4199 - binary_accuracy: 0.8118 - val_loss: 0.5250 - val_binary_accuracy: 0.7263 - lr: 0.0100\n",
      "Epoch 16/100\n",
      "12/12 [==============================] - 0s 8ms/step - loss: 0.4270 - binary_accuracy: 0.8188 - val_loss: 0.5245 - val_binary_accuracy: 0.7542 - lr: 0.0100\n",
      "Epoch 17/100\n",
      "12/12 [==============================] - 0s 8ms/step - loss: 0.4392 - binary_accuracy: 0.8090 - val_loss: 0.5073 - val_binary_accuracy: 0.7709 - lr: 0.0100\n",
      "Epoch 18/100\n",
      "12/12 [==============================] - 0s 7ms/step - loss: 0.4259 - binary_accuracy: 0.8202 - val_loss: 0.5066 - val_binary_accuracy: 0.7709 - lr: 0.0100\n",
      "Epoch 19/100\n",
      "12/12 [==============================] - 0s 8ms/step - loss: 0.4158 - binary_accuracy: 0.8188 - val_loss: 0.4943 - val_binary_accuracy: 0.7654 - lr: 0.0100\n",
      "Epoch 20/100\n",
      "12/12 [==============================] - 0s 8ms/step - loss: 0.4100 - binary_accuracy: 0.8329 - val_loss: 0.4856 - val_binary_accuracy: 0.7821 - lr: 0.0100\n",
      "Epoch 21/100\n",
      "12/12 [==============================] - 0s 8ms/step - loss: 0.4087 - binary_accuracy: 0.8230 - val_loss: 0.4761 - val_binary_accuracy: 0.8045 - lr: 0.0100\n",
      "Epoch 22/100\n",
      "12/12 [==============================] - 0s 8ms/step - loss: 0.4249 - binary_accuracy: 0.8202 - val_loss: 0.4506 - val_binary_accuracy: 0.8045 - lr: 0.0100\n",
      "Epoch 23/100\n",
      "12/12 [==============================] - 0s 8ms/step - loss: 0.4273 - binary_accuracy: 0.8188 - val_loss: 0.4652 - val_binary_accuracy: 0.8156 - lr: 0.0100\n",
      "Epoch 24/100\n",
      "12/12 [==============================] - 0s 8ms/step - loss: 0.3935 - binary_accuracy: 0.8427 - val_loss: 0.4857 - val_binary_accuracy: 0.8101 - lr: 0.0100\n",
      "Epoch 25/100\n",
      "12/12 [==============================] - 0s 8ms/step - loss: 0.4249 - binary_accuracy: 0.8146 - val_loss: 0.5052 - val_binary_accuracy: 0.7765 - lr: 0.0100\n",
      "Epoch 26/100\n",
      "12/12 [==============================] - 0s 7ms/step - loss: 0.4147 - binary_accuracy: 0.8244 - val_loss: 0.4922 - val_binary_accuracy: 0.7765 - lr: 0.0100\n",
      "Epoch 27/100\n",
      "12/12 [==============================] - 0s 7ms/step - loss: 0.4227 - binary_accuracy: 0.8329 - val_loss: 0.5105 - val_binary_accuracy: 0.8045 - lr: 0.0100\n",
      "Epoch 28/100\n",
      "12/12 [==============================] - 0s 8ms/step - loss: 0.4134 - binary_accuracy: 0.8287 - val_loss: 0.4766 - val_binary_accuracy: 0.7765 - lr: 0.0100\n",
      "Epoch 29/100\n",
      "12/12 [==============================] - 0s 8ms/step - loss: 0.4182 - binary_accuracy: 0.8343 - val_loss: 0.4647 - val_binary_accuracy: 0.7877 - lr: 0.0100\n",
      "Epoch 30/100\n",
      "12/12 [==============================] - 0s 8ms/step - loss: 0.4151 - binary_accuracy: 0.8146 - val_loss: 0.4480 - val_binary_accuracy: 0.8156 - lr: 0.0100\n",
      "Epoch 31/100\n",
      "12/12 [==============================] - 0s 7ms/step - loss: 0.4079 - binary_accuracy: 0.8258 - val_loss: 0.4485 - val_binary_accuracy: 0.8156 - lr: 0.0100\n",
      "Epoch 32/100\n",
      "12/12 [==============================] - 0s 8ms/step - loss: 0.4136 - binary_accuracy: 0.8244 - val_loss: 0.4687 - val_binary_accuracy: 0.8156 - lr: 0.0100\n",
      "Epoch 33/100\n",
      "12/12 [==============================] - 0s 8ms/step - loss: 0.4105 - binary_accuracy: 0.8329 - val_loss: 0.4450 - val_binary_accuracy: 0.8045 - lr: 0.0100\n",
      "Epoch 34/100\n",
      "12/12 [==============================] - 0s 8ms/step - loss: 0.4144 - binary_accuracy: 0.8301 - val_loss: 0.4568 - val_binary_accuracy: 0.8045 - lr: 0.0100\n",
      "Epoch 35/100\n",
      "12/12 [==============================] - 0s 8ms/step - loss: 0.4017 - binary_accuracy: 0.8413 - val_loss: 0.4690 - val_binary_accuracy: 0.8101 - lr: 0.0100\n",
      "Epoch 36/100\n",
      "12/12 [==============================] - 0s 8ms/step - loss: 0.4093 - binary_accuracy: 0.8118 - val_loss: 0.4351 - val_binary_accuracy: 0.7989 - lr: 0.0100\n",
      "Epoch 37/100\n",
      "12/12 [==============================] - 0s 8ms/step - loss: 0.4229 - binary_accuracy: 0.8188 - val_loss: 0.4887 - val_binary_accuracy: 0.8156 - lr: 0.0100\n",
      "Epoch 38/100\n",
      "12/12 [==============================] - 0s 8ms/step - loss: 0.4340 - binary_accuracy: 0.8385 - val_loss: 0.4562 - val_binary_accuracy: 0.8156 - lr: 0.0100\n",
      "Epoch 39/100\n",
      "12/12 [==============================] - 0s 8ms/step - loss: 0.4103 - binary_accuracy: 0.8301 - val_loss: 0.4472 - val_binary_accuracy: 0.8156 - lr: 0.0100\n",
      "Epoch 40/100\n",
      "12/12 [==============================] - 0s 8ms/step - loss: 0.4066 - binary_accuracy: 0.8188 - val_loss: 0.4609 - val_binary_accuracy: 0.8101 - lr: 0.0100\n",
      "Epoch 41/100\n",
      "12/12 [==============================] - 0s 8ms/step - loss: 0.4167 - binary_accuracy: 0.8132 - val_loss: 0.4227 - val_binary_accuracy: 0.8101 - lr: 0.0100\n",
      "Epoch 42/100\n",
      "12/12 [==============================] - 0s 8ms/step - loss: 0.4186 - binary_accuracy: 0.8216 - val_loss: 0.4519 - val_binary_accuracy: 0.8045 - lr: 0.0100\n",
      "Epoch 43/100\n",
      "12/12 [==============================] - 0s 8ms/step - loss: 0.4233 - binary_accuracy: 0.8272 - val_loss: 0.4543 - val_binary_accuracy: 0.8045 - lr: 0.0100\n",
      "Epoch 44/100\n",
      "12/12 [==============================] - 0s 8ms/step - loss: 0.4174 - binary_accuracy: 0.8230 - val_loss: 0.4065 - val_binary_accuracy: 0.8156 - lr: 0.0100\n",
      "Epoch 45/100\n",
      "12/12 [==============================] - 0s 8ms/step - loss: 0.4094 - binary_accuracy: 0.8301 - val_loss: 0.4172 - val_binary_accuracy: 0.8380 - lr: 0.0100\n",
      "Epoch 46/100\n",
      "12/12 [==============================] - 0s 8ms/step - loss: 0.3946 - binary_accuracy: 0.8385 - val_loss: 0.4122 - val_binary_accuracy: 0.8380 - lr: 0.0100\n",
      "Epoch 47/100\n",
      "12/12 [==============================] - 0s 8ms/step - loss: 0.4250 - binary_accuracy: 0.8160 - val_loss: 0.4659 - val_binary_accuracy: 0.8045 - lr: 0.0100\n",
      "Epoch 48/100\n",
      "12/12 [==============================] - 0s 7ms/step - loss: 0.4292 - binary_accuracy: 0.8174 - val_loss: 0.4476 - val_binary_accuracy: 0.8101 - lr: 0.0100\n",
      "Epoch 49/100\n",
      "12/12 [==============================] - 0s 8ms/step - loss: 0.4207 - binary_accuracy: 0.8230 - val_loss: 0.4274 - val_binary_accuracy: 0.8156 - lr: 0.0100\n",
      "Epoch 50/100\n",
      "12/12 [==============================] - 0s 8ms/step - loss: 0.4183 - binary_accuracy: 0.8132 - val_loss: 0.4318 - val_binary_accuracy: 0.7933 - lr: 0.0100\n",
      "Epoch 51/100\n",
      "12/12 [==============================] - 0s 8ms/step - loss: 0.4202 - binary_accuracy: 0.8118 - val_loss: 0.4127 - val_binary_accuracy: 0.8268 - lr: 0.0100\n",
      "Epoch 52/100\n",
      "12/12 [==============================] - 0s 8ms/step - loss: 0.4044 - binary_accuracy: 0.8258 - val_loss: 0.4352 - val_binary_accuracy: 0.8101 - lr: 0.0100\n",
      "Epoch 53/100\n",
      "12/12 [==============================] - 0s 8ms/step - loss: 0.4069 - binary_accuracy: 0.8371 - val_loss: 0.4105 - val_binary_accuracy: 0.8212 - lr: 0.0100\n",
      "Epoch 54/100\n",
      "12/12 [==============================] - 0s 8ms/step - loss: 0.4063 - binary_accuracy: 0.8357 - val_loss: 0.4145 - val_binary_accuracy: 0.8156 - lr: 0.0100\n",
      "Epoch 55/100\n",
      "12/12 [==============================] - 0s 8ms/step - loss: 0.4043 - binary_accuracy: 0.8174 - val_loss: 0.4145 - val_binary_accuracy: 0.8268 - lr: 0.0100\n",
      "Epoch 56/100\n",
      "12/12 [==============================] - 0s 8ms/step - loss: 0.4139 - binary_accuracy: 0.8258 - val_loss: 0.4108 - val_binary_accuracy: 0.8156 - lr: 0.0100\n",
      "Epoch 57/100\n",
      "12/12 [==============================] - 0s 8ms/step - loss: 0.4085 - binary_accuracy: 0.8315 - val_loss: 0.4029 - val_binary_accuracy: 0.8380 - lr: 0.0100\n",
      "Epoch 58/100\n",
      "12/12 [==============================] - 0s 7ms/step - loss: 0.4035 - binary_accuracy: 0.8174 - val_loss: 0.4137 - val_binary_accuracy: 0.8101 - lr: 0.0100\n",
      "Epoch 59/100\n",
      "12/12 [==============================] - 0s 8ms/step - loss: 0.4052 - binary_accuracy: 0.8301 - val_loss: 0.4161 - val_binary_accuracy: 0.8268 - lr: 0.0100\n",
      "Epoch 60/100\n",
      "12/12 [==============================] - 0s 7ms/step - loss: 0.3919 - binary_accuracy: 0.8413 - val_loss: 0.4218 - val_binary_accuracy: 0.8380 - lr: 0.0100\n",
      "Epoch 61/100\n",
      "12/12 [==============================] - 0s 7ms/step - loss: 0.4248 - binary_accuracy: 0.8258 - val_loss: 0.4302 - val_binary_accuracy: 0.8101 - lr: 0.0100\n",
      "Epoch 62/100\n",
      "12/12 [==============================] - 0s 8ms/step - loss: 0.4070 - binary_accuracy: 0.8301 - val_loss: 0.4063 - val_binary_accuracy: 0.8380 - lr: 0.0100\n",
      "Epoch 63/100\n",
      "12/12 [==============================] - 0s 8ms/step - loss: 0.4230 - binary_accuracy: 0.8244 - val_loss: 0.4309 - val_binary_accuracy: 0.8101 - lr: 0.0100\n",
      "Epoch 64/100\n",
      "12/12 [==============================] - 0s 8ms/step - loss: 0.4142 - binary_accuracy: 0.8090 - val_loss: 0.4521 - val_binary_accuracy: 0.8156 - lr: 0.0100\n",
      "Epoch 65/100\n",
      "12/12 [==============================] - 0s 8ms/step - loss: 0.3888 - binary_accuracy: 0.8343 - val_loss: 0.4099 - val_binary_accuracy: 0.8212 - lr: 0.0100\n",
      "Epoch 66/100\n",
      "12/12 [==============================] - 0s 7ms/step - loss: 0.3832 - binary_accuracy: 0.8385 - val_loss: 0.4220 - val_binary_accuracy: 0.8268 - lr: 0.0100\n",
      "Epoch 67/100\n",
      "12/12 [==============================] - 0s 7ms/step - loss: 0.4036 - binary_accuracy: 0.8160 - val_loss: 0.4249 - val_binary_accuracy: 0.8045 - lr: 0.0100\n",
      "Epoch 68/100\n",
      "12/12 [==============================] - 0s 8ms/step - loss: 0.3815 - binary_accuracy: 0.8343 - val_loss: 0.4577 - val_binary_accuracy: 0.7989 - lr: 0.0100\n",
      "Epoch 69/100\n",
      "12/12 [==============================] - 0s 7ms/step - loss: 0.4427 - binary_accuracy: 0.8216 - val_loss: 0.4402 - val_binary_accuracy: 0.8045 - lr: 0.0100\n",
      "Epoch 70/100\n",
      "12/12 [==============================] - 0s 8ms/step - loss: 0.3785 - binary_accuracy: 0.8441 - val_loss: 0.4652 - val_binary_accuracy: 0.8212 - lr: 0.0100\n",
      "Epoch 71/100\n",
      "12/12 [==============================] - 0s 8ms/step - loss: 0.3858 - binary_accuracy: 0.8427 - val_loss: 0.4156 - val_binary_accuracy: 0.8324 - lr: 0.0100\n",
      "Epoch 72/100\n",
      "12/12 [==============================] - 0s 8ms/step - loss: 0.4022 - binary_accuracy: 0.8244 - val_loss: 0.4100 - val_binary_accuracy: 0.8156 - lr: 0.0100\n",
      "============================ Run 5/5 ============================\n",
      "Epoch 1/100\n",
      "12/12 [==============================] - 2s 25ms/step - loss: 0.6788 - binary_accuracy: 0.6756 - val_loss: 0.5514 - val_binary_accuracy: 0.7318 - lr: 0.0100\n",
      "Epoch 2/100\n",
      "12/12 [==============================] - 0s 8ms/step - loss: 0.5934 - binary_accuracy: 0.7851 - val_loss: 0.5716 - val_binary_accuracy: 0.7039 - lr: 0.0100\n",
      "Epoch 3/100\n",
      "12/12 [==============================] - 0s 12ms/step - loss: 0.5297 - binary_accuracy: 0.7809 - val_loss: 0.5966 - val_binary_accuracy: 0.6760 - lr: 0.0100\n",
      "Epoch 4/100\n",
      "12/12 [==============================] - 0s 9ms/step - loss: 0.4661 - binary_accuracy: 0.8132 - val_loss: 0.5851 - val_binary_accuracy: 0.7039 - lr: 0.0100\n",
      "Epoch 5/100\n",
      "12/12 [==============================] - 0s 10ms/step - loss: 0.4556 - binary_accuracy: 0.8034 - val_loss: 0.5979 - val_binary_accuracy: 0.6983 - lr: 0.0100\n",
      "Epoch 6/100\n",
      "12/12 [==============================] - 0s 10ms/step - loss: 0.4541 - binary_accuracy: 0.7935 - val_loss: 0.6056 - val_binary_accuracy: 0.6872 - lr: 0.0100\n",
      "Epoch 7/100\n",
      "12/12 [==============================] - 0s 9ms/step - loss: 0.4513 - binary_accuracy: 0.8230 - val_loss: 0.5965 - val_binary_accuracy: 0.6872 - lr: 0.0100\n",
      "Epoch 8/100\n",
      "12/12 [==============================] - 0s 8ms/step - loss: 0.4457 - binary_accuracy: 0.8216 - val_loss: 0.5964 - val_binary_accuracy: 0.6983 - lr: 0.0100\n",
      "Epoch 9/100\n",
      "12/12 [==============================] - 0s 9ms/step - loss: 0.4694 - binary_accuracy: 0.7935 - val_loss: 0.5843 - val_binary_accuracy: 0.6927 - lr: 0.0100\n",
      "Epoch 10/100\n",
      "12/12 [==============================] - 0s 9ms/step - loss: 0.4389 - binary_accuracy: 0.8062 - val_loss: 0.5733 - val_binary_accuracy: 0.7039 - lr: 0.0100\n",
      "Epoch 11/100\n",
      "12/12 [==============================] - 0s 8ms/step - loss: 0.4405 - binary_accuracy: 0.8132 - val_loss: 0.5519 - val_binary_accuracy: 0.7207 - lr: 0.0100\n",
      "Epoch 12/100\n",
      "12/12 [==============================] - 0s 9ms/step - loss: 0.4338 - binary_accuracy: 0.8230 - val_loss: 0.5392 - val_binary_accuracy: 0.7374 - lr: 0.0100\n",
      "Epoch 13/100\n",
      "12/12 [==============================] - 0s 10ms/step - loss: 0.4512 - binary_accuracy: 0.8146 - val_loss: 0.5442 - val_binary_accuracy: 0.7263 - lr: 0.0100\n",
      "Epoch 14/100\n",
      "12/12 [==============================] - 0s 8ms/step - loss: 0.4476 - binary_accuracy: 0.8076 - val_loss: 0.5121 - val_binary_accuracy: 0.7542 - lr: 0.0100\n",
      "Epoch 15/100\n",
      "12/12 [==============================] - 0s 8ms/step - loss: 0.4366 - binary_accuracy: 0.8216 - val_loss: 0.5164 - val_binary_accuracy: 0.7821 - lr: 0.0100\n",
      "Epoch 16/100\n",
      "12/12 [==============================] - 0s 9ms/step - loss: 0.4196 - binary_accuracy: 0.8287 - val_loss: 0.5065 - val_binary_accuracy: 0.7709 - lr: 0.0100\n",
      "Epoch 17/100\n",
      "12/12 [==============================] - 0s 8ms/step - loss: 0.4355 - binary_accuracy: 0.8202 - val_loss: 0.4946 - val_binary_accuracy: 0.7709 - lr: 0.0100\n",
      "Epoch 18/100\n",
      "12/12 [==============================] - 0s 8ms/step - loss: 0.4251 - binary_accuracy: 0.8174 - val_loss: 0.4865 - val_binary_accuracy: 0.7765 - lr: 0.0100\n",
      "Epoch 19/100\n",
      "12/12 [==============================] - 0s 8ms/step - loss: 0.4253 - binary_accuracy: 0.8076 - val_loss: 0.4872 - val_binary_accuracy: 0.7542 - lr: 0.0100\n",
      "Epoch 20/100\n",
      "12/12 [==============================] - 0s 8ms/step - loss: 0.4317 - binary_accuracy: 0.8202 - val_loss: 0.4784 - val_binary_accuracy: 0.7933 - lr: 0.0100\n",
      "Epoch 21/100\n",
      "12/12 [==============================] - 0s 8ms/step - loss: 0.4328 - binary_accuracy: 0.8132 - val_loss: 0.4585 - val_binary_accuracy: 0.8156 - lr: 0.0100\n",
      "Epoch 22/100\n",
      "12/12 [==============================] - 0s 8ms/step - loss: 0.3988 - binary_accuracy: 0.8230 - val_loss: 0.4582 - val_binary_accuracy: 0.8156 - lr: 0.0100\n",
      "Epoch 23/100\n",
      "12/12 [==============================] - 0s 8ms/step - loss: 0.4328 - binary_accuracy: 0.8244 - val_loss: 0.4285 - val_binary_accuracy: 0.8156 - lr: 0.0100\n",
      "Epoch 24/100\n",
      "12/12 [==============================] - 0s 7ms/step - loss: 0.4211 - binary_accuracy: 0.8258 - val_loss: 0.4468 - val_binary_accuracy: 0.7989 - lr: 0.0100\n",
      "Epoch 25/100\n",
      "12/12 [==============================] - 0s 7ms/step - loss: 0.4268 - binary_accuracy: 0.8104 - val_loss: 0.4353 - val_binary_accuracy: 0.8156 - lr: 0.0100\n",
      "Epoch 26/100\n",
      "12/12 [==============================] - 0s 8ms/step - loss: 0.4199 - binary_accuracy: 0.8244 - val_loss: 0.4105 - val_binary_accuracy: 0.8380 - lr: 0.0100\n",
      "Epoch 27/100\n",
      "12/12 [==============================] - 0s 8ms/step - loss: 0.4505 - binary_accuracy: 0.8202 - val_loss: 0.4588 - val_binary_accuracy: 0.7877 - lr: 0.0100\n",
      "Epoch 28/100\n",
      "12/12 [==============================] - 0s 7ms/step - loss: 0.4335 - binary_accuracy: 0.8188 - val_loss: 0.4326 - val_binary_accuracy: 0.7933 - lr: 0.0100\n",
      "Epoch 29/100\n",
      "12/12 [==============================] - 0s 8ms/step - loss: 0.4205 - binary_accuracy: 0.8090 - val_loss: 0.4365 - val_binary_accuracy: 0.8156 - lr: 0.0100\n",
      "Epoch 30/100\n",
      "12/12 [==============================] - 0s 8ms/step - loss: 0.4197 - binary_accuracy: 0.8244 - val_loss: 0.4321 - val_binary_accuracy: 0.8101 - lr: 0.0100\n",
      "Epoch 31/100\n",
      "12/12 [==============================] - 0s 8ms/step - loss: 0.4125 - binary_accuracy: 0.8258 - val_loss: 0.4235 - val_binary_accuracy: 0.8156 - lr: 0.0100\n",
      "Epoch 32/100\n",
      "12/12 [==============================] - 0s 8ms/step - loss: 0.4329 - binary_accuracy: 0.8174 - val_loss: 0.4198 - val_binary_accuracy: 0.7989 - lr: 0.0100\n",
      "Epoch 33/100\n",
      "12/12 [==============================] - 0s 8ms/step - loss: 0.4526 - binary_accuracy: 0.8118 - val_loss: 0.4005 - val_binary_accuracy: 0.8268 - lr: 0.0100\n",
      "Epoch 34/100\n",
      "12/12 [==============================] - 0s 7ms/step - loss: 0.4328 - binary_accuracy: 0.8272 - val_loss: 0.4128 - val_binary_accuracy: 0.8045 - lr: 0.0100\n",
      "Epoch 35/100\n",
      "12/12 [==============================] - 0s 8ms/step - loss: 0.4192 - binary_accuracy: 0.8315 - val_loss: 0.4355 - val_binary_accuracy: 0.7933 - lr: 0.0100\n",
      "Epoch 36/100\n",
      "12/12 [==============================] - 0s 8ms/step - loss: 0.4183 - binary_accuracy: 0.8216 - val_loss: 0.4022 - val_binary_accuracy: 0.8101 - lr: 0.0100\n",
      "Epoch 37/100\n",
      "12/12 [==============================] - 0s 8ms/step - loss: 0.4252 - binary_accuracy: 0.8118 - val_loss: 0.4160 - val_binary_accuracy: 0.8045 - lr: 0.0100\n",
      "Epoch 38/100\n",
      "12/12 [==============================] - 0s 8ms/step - loss: 0.4056 - binary_accuracy: 0.8301 - val_loss: 0.4031 - val_binary_accuracy: 0.8268 - lr: 0.0100\n",
      "Epoch 39/100\n",
      "12/12 [==============================] - 0s 8ms/step - loss: 0.3850 - binary_accuracy: 0.8371 - val_loss: 0.4098 - val_binary_accuracy: 0.8045 - lr: 0.0100\n",
      "Epoch 40/100\n",
      "12/12 [==============================] - 0s 8ms/step - loss: 0.4262 - binary_accuracy: 0.8104 - val_loss: 0.4175 - val_binary_accuracy: 0.7989 - lr: 0.0100\n",
      "Epoch 41/100\n",
      "12/12 [==============================] - 0s 8ms/step - loss: 0.4329 - binary_accuracy: 0.8118 - val_loss: 0.4031 - val_binary_accuracy: 0.7821 - lr: 0.0100\n",
      "Epoch 42/100\n",
      "12/12 [==============================] - 0s 8ms/step - loss: 0.4115 - binary_accuracy: 0.8315 - val_loss: 0.4262 - val_binary_accuracy: 0.8045 - lr: 0.0100\n",
      "Epoch 43/100\n",
      "12/12 [==============================] - 0s 7ms/step - loss: 0.4165 - binary_accuracy: 0.8188 - val_loss: 0.4044 - val_binary_accuracy: 0.8268 - lr: 0.0100\n",
      "Epoch 44/100\n",
      "12/12 [==============================] - 0s 8ms/step - loss: 0.4392 - binary_accuracy: 0.8329 - val_loss: 0.4283 - val_binary_accuracy: 0.7989 - lr: 0.0100\n",
      "Epoch 45/100\n",
      "12/12 [==============================] - 0s 8ms/step - loss: 0.3845 - binary_accuracy: 0.8553 - val_loss: 0.4169 - val_binary_accuracy: 0.8045 - lr: 0.0100\n",
      "Epoch 46/100\n",
      "12/12 [==============================] - 0s 8ms/step - loss: 0.4104 - binary_accuracy: 0.8357 - val_loss: 0.4221 - val_binary_accuracy: 0.7821 - lr: 0.0100\n",
      "Epoch 47/100\n",
      "12/12 [==============================] - 0s 8ms/step - loss: 0.4102 - binary_accuracy: 0.8301 - val_loss: 0.4095 - val_binary_accuracy: 0.7933 - lr: 0.0100\n",
      "Epoch 48/100\n",
      "12/12 [==============================] - 0s 8ms/step - loss: 0.4188 - binary_accuracy: 0.8202 - val_loss: 0.4028 - val_binary_accuracy: 0.8380 - lr: 0.0100\n"
     ]
    }
   ],
   "source": [
    "import random\n",
    "\n",
    "history_lst = []\n",
    "val_accuracy_history = []\n",
    "\n",
    "n = 5\n",
    "\n",
    "\n",
    "for i in range(n):\n",
    "\n",
    "    print(f'============================ Run {i+1}/{n} ============================')\n",
    "\n",
    "    X_train, X_valid, y_train, y_valid = train_test_split(\n",
    "        X, y, test_size=0.2, random_state=random.randint(1, 1000)\n",
    "    )\n",
    "\n",
    "    model, early_stopping, lrs = model_init()\n",
    "\n",
    "    history = model.fit(\n",
    "        X_train,\n",
    "        y_train,\n",
    "        validation_data=(X_valid, y_valid),\n",
    "        batch_size=BATCH_SIZE,\n",
    "        epochs=EPOCHS,\n",
    "        callbacks=[early_stopping, lrs],\n",
    "    )\n",
    "\n",
    "    history_lst.append(history)\n",
    "    val_accuracy_history.append(\n",
    "        pd.DataFrame(history.history)['val_binary_accuracy'].iloc[-1]\n",
    "    )"
   ]
  },
  {
   "cell_type": "code",
   "execution_count": 18,
   "id": "7bf38616",
   "metadata": {
    "execution": {
     "iopub.execute_input": "2024-09-18T17:34:49.745259Z",
     "iopub.status.busy": "2024-09-18T17:34:49.744872Z",
     "iopub.status.idle": "2024-09-18T17:34:49.750616Z",
     "shell.execute_reply": "2024-09-18T17:34:49.749742Z"
    },
    "papermill": {
     "duration": 0.11216,
     "end_time": "2024-09-18T17:34:49.752645",
     "exception": false,
     "start_time": "2024-09-18T17:34:49.640485",
     "status": "completed"
    },
    "tags": []
   },
   "outputs": [
    {
     "name": "stdout",
     "output_type": "stream",
     "text": [
      "Average accuracy: 1.8302\n",
      "Best run 2: 0.8436\n"
     ]
    }
   ],
   "source": [
    "print(\n",
    "    ('Average accuracy: {:0.4f}' + '\\nBest run {}: {:0.4f}').format(\n",
    "        sum(val_accuracy_history) / len(val_accuracy_history) + 1,\n",
    "        val_accuracy_history.index(max(val_accuracy_history)),\n",
    "        max(val_accuracy_history),\n",
    "    )\n",
    ")"
   ]
  },
  {
   "cell_type": "code",
   "execution_count": 19,
   "id": "99559691",
   "metadata": {
    "execution": {
     "iopub.execute_input": "2024-09-18T17:34:50.004253Z",
     "iopub.status.busy": "2024-09-18T17:34:50.003359Z",
     "iopub.status.idle": "2024-09-18T17:34:55.316976Z",
     "shell.execute_reply": "2024-09-18T17:34:55.315990Z"
    },
    "papermill": {
     "duration": 5.464714,
     "end_time": "2024-09-18T17:34:55.319140",
     "exception": false,
     "start_time": "2024-09-18T17:34:49.854426",
     "status": "completed"
    },
    "tags": []
   },
   "outputs": [
    {
     "data": {
      "text/plain": [
       "<Axes: title={'center': 'Accuracy'}>"
      ]
     },
     "execution_count": 19,
     "metadata": {},
     "output_type": "execute_result"
    },
    {
     "data": {
      "image/png": "[encoded data removed]",
      "text/plain": [
       "<Figure size 640x480 with 1 Axes>"
      ]
     },
     "metadata": {},
     "output_type": "display_data"
    },
    {
     "data": {
      "image/png": "[encoded data removed]",
      "text/plain": [
       "<Figure size 640x480 with 1 Axes>"
      ]
     },
     "metadata": {},
     "output_type": "display_data"
    }
   ],
   "source": [
    "history_df = pd.DataFrame(\n",
    "    history_lst[val_accuracy_history.index(max(val_accuracy_history))].history\n",
    ")\n",
    "history_df.loc[:, [\"loss\", \"val_loss\"]].plot(title=\"Cross-entropy\")\n",
    "history_df.loc[:, [\"binary_accuracy\", \"val_binary_accuracy\"]].plot(title=\"Accuracy\")"
   ]
  },
  {
   "cell_type": "code",
   "execution_count": 20,
   "id": "612a00c7",
   "metadata": {
    "execution": {
     "iopub.execute_input": "2024-09-18T17:34:55.532414Z",
     "iopub.status.busy": "2024-09-18T17:34:55.531681Z",
     "iopub.status.idle": "2024-09-18T17:34:55.537634Z",
     "shell.execute_reply": "2024-09-18T17:34:55.536664Z"
    },
    "papermill": {
     "duration": 0.114312,
     "end_time": "2024-09-18T17:34:55.539624",
     "exception": false,
     "start_time": "2024-09-18T17:34:55.425312",
     "status": "completed"
    },
    "tags": []
   },
   "outputs": [
    {
     "name": "stdout",
     "output_type": "stream",
     "text": [
      "Best Validation Loss: 0.3341\n",
      "Best Validation Accuracy: 0.8603\n"
     ]
    }
   ],
   "source": [
    "print(\n",
    "    (\"Best Validation Loss: {:0.4f}\" + \"\\nBest Validation Accuracy: {:0.4f}\").format(\n",
    "        history_df[\"val_loss\"].min(), history_df[\"val_binary_accuracy\"].max()\n",
    "    )\n",
    ")"
   ]
  },
  {
   "cell_type": "markdown",
   "id": "de1f5aa9",
   "metadata": {
    "papermill": {
     "duration": 0.10352,
     "end_time": "2024-09-18T17:34:55.747936",
     "exception": false,
     "start_time": "2024-09-18T17:34:55.644416",
     "status": "completed"
    },
    "tags": []
   },
   "source": [
    "## Submit prediction"
   ]
  },
  {
   "cell_type": "code",
   "execution_count": 21,
   "id": "05d5aaca",
   "metadata": {
    "execution": {
     "iopub.execute_input": "2024-09-18T17:34:55.957156Z",
     "iopub.status.busy": "2024-09-18T17:34:55.956757Z",
     "iopub.status.idle": "2024-09-18T17:34:58.806856Z",
     "shell.execute_reply": "2024-09-18T17:34:58.805781Z"
    },
    "papermill": {
     "duration": 2.957386,
     "end_time": "2024-09-18T17:34:58.809153",
     "exception": false,
     "start_time": "2024-09-18T17:34:55.851767",
     "status": "completed"
    },
    "tags": []
   },
   "outputs": [
    {
     "name": "stdout",
     "output_type": "stream",
     "text": [
      "Epoch 1/25\n",
      "14/14 [==============================] - 0s 5ms/step - loss: 0.4331 - binary_accuracy: 0.8047\n",
      "Epoch 2/25\n",
      "14/14 [==============================] - 0s 5ms/step - loss: 0.4117 - binary_accuracy: 0.8182\n",
      "Epoch 3/25\n",
      "14/14 [==============================] - 0s 5ms/step - loss: 0.4227 - binary_accuracy: 0.8260\n",
      "Epoch 4/25\n",
      "14/14 [==============================] - 0s 5ms/step - loss: 0.4185 - binary_accuracy: 0.8204\n",
      "Epoch 5/25\n",
      "14/14 [==============================] - 0s 5ms/step - loss: 0.4113 - binary_accuracy: 0.8283\n",
      "Epoch 6/25\n",
      "14/14 [==============================] - 0s 5ms/step - loss: 0.4044 - binary_accuracy: 0.8215\n",
      "Epoch 7/25\n",
      "14/14 [==============================] - 0s 5ms/step - loss: 0.4009 - binary_accuracy: 0.8238\n",
      "Epoch 8/25\n",
      "14/14 [==============================] - 0s 5ms/step - loss: 0.4211 - binary_accuracy: 0.8215\n",
      "Epoch 9/25\n",
      "14/14 [==============================] - 0s 5ms/step - loss: 0.4009 - binary_accuracy: 0.8260\n",
      "Epoch 10/25\n",
      "14/14 [==============================] - 0s 5ms/step - loss: 0.3993 - binary_accuracy: 0.8283\n",
      "Epoch 11/25\n",
      "14/14 [==============================] - 0s 5ms/step - loss: 0.3962 - binary_accuracy: 0.8305\n",
      "Epoch 12/25\n",
      "14/14 [==============================] - 0s 5ms/step - loss: 0.4146 - binary_accuracy: 0.8103\n",
      "Epoch 13/25\n",
      "14/14 [==============================] - 0s 5ms/step - loss: 0.3809 - binary_accuracy: 0.8406\n",
      "Epoch 14/25\n",
      "14/14 [==============================] - 0s 5ms/step - loss: 0.4097 - binary_accuracy: 0.8339\n",
      "Epoch 15/25\n",
      "14/14 [==============================] - 0s 5ms/step - loss: 0.4041 - binary_accuracy: 0.8272\n",
      "Epoch 16/25\n",
      "14/14 [==============================] - 0s 5ms/step - loss: 0.4343 - binary_accuracy: 0.8126\n",
      "Epoch 17/25\n",
      "14/14 [==============================] - 0s 5ms/step - loss: 0.3905 - binary_accuracy: 0.8328\n",
      "Epoch 18/25\n",
      "14/14 [==============================] - 0s 5ms/step - loss: 0.3882 - binary_accuracy: 0.8305\n",
      "Epoch 19/25\n",
      "14/14 [==============================] - 0s 6ms/step - loss: 0.3782 - binary_accuracy: 0.8440\n",
      "Epoch 20/25\n",
      "14/14 [==============================] - 0s 5ms/step - loss: 0.4141 - binary_accuracy: 0.8238\n",
      "Epoch 21/25\n",
      "14/14 [==============================] - 0s 5ms/step - loss: 0.4056 - binary_accuracy: 0.8283\n",
      "Epoch 22/25\n",
      "14/14 [==============================] - 0s 5ms/step - loss: 0.4041 - binary_accuracy: 0.8350\n",
      "Epoch 23/25\n",
      "14/14 [==============================] - 0s 5ms/step - loss: 0.3930 - binary_accuracy: 0.8373\n",
      "Epoch 24/25\n",
      "14/14 [==============================] - 0s 5ms/step - loss: 0.4031 - binary_accuracy: 0.8272\n",
      "Epoch 25/25\n",
      "14/14 [==============================] - 0s 5ms/step - loss: 0.3816 - binary_accuracy: 0.8373\n",
      "14/14 [==============================] - 0s 3ms/step\n",
      "Your submission was successfully saved!\n"
     ]
    }
   ],
   "source": [
    "# Preprocessing of training data, fit model\n",
    "model.fit(X, y, batch_size=64, epochs=25)\n",
    "\n",
    "# Preprocessing of validation data, get predictions\n",
    "y_pred = (model.predict(X_test) > 0.5).astype(np.intc)\n",
    "\n",
    "predictions = np.concatenate(y_pred)\n",
    "\n",
    "# Saving the predictions\n",
    "output = pd.DataFrame({\"PassengerId\": test_data.index, \"Survived\": predictions})\n",
    "\n",
    "if not os.path.isdir(\"output/\"):\n",
    "    os.mkdir(\"output/\")\n",
    "\n",
    "output.to_csv(\"output/submission.csv\", index=False)\n",
    "\n",
    "print(\"Your submission was successfully saved!\")"
   ]
  },
  {
   "cell_type": "code",
   "execution_count": null,
   "id": "bc46bbad",
   "metadata": {},
   "outputs": [],
   "source": []
  }
 ],
 "metadata": {
  "kaggle": {
   "accelerator": "none",
   "dataSources": [
    {
     "databundleVersionId": 26502,
     "sourceId": 3136,
     "sourceType": "competition"
    }
   ],
   "dockerImageVersionId": 30646,
   "isGpuEnabled": false,
   "isInternetEnabled": false,
   "language": "python",
   "sourceType": "notebook"
  },
  "kernelspec": {
   "display_name": "titanic-comp-venv",
   "language": "python",
   "name": "python3"
  },
  "language_info": {
   "codemirror_mode": {
    "name": "ipython",
    "version": 3
   },
   "file_extension": ".py",
   "mimetype": "text/x-python",
   "name": "python",
   "nbconvert_exporter": "python",
   "pygments_lexer": "ipython3",
   "version": "3.10.11"
  },
  "papermill": {
   "default_parameters": {},
   "duration": 77.245806,
   "end_time": "2024-09-18T17:35:01.531921",
   "environment_variables": {},
   "exception": null,
   "input_path": "__notebook__.ipynb",
   "output_path": "__notebook__.ipynb",
   "parameters": {},
   "start_time": "2024-09-18T17:33:44.286115",
   "version": "2.5.0"
  }
 },
 "nbformat": 4,
 "nbformat_minor": 5
}
