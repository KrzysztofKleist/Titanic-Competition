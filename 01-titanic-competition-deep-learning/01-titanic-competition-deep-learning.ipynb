{
 "cells": [
  {
   "cell_type": "markdown",
   "id": "0f97cab3",
   "metadata": {
    "papermill": {
     "duration": 0.007752,
     "end_time": "2024-09-18T17:33:47.101537",
     "exception": false,
     "start_time": "2024-09-18T17:33:47.093785",
     "status": "completed"
    },
    "tags": []
   },
   "source": [
    "# Titanic Competition - Deep Learning"
   ]
  },
  {
   "cell_type": "code",
   "execution_count": 1,
   "id": "0abd26e9",
   "metadata": {
    "execution": {
     "iopub.execute_input": "2024-09-18T17:33:47.117246Z",
     "iopub.status.busy": "2024-09-18T17:33:47.116905Z",
     "iopub.status.idle": "2024-09-18T17:33:47.128300Z",
     "shell.execute_reply": "2024-09-18T17:33:47.127392Z"
    },
    "papermill": {
     "duration": 0.021659,
     "end_time": "2024-09-18T17:33:47.130339",
     "exception": false,
     "start_time": "2024-09-18T17:33:47.108680",
     "status": "completed"
    },
    "tags": []
   },
   "outputs": [],
   "source": [
    "# Hyperparameters\n",
    "BATCH_SIZE = 64\n",
    "EPOCHS = 100\n",
    "LR = 0.01\n",
    "MOMENTUM = 0.9\n",
    "DECAY = 0.01"
   ]
  },
  {
   "cell_type": "code",
   "execution_count": 2,
   "id": "a14cd2cf",
   "metadata": {
    "execution": {
     "iopub.execute_input": "2024-09-18T17:33:47.146509Z",
     "iopub.status.busy": "2024-09-18T17:33:47.145858Z",
     "iopub.status.idle": "2024-09-18T17:33:49.145814Z",
     "shell.execute_reply": "2024-09-18T17:33:49.144928Z"
    },
    "papermill": {
     "duration": 2.010269,
     "end_time": "2024-09-18T17:33:49.148069",
     "exception": false,
     "start_time": "2024-09-18T17:33:47.137800",
     "status": "completed"
    },
    "tags": []
   },
   "outputs": [],
   "source": [
    "# Setup plotting\n",
    "import matplotlib.pyplot as plt\n",
    "\n",
    "plt.style.use(\"seaborn-v0_8-whitegrid\")\n",
    "# Set Matplotlib defaults\n",
    "plt.rc(\"figure\", autolayout=True)\n",
    "plt.rc(\n",
    "    \"axes\",\n",
    "    labelweight=\"bold\",\n",
    "    labelsize=\"large\",\n",
    "    titleweight=\"bold\",\n",
    "    titlesize=18,\n",
    "    titlepad=10,\n",
    ")\n",
    "plt.rc(\"animation\", html=\"html5\")\n",
    "\n",
    "import numpy as np  # linear algebra\n",
    "import pandas as pd  # data processing, CSV file I/O (e.g. pd.read_csv)\n",
    "from sklearn.model_selection import train_test_split\n",
    "from sklearn.metrics import accuracy_score\n",
    "from sklearn.model_selection import cross_val_score\n",
    "\n",
    "from sklearn.compose import ColumnTransformer\n",
    "from sklearn.pipeline import Pipeline\n",
    "from sklearn.impute import SimpleImputer\n",
    "from sklearn.preprocessing import OneHotEncoder\n",
    "\n",
    "import os\n",
    "import random\n",
    "\n",
    "\n",
    "from utils import (\n",
    "    get_variable_name,\n",
    "    get_num_missing_values,\n",
    "    get_categorical_columns,\n",
    "    MyModel,\n",
    "    model_init,\n",
    ")"
   ]
  },
  {
   "cell_type": "markdown",
   "id": "d421e770",
   "metadata": {},
   "source": [
    "## Preprocessing"
   ]
  },
  {
   "cell_type": "code",
   "execution_count": 3,
   "id": "c9c213bb",
   "metadata": {
    "execution": {
     "iopub.execute_input": "2024-09-18T17:33:49.191385Z",
     "iopub.status.busy": "2024-09-18T17:33:49.190685Z",
     "iopub.status.idle": "2024-09-18T17:33:49.237352Z",
     "shell.execute_reply": "2024-09-18T17:33:49.236421Z"
    },
    "papermill": {
     "duration": 0.056909,
     "end_time": "2024-09-18T17:33:49.239675",
     "exception": false,
     "start_time": "2024-09-18T17:33:49.182766",
     "status": "completed"
    },
    "tags": []
   },
   "outputs": [],
   "source": [
    "# Read the data\n",
    "train_data = pd.read_csv(\"../input/train.csv\").set_index(\"PassengerId\")\n",
    "test_data = pd.read_csv(\"../input/test.csv\").set_index(\"PassengerId\")\n",
    "\n",
    "X = train_data.copy()\n",
    "X_test = test_data.copy()\n",
    "\n",
    "# Drop rows with empty label value\n",
    "X.dropna(axis=0, subset=[\"Survived\"], inplace=True)\n",
    "y = X.Survived\n",
    "X.drop([\"Survived\"], axis=1, inplace=True)"
   ]
  },
  {
   "cell_type": "code",
   "execution_count": 4,
   "id": "ee8df1c3",
   "metadata": {
    "execution": {
     "iopub.execute_input": "2024-09-18T17:33:49.255372Z",
     "iopub.status.busy": "2024-09-18T17:33:49.255081Z",
     "iopub.status.idle": "2024-09-18T17:33:49.261230Z",
     "shell.execute_reply": "2024-09-18T17:33:49.260462Z"
    },
    "papermill": {
     "duration": 0.016135,
     "end_time": "2024-09-18T17:33:49.263194",
     "exception": false,
     "start_time": "2024-09-18T17:33:49.247059",
     "status": "completed"
    },
    "tags": []
   },
   "outputs": [],
   "source": [
    "# What can be definitely dropped?\n",
    "# Name, Ticket\n",
    "X.drop(['Name', 'Ticket'], axis=1, inplace=True)\n",
    "X_test.drop(['Name', 'Ticket'], axis=1, inplace=True)"
   ]
  },
  {
   "cell_type": "code",
   "execution_count": 5,
   "id": "bd5e5585",
   "metadata": {
    "execution": {
     "iopub.execute_input": "2024-09-18T17:33:49.279078Z",
     "iopub.status.busy": "2024-09-18T17:33:49.278802Z",
     "iopub.status.idle": "2024-09-18T17:33:49.295273Z",
     "shell.execute_reply": "2024-09-18T17:33:49.294420Z"
    },
    "papermill": {
     "duration": 0.026556,
     "end_time": "2024-09-18T17:33:49.297248",
     "exception": false,
     "start_time": "2024-09-18T17:33:49.270692",
     "status": "completed"
    },
    "tags": []
   },
   "outputs": [
    {
     "data": {
      "text/html": [
       "<div>\n",
       "<style scoped>\n",
       "    .dataframe tbody tr th:only-of-type {\n",
       "        vertical-align: middle;\n",
       "    }\n",
       "\n",
       "    .dataframe tbody tr th {\n",
       "        vertical-align: top;\n",
       "    }\n",
       "\n",
       "    .dataframe thead th {\n",
       "        text-align: right;\n",
       "    }\n",
       "</style>\n",
       "<table border=\"1\" class=\"dataframe\">\n",
       "  <thead>\n",
       "    <tr style=\"text-align: right;\">\n",
       "      <th></th>\n",
       "      <th>Pclass</th>\n",
       "      <th>Sex</th>\n",
       "      <th>Age</th>\n",
       "      <th>SibSp</th>\n",
       "      <th>Parch</th>\n",
       "      <th>Fare</th>\n",
       "      <th>Cabin</th>\n",
       "      <th>Embarked</th>\n",
       "    </tr>\n",
       "    <tr>\n",
       "      <th>PassengerId</th>\n",
       "      <th></th>\n",
       "      <th></th>\n",
       "      <th></th>\n",
       "      <th></th>\n",
       "      <th></th>\n",
       "      <th></th>\n",
       "      <th></th>\n",
       "      <th></th>\n",
       "    </tr>\n",
       "  </thead>\n",
       "  <tbody>\n",
       "    <tr>\n",
       "      <th>1</th>\n",
       "      <td>3</td>\n",
       "      <td>male</td>\n",
       "      <td>22.0</td>\n",
       "      <td>1</td>\n",
       "      <td>0</td>\n",
       "      <td>7.2500</td>\n",
       "      <td>NaN</td>\n",
       "      <td>S</td>\n",
       "    </tr>\n",
       "    <tr>\n",
       "      <th>2</th>\n",
       "      <td>1</td>\n",
       "      <td>female</td>\n",
       "      <td>38.0</td>\n",
       "      <td>1</td>\n",
       "      <td>0</td>\n",
       "      <td>71.2833</td>\n",
       "      <td>C85</td>\n",
       "      <td>C</td>\n",
       "    </tr>\n",
       "    <tr>\n",
       "      <th>3</th>\n",
       "      <td>3</td>\n",
       "      <td>female</td>\n",
       "      <td>26.0</td>\n",
       "      <td>0</td>\n",
       "      <td>0</td>\n",
       "      <td>7.9250</td>\n",
       "      <td>NaN</td>\n",
       "      <td>S</td>\n",
       "    </tr>\n",
       "    <tr>\n",
       "      <th>4</th>\n",
       "      <td>1</td>\n",
       "      <td>female</td>\n",
       "      <td>35.0</td>\n",
       "      <td>1</td>\n",
       "      <td>0</td>\n",
       "      <td>53.1000</td>\n",
       "      <td>C123</td>\n",
       "      <td>S</td>\n",
       "    </tr>\n",
       "    <tr>\n",
       "      <th>5</th>\n",
       "      <td>3</td>\n",
       "      <td>male</td>\n",
       "      <td>35.0</td>\n",
       "      <td>0</td>\n",
       "      <td>0</td>\n",
       "      <td>8.0500</td>\n",
       "      <td>NaN</td>\n",
       "      <td>S</td>\n",
       "    </tr>\n",
       "  </tbody>\n",
       "</table>\n",
       "</div>"
      ],
      "text/plain": [
       "             Pclass     Sex   Age  SibSp  Parch     Fare Cabin Embarked\n",
       "PassengerId                                                            \n",
       "1                 3    male  22.0      1      0   7.2500   NaN        S\n",
       "2                 1  female  38.0      1      0  71.2833   C85        C\n",
       "3                 3  female  26.0      0      0   7.9250   NaN        S\n",
       "4                 1  female  35.0      1      0  53.1000  C123        S\n",
       "5                 3    male  35.0      0      0   8.0500   NaN        S"
      ]
     },
     "execution_count": 5,
     "metadata": {},
     "output_type": "execute_result"
    }
   ],
   "source": [
    "X.head()"
   ]
  },
  {
   "cell_type": "code",
   "execution_count": 6,
   "id": "be6b57c7",
   "metadata": {
    "execution": {
     "iopub.execute_input": "2024-09-18T17:33:49.313547Z",
     "iopub.status.busy": "2024-09-18T17:33:49.313250Z",
     "iopub.status.idle": "2024-09-18T17:33:49.323440Z",
     "shell.execute_reply": "2024-09-18T17:33:49.322526Z"
    },
    "papermill": {
     "duration": 0.021026,
     "end_time": "2024-09-18T17:33:49.325778",
     "exception": false,
     "start_time": "2024-09-18T17:33:49.304752",
     "status": "completed"
    },
    "tags": []
   },
   "outputs": [
    {
     "name": "stdout",
     "output_type": "stream",
     "text": [
      "Missing values in variable columns:\n",
      "Age         177\n",
      "Cabin       687\n",
      "Embarked      2\n",
      "dtype: int64\n"
     ]
    }
   ],
   "source": [
    "get_num_missing_values(X)"
   ]
  },
  {
   "cell_type": "code",
   "execution_count": 7,
   "id": "8328c8a9",
   "metadata": {},
   "outputs": [
    {
     "name": "stdout",
     "output_type": "stream",
     "text": [
      "variable columns with categorical data:\n",
      "[('Sex', 2), ('Embarked', 3), ('Cabin', 147)]\n"
     ]
    }
   ],
   "source": [
    "get_categorical_columns(X)"
   ]
  },
  {
   "cell_type": "code",
   "execution_count": 8,
   "id": "857607c8",
   "metadata": {
    "execution": {
     "iopub.execute_input": "2024-09-18T17:33:49.342628Z",
     "iopub.status.busy": "2024-09-18T17:33:49.342333Z",
     "iopub.status.idle": "2024-09-18T17:33:49.349032Z",
     "shell.execute_reply": "2024-09-18T17:33:49.348273Z"
    },
    "papermill": {
     "duration": 0.017003,
     "end_time": "2024-09-18T17:33:49.351105",
     "exception": false,
     "start_time": "2024-09-18T17:33:49.334102",
     "status": "completed"
    },
    "tags": []
   },
   "outputs": [
    {
     "name": "stdout",
     "output_type": "stream",
     "text": [
      "Missing values in variable columns:\n",
      "Age       86\n",
      "Fare       1\n",
      "Cabin    327\n",
      "dtype: int64\n"
     ]
    }
   ],
   "source": [
    "get_num_missing_values(X_test)"
   ]
  },
  {
   "cell_type": "code",
   "execution_count": 9,
   "id": "72e564f6",
   "metadata": {},
   "outputs": [
    {
     "name": "stdout",
     "output_type": "stream",
     "text": [
      "variable columns with categorical data:\n",
      "[('Sex', 2), ('Embarked', 3), ('Cabin', 76)]\n"
     ]
    }
   ],
   "source": [
    "get_categorical_columns(X_test)"
   ]
  },
  {
   "cell_type": "code",
   "execution_count": 10,
   "id": "5aa99502",
   "metadata": {
    "execution": {
     "iopub.execute_input": "2024-09-18T17:33:49.367312Z",
     "iopub.status.busy": "2024-09-18T17:33:49.367052Z",
     "iopub.status.idle": "2024-09-18T17:33:49.372753Z",
     "shell.execute_reply": "2024-09-18T17:33:49.371950Z"
    },
    "papermill": {
     "duration": 0.016134,
     "end_time": "2024-09-18T17:33:49.374657",
     "exception": false,
     "start_time": "2024-09-18T17:33:49.358523",
     "status": "completed"
    },
    "tags": []
   },
   "outputs": [],
   "source": [
    "# With so many Cabin entries missing, the Cabin column can also be removed\n",
    "X.drop(['Cabin'], axis=1, inplace=True)\n",
    "X_test.drop(['Cabin'], axis=1, inplace=True)"
   ]
  },
  {
   "cell_type": "markdown",
   "id": "19ff9b2e",
   "metadata": {
    "papermill": {
     "duration": 0.007229,
     "end_time": "2024-09-18T17:33:49.389290",
     "exception": false,
     "start_time": "2024-09-18T17:33:49.382061",
     "status": "completed"
    },
    "tags": []
   },
   "source": [
    "### Optional dropping Age column"
   ]
  },
  {
   "cell_type": "code",
   "execution_count": 11,
   "id": "b0ebc19f",
   "metadata": {
    "execution": {
     "iopub.execute_input": "2024-09-18T17:33:49.405846Z",
     "iopub.status.busy": "2024-09-18T17:33:49.405150Z",
     "iopub.status.idle": "2024-09-18T17:33:49.410480Z",
     "shell.execute_reply": "2024-09-18T17:33:49.409625Z"
    },
    "papermill": {
     "duration": 0.015646,
     "end_time": "2024-09-18T17:33:49.412344",
     "exception": false,
     "start_time": "2024-09-18T17:33:49.396698",
     "status": "completed"
    },
    "tags": []
   },
   "outputs": [],
   "source": [
    "# Select categorical columns\n",
    "categorical_cols = [cname for cname in X.columns if X[cname].dtype == 'object']\n",
    "# Select numerical columns\n",
    "numerical_cols = [\n",
    "    cname for cname in X.columns if X[cname].dtype in ['int64', 'float64']\n",
    "]\n",
    "# Keep selected columns only\n",
    "my_cols = categorical_cols + numerical_cols"
   ]
  },
  {
   "cell_type": "code",
   "execution_count": 12,
   "id": "8a7c3bfa",
   "metadata": {
    "execution": {
     "iopub.execute_input": "2024-09-18T17:33:49.429254Z",
     "iopub.status.busy": "2024-09-18T17:33:49.428952Z",
     "iopub.status.idle": "2024-09-18T17:33:49.433265Z",
     "shell.execute_reply": "2024-09-18T17:33:49.432452Z"
    },
    "papermill": {
     "duration": 0.015173,
     "end_time": "2024-09-18T17:33:49.435554",
     "exception": false,
     "start_time": "2024-09-18T17:33:49.420381",
     "status": "completed"
    },
    "tags": []
   },
   "outputs": [
    {
     "name": "stdout",
     "output_type": "stream",
     "text": [
      "['Sex', 'Embarked']\n",
      "['Pclass', 'Age', 'SibSp', 'Parch', 'Fare']\n",
      "['Sex', 'Embarked', 'Pclass', 'Age', 'SibSp', 'Parch', 'Fare']\n"
     ]
    }
   ],
   "source": [
    "print(categorical_cols)\n",
    "print(numerical_cols)\n",
    "print(my_cols)"
   ]
  },
  {
   "cell_type": "code",
   "execution_count": 13,
   "id": "591ccd35",
   "metadata": {
    "execution": {
     "iopub.execute_input": "2024-09-18T17:33:49.452131Z",
     "iopub.status.busy": "2024-09-18T17:33:49.451856Z",
     "iopub.status.idle": "2024-09-18T17:33:49.456946Z",
     "shell.execute_reply": "2024-09-18T17:33:49.456130Z"
    },
    "papermill": {
     "duration": 0.015596,
     "end_time": "2024-09-18T17:33:49.458830",
     "exception": false,
     "start_time": "2024-09-18T17:33:49.443234",
     "status": "completed"
    },
    "tags": []
   },
   "outputs": [],
   "source": [
    "# Preprocessing for numerical data\n",
    "numerical_transformer = SimpleImputer(strategy='mean')\n",
    "\n",
    "# Preprocessing for categorical data\n",
    "categorical_transformer = Pipeline(\n",
    "    steps=[\n",
    "        ('imputer', SimpleImputer(strategy='most_frequent')),\n",
    "        ('onehot', OneHotEncoder(handle_unknown='ignore')),\n",
    "    ]\n",
    ")\n",
    "\n",
    "# Bundle preprocessing for numerical and categorical data\n",
    "preprocessor = ColumnTransformer(\n",
    "    transformers=[\n",
    "        ('num', numerical_transformer, numerical_cols),\n",
    "        ('cat', categorical_transformer, categorical_cols),\n",
    "    ]\n",
    ")"
   ]
  },
  {
   "cell_type": "markdown",
   "id": "fc3c0d0e",
   "metadata": {
    "papermill": {
     "duration": 0.007387,
     "end_time": "2024-09-18T17:33:49.473774",
     "exception": false,
     "start_time": "2024-09-18T17:33:49.466387",
     "status": "completed"
    },
    "tags": []
   },
   "source": [
    "### Transform both the training and the test data"
   ]
  },
  {
   "cell_type": "code",
   "execution_count": 14,
   "id": "e5a4a3a6",
   "metadata": {
    "execution": {
     "iopub.execute_input": "2024-09-18T17:33:49.490131Z",
     "iopub.status.busy": "2024-09-18T17:33:49.489621Z",
     "iopub.status.idle": "2024-09-18T17:33:49.511308Z",
     "shell.execute_reply": "2024-09-18T17:33:49.510455Z"
    },
    "papermill": {
     "duration": 0.03207,
     "end_time": "2024-09-18T17:33:49.513290",
     "exception": false,
     "start_time": "2024-09-18T17:33:49.481220",
     "status": "completed"
    },
    "tags": []
   },
   "outputs": [],
   "source": [
    "X = preprocessor.fit_transform(X)\n",
    "X_test = preprocessor.transform(X_test)"
   ]
  },
  {
   "cell_type": "markdown",
   "id": "59a538c9",
   "metadata": {
    "papermill": {
     "duration": 0.007425,
     "end_time": "2024-09-18T17:33:49.528696",
     "exception": false,
     "start_time": "2024-09-18T17:33:49.521271",
     "status": "completed"
    },
    "tags": []
   },
   "source": [
    "## Define the model"
   ]
  },
  {
   "cell_type": "code",
   "execution_count": 15,
   "id": "bb910234",
   "metadata": {
    "execution": {
     "iopub.execute_input": "2024-09-18T17:33:49.545457Z",
     "iopub.status.busy": "2024-09-18T17:33:49.545126Z",
     "iopub.status.idle": "2024-09-18T17:33:49.549233Z",
     "shell.execute_reply": "2024-09-18T17:33:49.548399Z"
    },
    "papermill": {
     "duration": 0.01474,
     "end_time": "2024-09-18T17:33:49.551028",
     "exception": false,
     "start_time": "2024-09-18T17:33:49.536288",
     "status": "completed"
    },
    "tags": []
   },
   "outputs": [],
   "source": [
    "input_shape = [X.shape[1]]"
   ]
  },
  {
   "cell_type": "markdown",
   "id": "f692a7ca",
   "metadata": {
    "papermill": {
     "duration": 0.00769,
     "end_time": "2024-09-18T17:34:02.181440",
     "exception": false,
     "start_time": "2024-09-18T17:34:02.173750",
     "status": "completed"
    },
    "tags": []
   },
   "source": [
    "## Start testing"
   ]
  },
  {
   "cell_type": "code",
   "execution_count": 17,
   "id": "53a20627",
   "metadata": {
    "execution": {
     "iopub.execute_input": "2024-09-18T17:34:02.198756Z",
     "iopub.status.busy": "2024-09-18T17:34:02.198385Z",
     "iopub.status.idle": "2024-09-18T17:34:49.536256Z",
     "shell.execute_reply": "2024-09-18T17:34:49.535303Z"
    },
    "papermill": {
     "duration": 47.348967,
     "end_time": "2024-09-18T17:34:49.538439",
     "exception": false,
     "start_time": "2024-09-18T17:34:02.189472",
     "status": "completed"
    },
    "tags": []
   },
   "outputs": [
    {
     "name": "stdout",
     "output_type": "stream",
     "text": [
      "============================ Run 1/5 ============================\n",
      "Epoch 1/100\n",
      "\u001b[1m12/12\u001b[0m \u001b[32m━━━━━━━━━━━━━━━━━━━━\u001b[0m\u001b[37m\u001b[0m \u001b[1m2s\u001b[0m 24ms/step - binary_accuracy: 0.6602 - loss: 0.6785 - val_binary_accuracy: 0.7207 - val_loss: 0.5849 - learning_rate: 0.0100\n",
      "Epoch 2/100\n",
      "\u001b[1m12/12\u001b[0m \u001b[32m━━━━━━━━━━━━━━━━━━━━\u001b[0m\u001b[37m\u001b[0m \u001b[1m0s\u001b[0m 4ms/step - binary_accuracy: 0.7838 - loss: 0.5078 - val_binary_accuracy: 0.6089 - val_loss: 0.6117 - learning_rate: 0.0100\n",
      "Epoch 3/100\n",
      "\u001b[1m12/12\u001b[0m \u001b[32m━━━━━━━━━━━━━━━━━━━━\u001b[0m\u001b[37m\u001b[0m \u001b[1m0s\u001b[0m 4ms/step - binary_accuracy: 0.8002 - loss: 0.4476 - val_binary_accuracy: 0.6089 - val_loss: 0.6127 - learning_rate: 0.0100\n",
      "Epoch 4/100\n",
      "\u001b[1m12/12\u001b[0m \u001b[32m━━━━━━━━━━━━━━━━━━━━\u001b[0m\u001b[37m\u001b[0m \u001b[1m0s\u001b[0m 4ms/step - binary_accuracy: 0.8074 - loss: 0.4265 - val_binary_accuracy: 0.6145 - val_loss: 0.6054 - learning_rate: 0.0100\n",
      "Epoch 5/100\n",
      "\u001b[1m12/12\u001b[0m \u001b[32m━━━━━━━━━━━━━━━━━━━━\u001b[0m\u001b[37m\u001b[0m \u001b[1m0s\u001b[0m 5ms/step - binary_accuracy: 0.8351 - loss: 0.4258 - val_binary_accuracy: 0.6201 - val_loss: 0.6092 - learning_rate: 0.0100\n",
      "Epoch 6/100\n",
      "\u001b[1m12/12\u001b[0m \u001b[32m━━━━━━━━━━━━━━━━━━━━\u001b[0m\u001b[37m\u001b[0m \u001b[1m0s\u001b[0m 5ms/step - binary_accuracy: 0.8180 - loss: 0.4404 - val_binary_accuracy: 0.6480 - val_loss: 0.6014 - learning_rate: 0.0100\n",
      "Epoch 7/100\n",
      "\u001b[1m12/12\u001b[0m \u001b[32m━━━━━━━━━━━━━━━━━━━━\u001b[0m\u001b[37m\u001b[0m \u001b[1m0s\u001b[0m 5ms/step - binary_accuracy: 0.8005 - loss: 0.4330 - val_binary_accuracy: 0.6425 - val_loss: 0.5974 - learning_rate: 0.0100\n",
      "Epoch 8/100\n",
      "\u001b[1m12/12\u001b[0m \u001b[32m━━━━━━━━━━━━━━━━━━━━\u001b[0m\u001b[37m\u001b[0m \u001b[1m0s\u001b[0m 5ms/step - binary_accuracy: 0.8199 - loss: 0.4250 - val_binary_accuracy: 0.6704 - val_loss: 0.5815 - learning_rate: 0.0100\n",
      "Epoch 9/100\n",
      "\u001b[1m12/12\u001b[0m \u001b[32m━━━━━━━━━━━━━━━━━━━━\u001b[0m\u001b[37m\u001b[0m \u001b[1m0s\u001b[0m 6ms/step - binary_accuracy: 0.8162 - loss: 0.4516 - val_binary_accuracy: 0.6760 - val_loss: 0.5831 - learning_rate: 0.0100\n",
      "Epoch 10/100\n",
      "\u001b[1m12/12\u001b[0m \u001b[32m━━━━━━━━━━━━━━━━━━━━\u001b[0m\u001b[37m\u001b[0m \u001b[1m0s\u001b[0m 5ms/step - binary_accuracy: 0.7830 - loss: 0.4696 - val_binary_accuracy: 0.6536 - val_loss: 0.6146 - learning_rate: 0.0100\n",
      "Epoch 11/100\n",
      "\u001b[1m12/12\u001b[0m \u001b[32m━━━━━━━━━━━━━━━━━━━━\u001b[0m\u001b[37m\u001b[0m \u001b[1m0s\u001b[0m 5ms/step - binary_accuracy: 0.8438 - loss: 0.3986 - val_binary_accuracy: 0.6704 - val_loss: 0.6015 - learning_rate: 0.0100\n",
      "Epoch 12/100\n",
      "\u001b[1m12/12\u001b[0m \u001b[32m━━━━━━━━━━━━━━━━━━━━\u001b[0m\u001b[37m\u001b[0m \u001b[1m0s\u001b[0m 6ms/step - binary_accuracy: 0.7956 - loss: 0.4754 - val_binary_accuracy: 0.7039 - val_loss: 0.5527 - learning_rate: 0.0100\n",
      "Epoch 13/100\n",
      "\u001b[1m12/12\u001b[0m \u001b[32m━━━━━━━━━━━━━━━━━━━━\u001b[0m\u001b[37m\u001b[0m \u001b[1m0s\u001b[0m 5ms/step - binary_accuracy: 0.8109 - loss: 0.4314 - val_binary_accuracy: 0.7207 - val_loss: 0.5409 - learning_rate: 0.0100\n",
      "Epoch 14/100\n",
      "\u001b[1m12/12\u001b[0m \u001b[32m━━━━━━━━━━━━━━━━━━━━\u001b[0m\u001b[37m\u001b[0m \u001b[1m0s\u001b[0m 4ms/step - binary_accuracy: 0.8129 - loss: 0.4308 - val_binary_accuracy: 0.7654 - val_loss: 0.5085 - learning_rate: 0.0100\n",
      "Epoch 15/100\n",
      "\u001b[1m12/12\u001b[0m \u001b[32m━━━━━━━━━━━━━━━━━━━━\u001b[0m\u001b[37m\u001b[0m \u001b[1m0s\u001b[0m 4ms/step - binary_accuracy: 0.8224 - loss: 0.3831 - val_binary_accuracy: 0.7542 - val_loss: 0.5166 - learning_rate: 0.0100\n",
      "Epoch 16/100\n",
      "\u001b[1m12/12\u001b[0m \u001b[32m━━━━━━━━━━━━━━━━━━━━\u001b[0m\u001b[37m\u001b[0m \u001b[1m0s\u001b[0m 4ms/step - binary_accuracy: 0.8063 - loss: 0.4217 - val_binary_accuracy: 0.7654 - val_loss: 0.5078 - learning_rate: 0.0100\n",
      "Epoch 17/100\n",
      "\u001b[1m12/12\u001b[0m \u001b[32m━━━━━━━━━━━━━━━━━━━━\u001b[0m\u001b[37m\u001b[0m \u001b[1m0s\u001b[0m 4ms/step - binary_accuracy: 0.8093 - loss: 0.4445 - val_binary_accuracy: 0.7598 - val_loss: 0.4977 - learning_rate: 0.0100\n",
      "Epoch 18/100\n",
      "\u001b[1m12/12\u001b[0m \u001b[32m━━━━━━━━━━━━━━━━━━━━\u001b[0m\u001b[37m\u001b[0m \u001b[1m0s\u001b[0m 5ms/step - binary_accuracy: 0.8160 - loss: 0.4266 - val_binary_accuracy: 0.7654 - val_loss: 0.4982 - learning_rate: 0.0100\n",
      "Epoch 19/100\n",
      "\u001b[1m12/12\u001b[0m \u001b[32m━━━━━━━━━━━━━━━━━━━━\u001b[0m\u001b[37m\u001b[0m \u001b[1m0s\u001b[0m 5ms/step - binary_accuracy: 0.8128 - loss: 0.4325 - val_binary_accuracy: 0.7318 - val_loss: 0.5163 - learning_rate: 0.0100\n",
      "Epoch 20/100\n",
      "\u001b[1m12/12\u001b[0m \u001b[32m━━━━━━━━━━━━━━━━━━━━\u001b[0m\u001b[37m\u001b[0m \u001b[1m0s\u001b[0m 5ms/step - binary_accuracy: 0.8034 - loss: 0.4314 - val_binary_accuracy: 0.7933 - val_loss: 0.4879 - learning_rate: 0.0100\n",
      "Epoch 21/100\n",
      "\u001b[1m12/12\u001b[0m \u001b[32m━━━━━━━━━━━━━━━━━━━━\u001b[0m\u001b[37m\u001b[0m \u001b[1m0s\u001b[0m 5ms/step - binary_accuracy: 0.8022 - loss: 0.4196 - val_binary_accuracy: 0.8045 - val_loss: 0.4740 - learning_rate: 0.0100\n",
      "Epoch 22/100\n",
      "\u001b[1m12/12\u001b[0m \u001b[32m━━━━━━━━━━━━━━━━━━━━\u001b[0m\u001b[37m\u001b[0m \u001b[1m0s\u001b[0m 5ms/step - binary_accuracy: 0.8179 - loss: 0.4309 - val_binary_accuracy: 0.8212 - val_loss: 0.4660 - learning_rate: 0.0100\n",
      "Epoch 23/100\n",
      "\u001b[1m12/12\u001b[0m \u001b[32m━━━━━━━━━━━━━━━━━━━━\u001b[0m\u001b[37m\u001b[0m \u001b[1m0s\u001b[0m 5ms/step - binary_accuracy: 0.8092 - loss: 0.4321 - val_binary_accuracy: 0.8380 - val_loss: 0.4566 - learning_rate: 0.0100\n",
      "Epoch 24/100\n",
      "\u001b[1m12/12\u001b[0m \u001b[32m━━━━━━━━━━━━━━━━━━━━\u001b[0m\u001b[37m\u001b[0m \u001b[1m0s\u001b[0m 5ms/step - binary_accuracy: 0.8211 - loss: 0.4295 - val_binary_accuracy: 0.8380 - val_loss: 0.4497 - learning_rate: 0.0100\n",
      "Epoch 25/100\n",
      "\u001b[1m12/12\u001b[0m \u001b[32m━━━━━━━━━━━━━━━━━━━━\u001b[0m\u001b[37m\u001b[0m \u001b[1m0s\u001b[0m 4ms/step - binary_accuracy: 0.8292 - loss: 0.3937 - val_binary_accuracy: 0.8380 - val_loss: 0.4447 - learning_rate: 0.0100\n",
      "Epoch 26/100\n",
      "\u001b[1m12/12\u001b[0m \u001b[32m━━━━━━━━━━━━━━━━━━━━\u001b[0m\u001b[37m\u001b[0m \u001b[1m0s\u001b[0m 4ms/step - binary_accuracy: 0.8223 - loss: 0.3989 - val_binary_accuracy: 0.8324 - val_loss: 0.4432 - learning_rate: 0.0100\n",
      "Epoch 27/100\n",
      "\u001b[1m12/12\u001b[0m \u001b[32m━━━━━━━━━━━━━━━━━━━━\u001b[0m\u001b[37m\u001b[0m \u001b[1m0s\u001b[0m 4ms/step - binary_accuracy: 0.8420 - loss: 0.4152 - val_binary_accuracy: 0.8156 - val_loss: 0.4521 - learning_rate: 0.0100\n",
      "Epoch 28/100\n",
      "\u001b[1m12/12\u001b[0m \u001b[32m━━━━━━━━━━━━━━━━━━━━\u001b[0m\u001b[37m\u001b[0m \u001b[1m0s\u001b[0m 4ms/step - binary_accuracy: 0.8238 - loss: 0.4069 - val_binary_accuracy: 0.8045 - val_loss: 0.4664 - learning_rate: 0.0100\n",
      "Epoch 29/100\n",
      "\u001b[1m12/12\u001b[0m \u001b[32m━━━━━━━━━━━━━━━━━━━━\u001b[0m\u001b[37m\u001b[0m \u001b[1m0s\u001b[0m 4ms/step - binary_accuracy: 0.8421 - loss: 0.4038 - val_binary_accuracy: 0.8101 - val_loss: 0.4446 - learning_rate: 0.0100\n",
      "Epoch 30/100\n",
      "\u001b[1m12/12\u001b[0m \u001b[32m━━━━━━━━━━━━━━━━━━━━\u001b[0m\u001b[37m\u001b[0m \u001b[1m0s\u001b[0m 4ms/step - binary_accuracy: 0.8120 - loss: 0.4219 - val_binary_accuracy: 0.8324 - val_loss: 0.4411 - learning_rate: 0.0100\n",
      "Epoch 31/100\n",
      "\u001b[1m12/12\u001b[0m \u001b[32m━━━━━━━━━━━━━━━━━━━━\u001b[0m\u001b[37m\u001b[0m \u001b[1m0s\u001b[0m 4ms/step - binary_accuracy: 0.8292 - loss: 0.4089 - val_binary_accuracy: 0.8101 - val_loss: 0.4396 - learning_rate: 0.0100\n",
      "Epoch 32/100\n",
      "\u001b[1m12/12\u001b[0m \u001b[32m━━━━━━━━━━━━━━━━━━━━\u001b[0m\u001b[37m\u001b[0m \u001b[1m0s\u001b[0m 4ms/step - binary_accuracy: 0.8001 - loss: 0.4491 - val_binary_accuracy: 0.8324 - val_loss: 0.4408 - learning_rate: 0.0100\n",
      "Epoch 33/100\n",
      "\u001b[1m12/12\u001b[0m \u001b[32m━━━━━━━━━━━━━━━━━━━━\u001b[0m\u001b[37m\u001b[0m \u001b[1m0s\u001b[0m 4ms/step - binary_accuracy: 0.8390 - loss: 0.4026 - val_binary_accuracy: 0.8101 - val_loss: 0.4346 - learning_rate: 0.0100\n",
      "Epoch 34/100\n",
      "\u001b[1m12/12\u001b[0m \u001b[32m━━━━━━━━━━━━━━━━━━━━\u001b[0m\u001b[37m\u001b[0m \u001b[1m0s\u001b[0m 4ms/step - binary_accuracy: 0.8277 - loss: 0.3789 - val_binary_accuracy: 0.8045 - val_loss: 0.4448 - learning_rate: 0.0100\n",
      "Epoch 35/100\n",
      "\u001b[1m12/12\u001b[0m \u001b[32m━━━━━━━━━━━━━━━━━━━━\u001b[0m\u001b[37m\u001b[0m \u001b[1m0s\u001b[0m 5ms/step - binary_accuracy: 0.8392 - loss: 0.4051 - val_binary_accuracy: 0.8380 - val_loss: 0.4397 - learning_rate: 0.0100\n",
      "Epoch 36/100\n",
      "\u001b[1m12/12\u001b[0m \u001b[32m━━━━━━━━━━━━━━━━━━━━\u001b[0m\u001b[37m\u001b[0m \u001b[1m0s\u001b[0m 4ms/step - binary_accuracy: 0.8095 - loss: 0.4147 - val_binary_accuracy: 0.8045 - val_loss: 0.4424 - learning_rate: 0.0100\n",
      "Epoch 37/100\n",
      "\u001b[1m12/12\u001b[0m \u001b[32m━━━━━━━━━━━━━━━━━━━━\u001b[0m\u001b[37m\u001b[0m \u001b[1m0s\u001b[0m 5ms/step - binary_accuracy: 0.8330 - loss: 0.4254 - val_binary_accuracy: 0.8101 - val_loss: 0.4347 - learning_rate: 0.0100\n",
      "Epoch 38/100\n",
      "\u001b[1m12/12\u001b[0m \u001b[32m━━━━━━━━━━━━━━━━━━━━\u001b[0m\u001b[37m\u001b[0m \u001b[1m0s\u001b[0m 6ms/step - binary_accuracy: 0.8140 - loss: 0.4474 - val_binary_accuracy: 0.8380 - val_loss: 0.4503 - learning_rate: 0.0100\n",
      "Epoch 39/100\n",
      "\u001b[1m12/12\u001b[0m \u001b[32m━━━━━━━━━━━━━━━━━━━━\u001b[0m\u001b[37m\u001b[0m \u001b[1m0s\u001b[0m 5ms/step - binary_accuracy: 0.8151 - loss: 0.4465 - val_binary_accuracy: 0.8324 - val_loss: 0.4377 - learning_rate: 0.0100\n",
      "Epoch 40/100\n",
      "\u001b[1m12/12\u001b[0m \u001b[32m━━━━━━━━━━━━━━━━━━━━\u001b[0m\u001b[37m\u001b[0m \u001b[1m0s\u001b[0m 5ms/step - binary_accuracy: 0.8325 - loss: 0.3715 - val_binary_accuracy: 0.8156 - val_loss: 0.4376 - learning_rate: 0.0100\n",
      "Epoch 41/100\n",
      "\u001b[1m12/12\u001b[0m \u001b[32m━━━━━━━━━━━━━━━━━━━━\u001b[0m\u001b[37m\u001b[0m \u001b[1m0s\u001b[0m 5ms/step - binary_accuracy: 0.8271 - loss: 0.4199 - val_binary_accuracy: 0.8324 - val_loss: 0.4307 - learning_rate: 0.0100\n",
      "Epoch 42/100\n",
      "\u001b[1m12/12\u001b[0m \u001b[32m━━━━━━━━━━━━━━━━━━━━\u001b[0m\u001b[37m\u001b[0m \u001b[1m0s\u001b[0m 4ms/step - binary_accuracy: 0.8231 - loss: 0.3792 - val_binary_accuracy: 0.8324 - val_loss: 0.4342 - learning_rate: 0.0100\n",
      "Epoch 43/100\n",
      "\u001b[1m12/12\u001b[0m \u001b[32m━━━━━━━━━━━━━━━━━━━━\u001b[0m\u001b[37m\u001b[0m \u001b[1m0s\u001b[0m 5ms/step - binary_accuracy: 0.8221 - loss: 0.4219 - val_binary_accuracy: 0.7989 - val_loss: 0.4371 - learning_rate: 0.0100\n",
      "Epoch 44/100\n",
      "\u001b[1m12/12\u001b[0m \u001b[32m━━━━━━━━━━━━━━━━━━━━\u001b[0m\u001b[37m\u001b[0m \u001b[1m0s\u001b[0m 5ms/step - binary_accuracy: 0.8454 - loss: 0.3744 - val_binary_accuracy: 0.8212 - val_loss: 0.4317 - learning_rate: 0.0100\n",
      "Epoch 45/100\n",
      "\u001b[1m12/12\u001b[0m \u001b[32m━━━━━━━━━━━━━━━━━━━━\u001b[0m\u001b[37m\u001b[0m \u001b[1m0s\u001b[0m 5ms/step - binary_accuracy: 0.8147 - loss: 0.3996 - val_binary_accuracy: 0.8324 - val_loss: 0.4336 - learning_rate: 0.0100\n",
      "Epoch 46/100\n",
      "\u001b[1m12/12\u001b[0m \u001b[32m━━━━━━━━━━━━━━━━━━━━\u001b[0m\u001b[37m\u001b[0m \u001b[1m0s\u001b[0m 4ms/step - binary_accuracy: 0.8384 - loss: 0.3858 - val_binary_accuracy: 0.8212 - val_loss: 0.4367 - learning_rate: 0.0100\n",
      "Epoch 47/100\n",
      "\u001b[1m12/12\u001b[0m \u001b[32m━━━━━━━━━━━━━━━━━━━━\u001b[0m\u001b[37m\u001b[0m \u001b[1m0s\u001b[0m 4ms/step - binary_accuracy: 0.8270 - loss: 0.4112 - val_binary_accuracy: 0.8045 - val_loss: 0.4520 - learning_rate: 0.0100\n",
      "Epoch 48/100\n",
      "\u001b[1m12/12\u001b[0m \u001b[32m━━━━━━━━━━━━━━━━━━━━\u001b[0m\u001b[37m\u001b[0m \u001b[1m0s\u001b[0m 4ms/step - binary_accuracy: 0.8243 - loss: 0.4190 - val_binary_accuracy: 0.8101 - val_loss: 0.4498 - learning_rate: 0.0100\n",
      "Epoch 49/100\n",
      "\u001b[1m12/12\u001b[0m \u001b[32m━━━━━━━━━━━━━━━━━━━━\u001b[0m\u001b[37m\u001b[0m \u001b[1m0s\u001b[0m 5ms/step - binary_accuracy: 0.8371 - loss: 0.3842 - val_binary_accuracy: 0.7989 - val_loss: 0.4507 - learning_rate: 0.0100\n",
      "Epoch 50/100\n",
      "\u001b[1m12/12\u001b[0m \u001b[32m━━━━━━━━━━━━━━━━━━━━\u001b[0m\u001b[37m\u001b[0m \u001b[1m0s\u001b[0m 6ms/step - binary_accuracy: 0.8408 - loss: 0.3912 - val_binary_accuracy: 0.8045 - val_loss: 0.4539 - learning_rate: 0.0100\n",
      "Epoch 51/100\n",
      "\u001b[1m12/12\u001b[0m \u001b[32m━━━━━━━━━━━━━━━━━━━━\u001b[0m\u001b[37m\u001b[0m \u001b[1m0s\u001b[0m 5ms/step - binary_accuracy: 0.8363 - loss: 0.4011 - val_binary_accuracy: 0.7933 - val_loss: 0.4457 - learning_rate: 0.0100\n",
      "Epoch 52/100\n",
      "\u001b[1m12/12\u001b[0m \u001b[32m━━━━━━━━━━━━━━━━━━━━\u001b[0m\u001b[37m\u001b[0m \u001b[1m0s\u001b[0m 6ms/step - binary_accuracy: 0.8339 - loss: 0.3883 - val_binary_accuracy: 0.7933 - val_loss: 0.4487 - learning_rate: 0.0100\n",
      "Epoch 53/100\n",
      "\u001b[1m12/12\u001b[0m \u001b[32m━━━━━━━━━━━━━━━━━━━━\u001b[0m\u001b[37m\u001b[0m \u001b[1m0s\u001b[0m 5ms/step - binary_accuracy: 0.8333 - loss: 0.4447 - val_binary_accuracy: 0.7877 - val_loss: 0.4651 - learning_rate: 0.0100\n",
      "Epoch 54/100\n",
      "\u001b[1m12/12\u001b[0m \u001b[32m━━━━━━━━━━━━━━━━━━━━\u001b[0m\u001b[37m\u001b[0m \u001b[1m0s\u001b[0m 5ms/step - binary_accuracy: 0.8362 - loss: 0.4047 - val_binary_accuracy: 0.8268 - val_loss: 0.4592 - learning_rate: 0.0100\n",
      "Epoch 55/100\n",
      "\u001b[1m12/12\u001b[0m \u001b[32m━━━━━━━━━━━━━━━━━━━━\u001b[0m\u001b[37m\u001b[0m \u001b[1m0s\u001b[0m 4ms/step - binary_accuracy: 0.8379 - loss: 0.3844 - val_binary_accuracy: 0.8380 - val_loss: 0.4486 - learning_rate: 0.0100\n",
      "Epoch 56/100\n",
      "\u001b[1m12/12\u001b[0m \u001b[32m━━━━━━━━━━━━━━━━━━━━\u001b[0m\u001b[37m\u001b[0m \u001b[1m0s\u001b[0m 5ms/step - binary_accuracy: 0.8103 - loss: 0.4281 - val_binary_accuracy: 0.8268 - val_loss: 0.4489 - learning_rate: 0.0100\n",
      "============================ Run 2/5 ============================\n",
      "Epoch 1/100\n",
      "\u001b[1m12/12\u001b[0m \u001b[32m━━━━━━━━━━━━━━━━━━━━\u001b[0m\u001b[37m\u001b[0m \u001b[1m1s\u001b[0m 17ms/step - binary_accuracy: 0.6237 - loss: 0.7657 - val_binary_accuracy: 0.7095 - val_loss: 0.6336 - learning_rate: 0.0100\n",
      "Epoch 2/100\n",
      "\u001b[1m12/12\u001b[0m \u001b[32m━━━━━━━━━━━━━━━━━━━━\u001b[0m\u001b[37m\u001b[0m \u001b[1m0s\u001b[0m 4ms/step - binary_accuracy: 0.8072 - loss: 0.5091 - val_binary_accuracy: 0.6536 - val_loss: 0.6236 - learning_rate: 0.0100\n",
      "Epoch 3/100\n",
      "\u001b[1m12/12\u001b[0m \u001b[32m━━━━━━━━━━━━━━━━━━━━\u001b[0m\u001b[37m\u001b[0m \u001b[1m0s\u001b[0m 5ms/step - binary_accuracy: 0.7911 - loss: 0.5232 - val_binary_accuracy: 0.6145 - val_loss: 0.6126 - learning_rate: 0.0100\n",
      "Epoch 4/100\n",
      "\u001b[1m12/12\u001b[0m \u001b[32m━━━━━━━━━━━━━━━━━━━━\u001b[0m\u001b[37m\u001b[0m \u001b[1m0s\u001b[0m 4ms/step - binary_accuracy: 0.8122 - loss: 0.4423 - val_binary_accuracy: 0.6592 - val_loss: 0.6240 - learning_rate: 0.0100\n",
      "Epoch 5/100\n",
      "\u001b[1m12/12\u001b[0m \u001b[32m━━━━━━━━━━━━━━━━━━━━\u001b[0m\u001b[37m\u001b[0m \u001b[1m0s\u001b[0m 5ms/step - binary_accuracy: 0.7966 - loss: 0.4433 - val_binary_accuracy: 0.6592 - val_loss: 0.6056 - learning_rate: 0.0100\n",
      "Epoch 6/100\n",
      "\u001b[1m12/12\u001b[0m \u001b[32m━━━━━━━━━━━━━━━━━━━━\u001b[0m\u001b[37m\u001b[0m \u001b[1m0s\u001b[0m 5ms/step - binary_accuracy: 0.7924 - loss: 0.4920 - val_binary_accuracy: 0.6201 - val_loss: 0.6330 - learning_rate: 0.0100\n",
      "Epoch 7/100\n",
      "\u001b[1m12/12\u001b[0m \u001b[32m━━━━━━━━━━━━━━━━━━━━\u001b[0m\u001b[37m\u001b[0m \u001b[1m0s\u001b[0m 5ms/step - binary_accuracy: 0.8058 - loss: 0.4768 - val_binary_accuracy: 0.6536 - val_loss: 0.6146 - learning_rate: 0.0100\n",
      "Epoch 8/100\n",
      "\u001b[1m12/12\u001b[0m \u001b[32m━━━━━━━━━━━━━━━━━━━━\u001b[0m\u001b[37m\u001b[0m \u001b[1m0s\u001b[0m 4ms/step - binary_accuracy: 0.8086 - loss: 0.4665 - val_binary_accuracy: 0.6425 - val_loss: 0.6430 - learning_rate: 0.0100\n",
      "Epoch 9/100\n",
      "\u001b[1m12/12\u001b[0m \u001b[32m━━━━━━━━━━━━━━━━━━━━\u001b[0m\u001b[37m\u001b[0m \u001b[1m0s\u001b[0m 5ms/step - binary_accuracy: 0.8299 - loss: 0.4149 - val_binary_accuracy: 0.6592 - val_loss: 0.6373 - learning_rate: 0.0100\n",
      "Epoch 10/100\n",
      "\u001b[1m12/12\u001b[0m \u001b[32m━━━━━━━━━━━━━━━━━━━━\u001b[0m\u001b[37m\u001b[0m \u001b[1m0s\u001b[0m 4ms/step - binary_accuracy: 0.8118 - loss: 0.4328 - val_binary_accuracy: 0.6704 - val_loss: 0.6138 - learning_rate: 0.0100\n",
      "Epoch 11/100\n",
      "\u001b[1m12/12\u001b[0m \u001b[32m━━━━━━━━━━━━━━━━━━━━\u001b[0m\u001b[37m\u001b[0m \u001b[1m0s\u001b[0m 4ms/step - binary_accuracy: 0.7983 - loss: 0.4489 - val_binary_accuracy: 0.6704 - val_loss: 0.6085 - learning_rate: 0.0100\n",
      "Epoch 12/100\n",
      "\u001b[1m12/12\u001b[0m \u001b[32m━━━━━━━━━━━━━━━━━━━━\u001b[0m\u001b[37m\u001b[0m \u001b[1m0s\u001b[0m 4ms/step - binary_accuracy: 0.8482 - loss: 0.3960 - val_binary_accuracy: 0.6816 - val_loss: 0.6164 - learning_rate: 0.0100\n",
      "Epoch 13/100\n",
      "\u001b[1m12/12\u001b[0m \u001b[32m━━━━━━━━━━━━━━━━━━━━\u001b[0m\u001b[37m\u001b[0m \u001b[1m0s\u001b[0m 4ms/step - binary_accuracy: 0.8349 - loss: 0.3834 - val_binary_accuracy: 0.6760 - val_loss: 0.5909 - learning_rate: 0.0100\n",
      "Epoch 14/100\n",
      "\u001b[1m12/12\u001b[0m \u001b[32m━━━━━━━━━━━━━━━━━━━━\u001b[0m\u001b[37m\u001b[0m \u001b[1m0s\u001b[0m 4ms/step - binary_accuracy: 0.8252 - loss: 0.4551 - val_binary_accuracy: 0.6648 - val_loss: 0.6146 - learning_rate: 0.0100\n",
      "Epoch 15/100\n",
      "\u001b[1m12/12\u001b[0m \u001b[32m━━━━━━━━━━━━━━━━━━━━\u001b[0m\u001b[37m\u001b[0m \u001b[1m0s\u001b[0m 5ms/step - binary_accuracy: 0.8071 - loss: 0.4288 - val_binary_accuracy: 0.6816 - val_loss: 0.5742 - learning_rate: 0.0100\n",
      "Epoch 16/100\n",
      "\u001b[1m12/12\u001b[0m \u001b[32m━━━━━━━━━━━━━━━━━━━━\u001b[0m\u001b[37m\u001b[0m \u001b[1m0s\u001b[0m 5ms/step - binary_accuracy: 0.8199 - loss: 0.4308 - val_binary_accuracy: 0.6927 - val_loss: 0.5597 - learning_rate: 0.0100\n",
      "Epoch 17/100\n",
      "\u001b[1m12/12\u001b[0m \u001b[32m━━━━━━━━━━━━━━━━━━━━\u001b[0m\u001b[37m\u001b[0m \u001b[1m0s\u001b[0m 5ms/step - binary_accuracy: 0.8435 - loss: 0.4176 - val_binary_accuracy: 0.6983 - val_loss: 0.5170 - learning_rate: 0.0100\n",
      "Epoch 18/100\n",
      "\u001b[1m12/12\u001b[0m \u001b[32m━━━━━━━━━━━━━━━━━━━━\u001b[0m\u001b[37m\u001b[0m \u001b[1m0s\u001b[0m 5ms/step - binary_accuracy: 0.7986 - loss: 0.4339 - val_binary_accuracy: 0.7318 - val_loss: 0.4996 - learning_rate: 0.0100\n",
      "Epoch 19/100\n",
      "\u001b[1m12/12\u001b[0m \u001b[32m━━━━━━━━━━━━━━━━━━━━\u001b[0m\u001b[37m\u001b[0m \u001b[1m0s\u001b[0m 4ms/step - binary_accuracy: 0.8467 - loss: 0.3958 - val_binary_accuracy: 0.7542 - val_loss: 0.4769 - learning_rate: 0.0100\n",
      "Epoch 20/100\n",
      "\u001b[1m12/12\u001b[0m \u001b[32m━━━━━━━━━━━━━━━━━━━━\u001b[0m\u001b[37m\u001b[0m \u001b[1m0s\u001b[0m 5ms/step - binary_accuracy: 0.8145 - loss: 0.4436 - val_binary_accuracy: 0.7877 - val_loss: 0.4816 - learning_rate: 0.0100\n",
      "Epoch 21/100\n",
      "\u001b[1m12/12\u001b[0m \u001b[32m━━━━━━━━━━━━━━━━━━━━\u001b[0m\u001b[37m\u001b[0m \u001b[1m0s\u001b[0m 5ms/step - binary_accuracy: 0.8123 - loss: 0.4045 - val_binary_accuracy: 0.8101 - val_loss: 0.4475 - learning_rate: 0.0100\n",
      "Epoch 22/100\n",
      "\u001b[1m12/12\u001b[0m \u001b[32m━━━━━━━━━━━━━━━━━━━━\u001b[0m\u001b[37m\u001b[0m \u001b[1m0s\u001b[0m 4ms/step - binary_accuracy: 0.8066 - loss: 0.3994 - val_binary_accuracy: 0.7709 - val_loss: 0.4907 - learning_rate: 0.0100\n",
      "Epoch 23/100\n",
      "\u001b[1m12/12\u001b[0m \u001b[32m━━━━━━━━━━━━━━━━━━━━\u001b[0m\u001b[37m\u001b[0m \u001b[1m0s\u001b[0m 5ms/step - binary_accuracy: 0.8304 - loss: 0.4346 - val_binary_accuracy: 0.7989 - val_loss: 0.4647 - learning_rate: 0.0100\n",
      "Epoch 24/100\n",
      "\u001b[1m12/12\u001b[0m \u001b[32m━━━━━━━━━━━━━━━━━━━━\u001b[0m\u001b[37m\u001b[0m \u001b[1m0s\u001b[0m 5ms/step - binary_accuracy: 0.8412 - loss: 0.3841 - val_binary_accuracy: 0.8101 - val_loss: 0.4561 - learning_rate: 0.0100\n",
      "Epoch 25/100\n",
      "\u001b[1m12/12\u001b[0m \u001b[32m━━━━━━━━━━━━━━━━━━━━\u001b[0m\u001b[37m\u001b[0m \u001b[1m0s\u001b[0m 4ms/step - binary_accuracy: 0.8311 - loss: 0.4052 - val_binary_accuracy: 0.8045 - val_loss: 0.4508 - learning_rate: 0.0100\n",
      "Epoch 26/100\n",
      "\u001b[1m12/12\u001b[0m \u001b[32m━━━━━━━━━━━━━━━━━━━━\u001b[0m\u001b[37m\u001b[0m \u001b[1m0s\u001b[0m 4ms/step - binary_accuracy: 0.8361 - loss: 0.4140 - val_binary_accuracy: 0.8045 - val_loss: 0.4455 - learning_rate: 0.0100\n",
      "Epoch 27/100\n",
      "\u001b[1m12/12\u001b[0m \u001b[32m━━━━━━━━━━━━━━━━━━━━\u001b[0m\u001b[37m\u001b[0m \u001b[1m0s\u001b[0m 5ms/step - binary_accuracy: 0.8072 - loss: 0.4318 - val_binary_accuracy: 0.7989 - val_loss: 0.4437 - learning_rate: 0.0100\n",
      "Epoch 28/100\n",
      "\u001b[1m12/12\u001b[0m \u001b[32m━━━━━━━━━━━━━━━━━━━━\u001b[0m\u001b[37m\u001b[0m \u001b[1m0s\u001b[0m 5ms/step - binary_accuracy: 0.8327 - loss: 0.4165 - val_binary_accuracy: 0.7765 - val_loss: 0.4640 - learning_rate: 0.0100\n",
      "Epoch 29/100\n",
      "\u001b[1m12/12\u001b[0m \u001b[32m━━━━━━━━━━━━━━━━━━━━\u001b[0m\u001b[37m\u001b[0m \u001b[1m0s\u001b[0m 4ms/step - binary_accuracy: 0.8408 - loss: 0.3936 - val_binary_accuracy: 0.8045 - val_loss: 0.4533 - learning_rate: 0.0100\n",
      "Epoch 30/100\n",
      "\u001b[1m12/12\u001b[0m \u001b[32m━━━━━━━━━━━━━━━━━━━━\u001b[0m\u001b[37m\u001b[0m \u001b[1m0s\u001b[0m 5ms/step - binary_accuracy: 0.8210 - loss: 0.4149 - val_binary_accuracy: 0.8156 - val_loss: 0.4430 - learning_rate: 0.0100\n",
      "Epoch 31/100\n",
      "\u001b[1m12/12\u001b[0m \u001b[32m━━━━━━━━━━━━━━━━━━━━\u001b[0m\u001b[37m\u001b[0m \u001b[1m0s\u001b[0m 5ms/step - binary_accuracy: 0.8177 - loss: 0.4172 - val_binary_accuracy: 0.8156 - val_loss: 0.4294 - learning_rate: 0.0100\n",
      "Epoch 32/100\n",
      "\u001b[1m12/12\u001b[0m \u001b[32m━━━━━━━━━━━━━━━━━━━━\u001b[0m\u001b[37m\u001b[0m \u001b[1m0s\u001b[0m 5ms/step - binary_accuracy: 0.8358 - loss: 0.3859 - val_binary_accuracy: 0.8268 - val_loss: 0.4225 - learning_rate: 0.0100\n",
      "Epoch 33/100\n",
      "\u001b[1m12/12\u001b[0m \u001b[32m━━━━━━━━━━━━━━━━━━━━\u001b[0m\u001b[37m\u001b[0m \u001b[1m0s\u001b[0m 4ms/step - binary_accuracy: 0.8439 - loss: 0.3714 - val_binary_accuracy: 0.8212 - val_loss: 0.4352 - learning_rate: 0.0100\n",
      "Epoch 34/100\n",
      "\u001b[1m12/12\u001b[0m \u001b[32m━━━━━━━━━━━━━━━━━━━━\u001b[0m\u001b[37m\u001b[0m \u001b[1m0s\u001b[0m 4ms/step - binary_accuracy: 0.8440 - loss: 0.4094 - val_binary_accuracy: 0.8324 - val_loss: 0.4168 - learning_rate: 0.0100\n",
      "Epoch 35/100\n",
      "\u001b[1m12/12\u001b[0m \u001b[32m━━━━━━━━━━━━━━━━━━━━\u001b[0m\u001b[37m\u001b[0m \u001b[1m0s\u001b[0m 5ms/step - binary_accuracy: 0.8187 - loss: 0.4096 - val_binary_accuracy: 0.8156 - val_loss: 0.4193 - learning_rate: 0.0100\n",
      "Epoch 36/100\n",
      "\u001b[1m12/12\u001b[0m \u001b[32m━━━━━━━━━━━━━━━━━━━━\u001b[0m\u001b[37m\u001b[0m \u001b[1m0s\u001b[0m 6ms/step - binary_accuracy: 0.8076 - loss: 0.4436 - val_binary_accuracy: 0.8380 - val_loss: 0.4039 - learning_rate: 0.0100\n",
      "Epoch 37/100\n",
      "\u001b[1m12/12\u001b[0m \u001b[32m━━━━━━━━━━━━━━━━━━━━\u001b[0m\u001b[37m\u001b[0m \u001b[1m0s\u001b[0m 5ms/step - binary_accuracy: 0.8426 - loss: 0.3867 - val_binary_accuracy: 0.8045 - val_loss: 0.4619 - learning_rate: 0.0100\n",
      "Epoch 38/100\n",
      "\u001b[1m12/12\u001b[0m \u001b[32m━━━━━━━━━━━━━━━━━━━━\u001b[0m\u001b[37m\u001b[0m \u001b[1m0s\u001b[0m 5ms/step - binary_accuracy: 0.8324 - loss: 0.4076 - val_binary_accuracy: 0.8212 - val_loss: 0.4252 - learning_rate: 0.0100\n",
      "Epoch 39/100\n",
      "\u001b[1m12/12\u001b[0m \u001b[32m━━━━━━━━━━━━━━━━━━━━\u001b[0m\u001b[37m\u001b[0m \u001b[1m0s\u001b[0m 5ms/step - binary_accuracy: 0.8210 - loss: 0.4257 - val_binary_accuracy: 0.8156 - val_loss: 0.4254 - learning_rate: 0.0100\n",
      "Epoch 40/100\n",
      "\u001b[1m12/12\u001b[0m \u001b[32m━━━━━━━━━━━━━━━━━━━━\u001b[0m\u001b[37m\u001b[0m \u001b[1m0s\u001b[0m 5ms/step - binary_accuracy: 0.8101 - loss: 0.4227 - val_binary_accuracy: 0.8268 - val_loss: 0.4245 - learning_rate: 0.0100\n",
      "Epoch 41/100\n",
      "\u001b[1m12/12\u001b[0m \u001b[32m━━━━━━━━━━━━━━━━━━━━\u001b[0m\u001b[37m\u001b[0m \u001b[1m0s\u001b[0m 5ms/step - binary_accuracy: 0.8353 - loss: 0.3997 - val_binary_accuracy: 0.8101 - val_loss: 0.4316 - learning_rate: 0.0100\n",
      "Epoch 42/100\n",
      "\u001b[1m12/12\u001b[0m \u001b[32m━━━━━━━━━━━━━━━━━━━━\u001b[0m\u001b[37m\u001b[0m \u001b[1m0s\u001b[0m 4ms/step - binary_accuracy: 0.8333 - loss: 0.3896 - val_binary_accuracy: 0.8324 - val_loss: 0.4135 - learning_rate: 0.0100\n",
      "Epoch 43/100\n",
      "\u001b[1m12/12\u001b[0m \u001b[32m━━━━━━━━━━━━━━━━━━━━\u001b[0m\u001b[37m\u001b[0m \u001b[1m0s\u001b[0m 5ms/step - binary_accuracy: 0.8550 - loss: 0.3803 - val_binary_accuracy: 0.8324 - val_loss: 0.4145 - learning_rate: 0.0100\n",
      "Epoch 44/100\n",
      "\u001b[1m12/12\u001b[0m \u001b[32m━━━━━━━━━━━━━━━━━━━━\u001b[0m\u001b[37m\u001b[0m \u001b[1m0s\u001b[0m 5ms/step - binary_accuracy: 0.8330 - loss: 0.3973 - val_binary_accuracy: 0.8101 - val_loss: 0.4309 - learning_rate: 0.0100\n",
      "Epoch 45/100\n",
      "\u001b[1m12/12\u001b[0m \u001b[32m━━━━━━━━━━━━━━━━━━━━\u001b[0m\u001b[37m\u001b[0m \u001b[1m0s\u001b[0m 5ms/step - binary_accuracy: 0.8276 - loss: 0.4186 - val_binary_accuracy: 0.8212 - val_loss: 0.4199 - learning_rate: 0.0100\n",
      "Epoch 46/100\n",
      "\u001b[1m12/12\u001b[0m \u001b[32m━━━━━━━━━━━━━━━━━━━━\u001b[0m\u001b[37m\u001b[0m \u001b[1m0s\u001b[0m 6ms/step - binary_accuracy: 0.8413 - loss: 0.3768 - val_binary_accuracy: 0.8212 - val_loss: 0.4152 - learning_rate: 0.0100\n",
      "Epoch 47/100\n",
      "\u001b[1m12/12\u001b[0m \u001b[32m━━━━━━━━━━━━━━━━━━━━\u001b[0m\u001b[37m\u001b[0m \u001b[1m0s\u001b[0m 6ms/step - binary_accuracy: 0.8482 - loss: 0.4026 - val_binary_accuracy: 0.7989 - val_loss: 0.4389 - learning_rate: 0.0100\n",
      "Epoch 48/100\n",
      "\u001b[1m12/12\u001b[0m \u001b[32m━━━━━━━━━━━━━━━━━━━━\u001b[0m\u001b[37m\u001b[0m \u001b[1m0s\u001b[0m 5ms/step - binary_accuracy: 0.8356 - loss: 0.4203 - val_binary_accuracy: 0.8045 - val_loss: 0.4150 - learning_rate: 0.0100\n",
      "Epoch 49/100\n",
      "\u001b[1m12/12\u001b[0m \u001b[32m━━━━━━━━━━━━━━━━━━━━\u001b[0m\u001b[37m\u001b[0m \u001b[1m0s\u001b[0m 5ms/step - binary_accuracy: 0.8082 - loss: 0.4414 - val_binary_accuracy: 0.7933 - val_loss: 0.4165 - learning_rate: 0.0100\n",
      "Epoch 50/100\n",
      "\u001b[1m12/12\u001b[0m \u001b[32m━━━━━━━━━━━━━━━━━━━━\u001b[0m\u001b[37m\u001b[0m \u001b[1m0s\u001b[0m 6ms/step - binary_accuracy: 0.8128 - loss: 0.4163 - val_binary_accuracy: 0.8156 - val_loss: 0.4246 - learning_rate: 0.0100\n",
      "Epoch 51/100\n",
      "\u001b[1m12/12\u001b[0m \u001b[32m━━━━━━━━━━━━━━━━━━━━\u001b[0m\u001b[37m\u001b[0m \u001b[1m0s\u001b[0m 6ms/step - binary_accuracy: 0.8344 - loss: 0.3757 - val_binary_accuracy: 0.8268 - val_loss: 0.4138 - learning_rate: 0.0100\n",
      "============================ Run 3/5 ============================\n",
      "Epoch 1/100\n",
      "\u001b[1m12/12\u001b[0m \u001b[32m━━━━━━━━━━━━━━━━━━━━\u001b[0m\u001b[37m\u001b[0m \u001b[1m1s\u001b[0m 16ms/step - binary_accuracy: 0.6205 - loss: 0.7877 - val_binary_accuracy: 0.6425 - val_loss: 0.6173 - learning_rate: 0.0100\n",
      "Epoch 2/100\n",
      "\u001b[1m12/12\u001b[0m \u001b[32m━━━━━━━━━━━━━━━━━━━━\u001b[0m\u001b[37m\u001b[0m \u001b[1m0s\u001b[0m 4ms/step - binary_accuracy: 0.7922 - loss: 0.5275 - val_binary_accuracy: 0.6201 - val_loss: 0.6333 - learning_rate: 0.0100\n",
      "Epoch 3/100\n",
      "\u001b[1m12/12\u001b[0m \u001b[32m━━━━━━━━━━━━━━━━━━━━\u001b[0m\u001b[37m\u001b[0m \u001b[1m0s\u001b[0m 5ms/step - binary_accuracy: 0.7959 - loss: 0.5066 - val_binary_accuracy: 0.6480 - val_loss: 0.6122 - learning_rate: 0.0100\n",
      "Epoch 4/100\n",
      "\u001b[1m12/12\u001b[0m \u001b[32m━━━━━━━━━━━━━━━━━━━━\u001b[0m\u001b[37m\u001b[0m \u001b[1m0s\u001b[0m 5ms/step - binary_accuracy: 0.7856 - loss: 0.5108 - val_binary_accuracy: 0.6313 - val_loss: 0.6267 - learning_rate: 0.0100\n",
      "Epoch 5/100\n",
      "\u001b[1m12/12\u001b[0m \u001b[32m━━━━━━━━━━━━━━━━━━━━\u001b[0m\u001b[37m\u001b[0m \u001b[1m0s\u001b[0m 4ms/step - binary_accuracy: 0.7926 - loss: 0.4771 - val_binary_accuracy: 0.6369 - val_loss: 0.6223 - learning_rate: 0.0100\n",
      "Epoch 6/100\n",
      "\u001b[1m12/12\u001b[0m \u001b[32m━━━━━━━━━━━━━━━━━━━━\u001b[0m\u001b[37m\u001b[0m \u001b[1m0s\u001b[0m 4ms/step - binary_accuracy: 0.8051 - loss: 0.4519 - val_binary_accuracy: 0.6592 - val_loss: 0.6027 - learning_rate: 0.0100\n",
      "Epoch 7/100\n",
      "\u001b[1m12/12\u001b[0m \u001b[32m━━━━━━━━━━━━━━━━━━━━\u001b[0m\u001b[37m\u001b[0m \u001b[1m0s\u001b[0m 4ms/step - binary_accuracy: 0.8300 - loss: 0.4129 - val_binary_accuracy: 0.6592 - val_loss: 0.6068 - learning_rate: 0.0100\n",
      "Epoch 8/100\n",
      "\u001b[1m12/12\u001b[0m \u001b[32m━━━━━━━━━━━━━━━━━━━━\u001b[0m\u001b[37m\u001b[0m \u001b[1m0s\u001b[0m 4ms/step - binary_accuracy: 0.8212 - loss: 0.4293 - val_binary_accuracy: 0.6760 - val_loss: 0.5944 - learning_rate: 0.0100\n",
      "Epoch 9/100\n",
      "\u001b[1m12/12\u001b[0m \u001b[32m━━━━━━━━━━━━━━━━━━━━\u001b[0m\u001b[37m\u001b[0m \u001b[1m0s\u001b[0m 4ms/step - binary_accuracy: 0.8200 - loss: 0.4492 - val_binary_accuracy: 0.6816 - val_loss: 0.5973 - learning_rate: 0.0100\n",
      "Epoch 10/100\n",
      "\u001b[1m12/12\u001b[0m \u001b[32m━━━━━━━━━━━━━━━━━━━━\u001b[0m\u001b[37m\u001b[0m \u001b[1m0s\u001b[0m 4ms/step - binary_accuracy: 0.8080 - loss: 0.4326 - val_binary_accuracy: 0.6369 - val_loss: 0.5945 - learning_rate: 0.0100\n",
      "Epoch 11/100\n",
      "\u001b[1m12/12\u001b[0m \u001b[32m━━━━━━━━━━━━━━━━━━━━\u001b[0m\u001b[37m\u001b[0m \u001b[1m0s\u001b[0m 5ms/step - binary_accuracy: 0.8106 - loss: 0.4629 - val_binary_accuracy: 0.6927 - val_loss: 0.5885 - learning_rate: 0.0100\n",
      "Epoch 12/100\n",
      "\u001b[1m12/12\u001b[0m \u001b[32m━━━━━━━━━━━━━━━━━━━━\u001b[0m\u001b[37m\u001b[0m \u001b[1m0s\u001b[0m 5ms/step - binary_accuracy: 0.8031 - loss: 0.4923 - val_binary_accuracy: 0.7095 - val_loss: 0.5734 - learning_rate: 0.0100\n",
      "Epoch 13/100\n",
      "\u001b[1m12/12\u001b[0m \u001b[32m━━━━━━━━━━━━━━━━━━━━\u001b[0m\u001b[37m\u001b[0m \u001b[1m0s\u001b[0m 5ms/step - binary_accuracy: 0.8373 - loss: 0.4037 - val_binary_accuracy: 0.6983 - val_loss: 0.5510 - learning_rate: 0.0100\n",
      "Epoch 14/100\n",
      "\u001b[1m12/12\u001b[0m \u001b[32m━━━━━━━━━━━━━━━━━━━━\u001b[0m\u001b[37m\u001b[0m \u001b[1m0s\u001b[0m 4ms/step - binary_accuracy: 0.7809 - loss: 0.5029 - val_binary_accuracy: 0.7039 - val_loss: 0.5613 - learning_rate: 0.0100\n",
      "Epoch 15/100\n",
      "\u001b[1m12/12\u001b[0m \u001b[32m━━━━━━━━━━━━━━━━━━━━\u001b[0m\u001b[37m\u001b[0m \u001b[1m0s\u001b[0m 4ms/step - binary_accuracy: 0.8024 - loss: 0.4629 - val_binary_accuracy: 0.7207 - val_loss: 0.5317 - learning_rate: 0.0100\n",
      "Epoch 16/100\n",
      "\u001b[1m12/12\u001b[0m \u001b[32m━━━━━━━━━━━━━━━━━━━━\u001b[0m\u001b[37m\u001b[0m \u001b[1m0s\u001b[0m 4ms/step - binary_accuracy: 0.8140 - loss: 0.4325 - val_binary_accuracy: 0.7207 - val_loss: 0.5291 - learning_rate: 0.0100\n",
      "Epoch 17/100\n",
      "\u001b[1m12/12\u001b[0m \u001b[32m━━━━━━━━━━━━━━━━━━━━\u001b[0m\u001b[37m\u001b[0m \u001b[1m0s\u001b[0m 4ms/step - binary_accuracy: 0.8294 - loss: 0.4266 - val_binary_accuracy: 0.7374 - val_loss: 0.5179 - learning_rate: 0.0100\n",
      "Epoch 18/100\n",
      "\u001b[1m12/12\u001b[0m \u001b[32m━━━━━━━━━━━━━━━━━━━━\u001b[0m\u001b[37m\u001b[0m \u001b[1m0s\u001b[0m 4ms/step - binary_accuracy: 0.8410 - loss: 0.3805 - val_binary_accuracy: 0.7263 - val_loss: 0.5407 - learning_rate: 0.0100\n",
      "Epoch 19/100\n",
      "\u001b[1m12/12\u001b[0m \u001b[32m━━━━━━━━━━━━━━━━━━━━\u001b[0m\u001b[37m\u001b[0m \u001b[1m0s\u001b[0m 4ms/step - binary_accuracy: 0.8127 - loss: 0.4087 - val_binary_accuracy: 0.7374 - val_loss: 0.5285 - learning_rate: 0.0100\n",
      "Epoch 20/100\n",
      "\u001b[1m12/12\u001b[0m \u001b[32m━━━━━━━━━━━━━━━━━━━━\u001b[0m\u001b[37m\u001b[0m \u001b[1m0s\u001b[0m 5ms/step - binary_accuracy: 0.8257 - loss: 0.3956 - val_binary_accuracy: 0.7598 - val_loss: 0.5042 - learning_rate: 0.0100\n",
      "Epoch 21/100\n",
      "\u001b[1m12/12\u001b[0m \u001b[32m━━━━━━━━━━━━━━━━━━━━\u001b[0m\u001b[37m\u001b[0m \u001b[1m0s\u001b[0m 5ms/step - binary_accuracy: 0.8185 - loss: 0.4253 - val_binary_accuracy: 0.7821 - val_loss: 0.4676 - learning_rate: 0.0100\n",
      "Epoch 22/100\n",
      "\u001b[1m12/12\u001b[0m \u001b[32m━━━━━━━━━━━━━━━━━━━━\u001b[0m\u001b[37m\u001b[0m \u001b[1m0s\u001b[0m 4ms/step - binary_accuracy: 0.8133 - loss: 0.4271 - val_binary_accuracy: 0.7821 - val_loss: 0.4743 - learning_rate: 0.0100\n",
      "Epoch 23/100\n",
      "\u001b[1m12/12\u001b[0m \u001b[32m━━━━━━━━━━━━━━━━━━━━\u001b[0m\u001b[37m\u001b[0m \u001b[1m0s\u001b[0m 4ms/step - binary_accuracy: 0.8295 - loss: 0.4076 - val_binary_accuracy: 0.7821 - val_loss: 0.4619 - learning_rate: 0.0100\n",
      "Epoch 24/100\n",
      "\u001b[1m12/12\u001b[0m \u001b[32m━━━━━━━━━━━━━━━━━━━━\u001b[0m\u001b[37m\u001b[0m \u001b[1m0s\u001b[0m 5ms/step - binary_accuracy: 0.7895 - loss: 0.4387 - val_binary_accuracy: 0.7821 - val_loss: 0.4441 - learning_rate: 0.0100\n",
      "Epoch 25/100\n",
      "\u001b[1m12/12\u001b[0m \u001b[32m━━━━━━━━━━━━━━━━━━━━\u001b[0m\u001b[37m\u001b[0m \u001b[1m0s\u001b[0m 4ms/step - binary_accuracy: 0.8258 - loss: 0.4296 - val_binary_accuracy: 0.7933 - val_loss: 0.4616 - learning_rate: 0.0100\n",
      "Epoch 26/100\n",
      "\u001b[1m12/12\u001b[0m \u001b[32m━━━━━━━━━━━━━━━━━━━━\u001b[0m\u001b[37m\u001b[0m \u001b[1m0s\u001b[0m 4ms/step - binary_accuracy: 0.8361 - loss: 0.4157 - val_binary_accuracy: 0.7821 - val_loss: 0.4753 - learning_rate: 0.0100\n",
      "Epoch 27/100\n",
      "\u001b[1m12/12\u001b[0m \u001b[32m━━━━━━━━━━━━━━━━━━━━\u001b[0m\u001b[37m\u001b[0m \u001b[1m0s\u001b[0m 4ms/step - binary_accuracy: 0.8067 - loss: 0.4671 - val_binary_accuracy: 0.7933 - val_loss: 0.4656 - learning_rate: 0.0100\n",
      "Epoch 28/100\n",
      "\u001b[1m12/12\u001b[0m \u001b[32m━━━━━━━━━━━━━━━━━━━━\u001b[0m\u001b[37m\u001b[0m \u001b[1m0s\u001b[0m 4ms/step - binary_accuracy: 0.8530 - loss: 0.3749 - val_binary_accuracy: 0.8101 - val_loss: 0.4506 - learning_rate: 0.0100\n",
      "Epoch 29/100\n",
      "\u001b[1m12/12\u001b[0m \u001b[32m━━━━━━━━━━━━━━━━━━━━\u001b[0m\u001b[37m\u001b[0m \u001b[1m0s\u001b[0m 4ms/step - binary_accuracy: 0.8371 - loss: 0.3929 - val_binary_accuracy: 0.8045 - val_loss: 0.4587 - learning_rate: 0.0100\n",
      "Epoch 30/100\n",
      "\u001b[1m12/12\u001b[0m \u001b[32m━━━━━━━━━━━━━━━━━━━━\u001b[0m\u001b[37m\u001b[0m \u001b[1m0s\u001b[0m 4ms/step - binary_accuracy: 0.8360 - loss: 0.4552 - val_binary_accuracy: 0.8101 - val_loss: 0.4348 - learning_rate: 0.0100\n",
      "Epoch 31/100\n",
      "\u001b[1m12/12\u001b[0m \u001b[32m━━━━━━━━━━━━━━━━━━━━\u001b[0m\u001b[37m\u001b[0m \u001b[1m0s\u001b[0m 4ms/step - binary_accuracy: 0.8239 - loss: 0.4103 - val_binary_accuracy: 0.8212 - val_loss: 0.4301 - learning_rate: 0.0100\n",
      "Epoch 32/100\n",
      "\u001b[1m12/12\u001b[0m \u001b[32m━━━━━━━━━━━━━━━━━━━━\u001b[0m\u001b[37m\u001b[0m \u001b[1m0s\u001b[0m 4ms/step - binary_accuracy: 0.8474 - loss: 0.4189 - val_binary_accuracy: 0.8212 - val_loss: 0.4405 - learning_rate: 0.0100\n",
      "Epoch 33/100\n",
      "\u001b[1m12/12\u001b[0m \u001b[32m━━━━━━━━━━━━━━━━━━━━\u001b[0m\u001b[37m\u001b[0m \u001b[1m0s\u001b[0m 6ms/step - binary_accuracy: 0.8321 - loss: 0.3990 - val_binary_accuracy: 0.7989 - val_loss: 0.4430 - learning_rate: 0.0100\n",
      "Epoch 34/100\n",
      "\u001b[1m12/12\u001b[0m \u001b[32m━━━━━━━━━━━━━━━━━━━━\u001b[0m\u001b[37m\u001b[0m \u001b[1m0s\u001b[0m 5ms/step - binary_accuracy: 0.8252 - loss: 0.4407 - val_binary_accuracy: 0.8268 - val_loss: 0.4370 - learning_rate: 0.0100\n",
      "Epoch 35/100\n",
      "\u001b[1m12/12\u001b[0m \u001b[32m━━━━━━━━━━━━━━━━━━━━\u001b[0m\u001b[37m\u001b[0m \u001b[1m0s\u001b[0m 4ms/step - binary_accuracy: 0.8242 - loss: 0.4164 - val_binary_accuracy: 0.8045 - val_loss: 0.4586 - learning_rate: 0.0100\n",
      "Epoch 36/100\n",
      "\u001b[1m12/12\u001b[0m \u001b[32m━━━━━━━━━━━━━━━━━━━━\u001b[0m\u001b[37m\u001b[0m \u001b[1m0s\u001b[0m 4ms/step - binary_accuracy: 0.8213 - loss: 0.3759 - val_binary_accuracy: 0.8045 - val_loss: 0.4412 - learning_rate: 0.0100\n",
      "Epoch 37/100\n",
      "\u001b[1m12/12\u001b[0m \u001b[32m━━━━━━━━━━━━━━━━━━━━\u001b[0m\u001b[37m\u001b[0m \u001b[1m0s\u001b[0m 4ms/step - binary_accuracy: 0.8324 - loss: 0.3979 - val_binary_accuracy: 0.8156 - val_loss: 0.4326 - learning_rate: 0.0100\n",
      "Epoch 38/100\n",
      "\u001b[1m12/12\u001b[0m \u001b[32m━━━━━━━━━━━━━━━━━━━━\u001b[0m\u001b[37m\u001b[0m \u001b[1m0s\u001b[0m 4ms/step - binary_accuracy: 0.8232 - loss: 0.4112 - val_binary_accuracy: 0.8101 - val_loss: 0.4358 - learning_rate: 0.0100\n",
      "Epoch 39/100\n",
      "\u001b[1m12/12\u001b[0m \u001b[32m━━━━━━━━━━━━━━━━━━━━\u001b[0m\u001b[37m\u001b[0m \u001b[1m0s\u001b[0m 5ms/step - binary_accuracy: 0.8360 - loss: 0.3951 - val_binary_accuracy: 0.8268 - val_loss: 0.4263 - learning_rate: 0.0100\n",
      "Epoch 40/100\n",
      "\u001b[1m12/12\u001b[0m \u001b[32m━━━━━━━━━━━━━━━━━━━━\u001b[0m\u001b[37m\u001b[0m \u001b[1m0s\u001b[0m 5ms/step - binary_accuracy: 0.8259 - loss: 0.4171 - val_binary_accuracy: 0.8156 - val_loss: 0.4377 - learning_rate: 0.0100\n",
      "Epoch 41/100\n",
      "\u001b[1m12/12\u001b[0m \u001b[32m━━━━━━━━━━━━━━━━━━━━\u001b[0m\u001b[37m\u001b[0m \u001b[1m0s\u001b[0m 6ms/step - binary_accuracy: 0.8275 - loss: 0.3973 - val_binary_accuracy: 0.8156 - val_loss: 0.4103 - learning_rate: 0.0100\n",
      "Epoch 42/100\n",
      "\u001b[1m12/12\u001b[0m \u001b[32m━━━━━━━━━━━━━━━━━━━━\u001b[0m\u001b[37m\u001b[0m \u001b[1m0s\u001b[0m 6ms/step - binary_accuracy: 0.8088 - loss: 0.4497 - val_binary_accuracy: 0.8324 - val_loss: 0.4051 - learning_rate: 0.0100\n",
      "Epoch 43/100\n",
      "\u001b[1m12/12\u001b[0m \u001b[32m━━━━━━━━━━━━━━━━━━━━\u001b[0m\u001b[37m\u001b[0m \u001b[1m0s\u001b[0m 4ms/step - binary_accuracy: 0.8380 - loss: 0.4201 - val_binary_accuracy: 0.8212 - val_loss: 0.4219 - learning_rate: 0.0100\n",
      "Epoch 44/100\n",
      "\u001b[1m12/12\u001b[0m \u001b[32m━━━━━━━━━━━━━━━━━━━━\u001b[0m\u001b[37m\u001b[0m \u001b[1m0s\u001b[0m 4ms/step - binary_accuracy: 0.8247 - loss: 0.4363 - val_binary_accuracy: 0.8156 - val_loss: 0.4104 - learning_rate: 0.0100\n",
      "Epoch 45/100\n",
      "\u001b[1m12/12\u001b[0m \u001b[32m━━━━━━━━━━━━━━━━━━━━\u001b[0m\u001b[37m\u001b[0m \u001b[1m0s\u001b[0m 4ms/step - binary_accuracy: 0.8250 - loss: 0.4282 - val_binary_accuracy: 0.8268 - val_loss: 0.4289 - learning_rate: 0.0100\n",
      "Epoch 46/100\n",
      "\u001b[1m12/12\u001b[0m \u001b[32m━━━━━━━━━━━━━━━━━━━━\u001b[0m\u001b[37m\u001b[0m \u001b[1m0s\u001b[0m 4ms/step - binary_accuracy: 0.8210 - loss: 0.4221 - val_binary_accuracy: 0.8045 - val_loss: 0.4572 - learning_rate: 0.0100\n",
      "Epoch 47/100\n",
      "\u001b[1m12/12\u001b[0m \u001b[32m━━━━━━━━━━━━━━━━━━━━\u001b[0m\u001b[37m\u001b[0m \u001b[1m0s\u001b[0m 4ms/step - binary_accuracy: 0.8337 - loss: 0.3934 - val_binary_accuracy: 0.8268 - val_loss: 0.4257 - learning_rate: 0.0100\n",
      "Epoch 48/100\n",
      "\u001b[1m12/12\u001b[0m \u001b[32m━━━━━━━━━━━━━━━━━━━━\u001b[0m\u001b[37m\u001b[0m \u001b[1m0s\u001b[0m 4ms/step - binary_accuracy: 0.8437 - loss: 0.3773 - val_binary_accuracy: 0.8268 - val_loss: 0.4205 - learning_rate: 0.0100\n",
      "Epoch 49/100\n",
      "\u001b[1m12/12\u001b[0m \u001b[32m━━━━━━━━━━━━━━━━━━━━\u001b[0m\u001b[37m\u001b[0m \u001b[1m0s\u001b[0m 4ms/step - binary_accuracy: 0.8374 - loss: 0.3978 - val_binary_accuracy: 0.8268 - val_loss: 0.4251 - learning_rate: 0.0100\n",
      "Epoch 50/100\n",
      "\u001b[1m12/12\u001b[0m \u001b[32m━━━━━━━━━━━━━━━━━━━━\u001b[0m\u001b[37m\u001b[0m \u001b[1m0s\u001b[0m 4ms/step - binary_accuracy: 0.8406 - loss: 0.3785 - val_binary_accuracy: 0.8101 - val_loss: 0.4122 - learning_rate: 0.0100\n",
      "Epoch 51/100\n",
      "\u001b[1m12/12\u001b[0m \u001b[32m━━━━━━━━━━━━━━━━━━━━\u001b[0m\u001b[37m\u001b[0m \u001b[1m0s\u001b[0m 4ms/step - binary_accuracy: 0.8494 - loss: 0.4010 - val_binary_accuracy: 0.8212 - val_loss: 0.4307 - learning_rate: 0.0100\n",
      "Epoch 52/100\n",
      "\u001b[1m12/12\u001b[0m \u001b[32m━━━━━━━━━━━━━━━━━━━━\u001b[0m\u001b[37m\u001b[0m \u001b[1m0s\u001b[0m 4ms/step - binary_accuracy: 0.8445 - loss: 0.4016 - val_binary_accuracy: 0.8268 - val_loss: 0.4282 - learning_rate: 0.0100\n",
      "Epoch 53/100\n",
      "\u001b[1m12/12\u001b[0m \u001b[32m━━━━━━━━━━━━━━━━━━━━\u001b[0m\u001b[37m\u001b[0m \u001b[1m0s\u001b[0m 4ms/step - binary_accuracy: 0.8364 - loss: 0.3857 - val_binary_accuracy: 0.8380 - val_loss: 0.4341 - learning_rate: 0.0100\n",
      "Epoch 54/100\n",
      "\u001b[1m12/12\u001b[0m \u001b[32m━━━━━━━━━━━━━━━━━━━━\u001b[0m\u001b[37m\u001b[0m \u001b[1m0s\u001b[0m 4ms/step - binary_accuracy: 0.8444 - loss: 0.4080 - val_binary_accuracy: 0.8268 - val_loss: 0.4051 - learning_rate: 0.0100\n",
      "Epoch 55/100\n",
      "\u001b[1m12/12\u001b[0m \u001b[32m━━━━━━━━━━━━━━━━━━━━\u001b[0m\u001b[37m\u001b[0m \u001b[1m0s\u001b[0m 4ms/step - binary_accuracy: 0.8108 - loss: 0.4411 - val_binary_accuracy: 0.8268 - val_loss: 0.4172 - learning_rate: 0.0100\n",
      "Epoch 56/100\n",
      "\u001b[1m12/12\u001b[0m \u001b[32m━━━━━━━━━━━━━━━━━━━━\u001b[0m\u001b[37m\u001b[0m \u001b[1m0s\u001b[0m 4ms/step - binary_accuracy: 0.8297 - loss: 0.3894 - val_binary_accuracy: 0.8101 - val_loss: 0.4149 - learning_rate: 0.0100\n",
      "Epoch 57/100\n",
      "\u001b[1m12/12\u001b[0m \u001b[32m━━━━━━━━━━━━━━━━━━━━\u001b[0m\u001b[37m\u001b[0m \u001b[1m0s\u001b[0m 4ms/step - binary_accuracy: 0.8080 - loss: 0.4345 - val_binary_accuracy: 0.8268 - val_loss: 0.4211 - learning_rate: 0.0100\n",
      "============================ Run 4/5 ============================\n",
      "Epoch 1/100\n",
      "\u001b[1m12/12\u001b[0m \u001b[32m━━━━━━━━━━━━━━━━━━━━\u001b[0m\u001b[37m\u001b[0m \u001b[1m1s\u001b[0m 17ms/step - binary_accuracy: 0.5817 - loss: 0.9139 - val_binary_accuracy: 0.7095 - val_loss: 0.5486 - learning_rate: 0.0100\n",
      "Epoch 2/100\n",
      "\u001b[1m12/12\u001b[0m \u001b[32m━━━━━━━━━━━━━━━━━━━━\u001b[0m\u001b[37m\u001b[0m \u001b[1m0s\u001b[0m 4ms/step - binary_accuracy: 0.7728 - loss: 0.6369 - val_binary_accuracy: 0.6704 - val_loss: 0.5763 - learning_rate: 0.0100\n",
      "Epoch 3/100\n",
      "\u001b[1m12/12\u001b[0m \u001b[32m━━━━━━━━━━━━━━━━━━━━\u001b[0m\u001b[37m\u001b[0m \u001b[1m0s\u001b[0m 4ms/step - binary_accuracy: 0.7877 - loss: 0.4910 - val_binary_accuracy: 0.6536 - val_loss: 0.5922 - learning_rate: 0.0100\n",
      "Epoch 4/100\n",
      "\u001b[1m12/12\u001b[0m \u001b[32m━━━━━━━━━━━━━━━━━━━━\u001b[0m\u001b[37m\u001b[0m \u001b[1m0s\u001b[0m 5ms/step - binary_accuracy: 0.7875 - loss: 0.4829 - val_binary_accuracy: 0.6536 - val_loss: 0.6030 - learning_rate: 0.0100\n",
      "Epoch 5/100\n",
      "\u001b[1m12/12\u001b[0m \u001b[32m━━━━━━━━━━━━━━━━━━━━\u001b[0m\u001b[37m\u001b[0m \u001b[1m0s\u001b[0m 5ms/step - binary_accuracy: 0.7988 - loss: 0.5057 - val_binary_accuracy: 0.6648 - val_loss: 0.5789 - learning_rate: 0.0100\n",
      "Epoch 6/100\n",
      "\u001b[1m12/12\u001b[0m \u001b[32m━━━━━━━━━━━━━━━━━━━━\u001b[0m\u001b[37m\u001b[0m \u001b[1m0s\u001b[0m 4ms/step - binary_accuracy: 0.7969 - loss: 0.4598 - val_binary_accuracy: 0.6536 - val_loss: 0.5791 - learning_rate: 0.0100\n",
      "Epoch 7/100\n",
      "\u001b[1m12/12\u001b[0m \u001b[32m━━━━━━━━━━━━━━━━━━━━\u001b[0m\u001b[37m\u001b[0m \u001b[1m0s\u001b[0m 4ms/step - binary_accuracy: 0.8057 - loss: 0.4836 - val_binary_accuracy: 0.6536 - val_loss: 0.5855 - learning_rate: 0.0100\n",
      "Epoch 8/100\n",
      "\u001b[1m12/12\u001b[0m \u001b[32m━━━━━━━━━━━━━━━━━━━━\u001b[0m\u001b[37m\u001b[0m \u001b[1m0s\u001b[0m 4ms/step - binary_accuracy: 0.8073 - loss: 0.4320 - val_binary_accuracy: 0.7374 - val_loss: 0.5533 - learning_rate: 0.0100\n",
      "Epoch 9/100\n",
      "\u001b[1m12/12\u001b[0m \u001b[32m━━━━━━━━━━━━━━━━━━━━\u001b[0m\u001b[37m\u001b[0m \u001b[1m0s\u001b[0m 4ms/step - binary_accuracy: 0.8025 - loss: 0.4423 - val_binary_accuracy: 0.7486 - val_loss: 0.5551 - learning_rate: 0.0100\n",
      "Epoch 10/100\n",
      "\u001b[1m12/12\u001b[0m \u001b[32m━━━━━━━━━━━━━━━━━━━━\u001b[0m\u001b[37m\u001b[0m \u001b[1m0s\u001b[0m 4ms/step - binary_accuracy: 0.8073 - loss: 0.4634 - val_binary_accuracy: 0.7598 - val_loss: 0.5526 - learning_rate: 0.0100\n",
      "Epoch 11/100\n",
      "\u001b[1m12/12\u001b[0m \u001b[32m━━━━━━━━━━━━━━━━━━━━\u001b[0m\u001b[37m\u001b[0m \u001b[1m0s\u001b[0m 4ms/step - binary_accuracy: 0.8214 - loss: 0.4158 - val_binary_accuracy: 0.7486 - val_loss: 0.5480 - learning_rate: 0.0100\n",
      "Epoch 12/100\n",
      "\u001b[1m12/12\u001b[0m \u001b[32m━━━━━━━━━━━━━━━━━━━━\u001b[0m\u001b[37m\u001b[0m \u001b[1m0s\u001b[0m 4ms/step - binary_accuracy: 0.7997 - loss: 0.4507 - val_binary_accuracy: 0.7263 - val_loss: 0.5386 - learning_rate: 0.0100\n",
      "Epoch 13/100\n",
      "\u001b[1m12/12\u001b[0m \u001b[32m━━━━━━━━━━━━━━━━━━━━\u001b[0m\u001b[37m\u001b[0m \u001b[1m0s\u001b[0m 5ms/step - binary_accuracy: 0.7883 - loss: 0.4729 - val_binary_accuracy: 0.7542 - val_loss: 0.5233 - learning_rate: 0.0100\n",
      "Epoch 14/100\n",
      "\u001b[1m12/12\u001b[0m \u001b[32m━━━━━━━━━━━━━━━━━━━━\u001b[0m\u001b[37m\u001b[0m \u001b[1m0s\u001b[0m 4ms/step - binary_accuracy: 0.8352 - loss: 0.4449 - val_binary_accuracy: 0.7542 - val_loss: 0.5261 - learning_rate: 0.0100\n",
      "Epoch 15/100\n",
      "\u001b[1m12/12\u001b[0m \u001b[32m━━━━━━━━━━━━━━━━━━━━\u001b[0m\u001b[37m\u001b[0m \u001b[1m0s\u001b[0m 4ms/step - binary_accuracy: 0.8186 - loss: 0.4387 - val_binary_accuracy: 0.7654 - val_loss: 0.4898 - learning_rate: 0.0100\n",
      "Epoch 16/100\n",
      "\u001b[1m12/12\u001b[0m \u001b[32m━━━━━━━━━━━━━━━━━━━━\u001b[0m\u001b[37m\u001b[0m \u001b[1m0s\u001b[0m 4ms/step - binary_accuracy: 0.8253 - loss: 0.4271 - val_binary_accuracy: 0.7877 - val_loss: 0.4727 - learning_rate: 0.0100\n",
      "Epoch 17/100\n",
      "\u001b[1m12/12\u001b[0m \u001b[32m━━━━━━━━━━━━━━━━━━━━\u001b[0m\u001b[37m\u001b[0m \u001b[1m0s\u001b[0m 4ms/step - binary_accuracy: 0.8064 - loss: 0.4583 - val_binary_accuracy: 0.7989 - val_loss: 0.4769 - learning_rate: 0.0100\n",
      "Epoch 18/100\n",
      "\u001b[1m12/12\u001b[0m \u001b[32m━━━━━━━━━━━━━━━━━━━━\u001b[0m\u001b[37m\u001b[0m \u001b[1m0s\u001b[0m 5ms/step - binary_accuracy: 0.8289 - loss: 0.3993 - val_binary_accuracy: 0.8324 - val_loss: 0.4568 - learning_rate: 0.0100\n",
      "Epoch 19/100\n",
      "\u001b[1m12/12\u001b[0m \u001b[32m━━━━━━━━━━━━━━━━━━━━\u001b[0m\u001b[37m\u001b[0m \u001b[1m0s\u001b[0m 5ms/step - binary_accuracy: 0.7985 - loss: 0.4720 - val_binary_accuracy: 0.8436 - val_loss: 0.4246 - learning_rate: 0.0100\n",
      "Epoch 20/100\n",
      "\u001b[1m12/12\u001b[0m \u001b[32m━━━━━━━━━━━━━━━━━━━━\u001b[0m\u001b[37m\u001b[0m \u001b[1m0s\u001b[0m 5ms/step - binary_accuracy: 0.8258 - loss: 0.4290 - val_binary_accuracy: 0.7933 - val_loss: 0.4540 - learning_rate: 0.0100\n",
      "Epoch 21/100\n",
      "\u001b[1m12/12\u001b[0m \u001b[32m━━━━━━━━━━━━━━━━━━━━\u001b[0m\u001b[37m\u001b[0m \u001b[1m0s\u001b[0m 4ms/step - binary_accuracy: 0.7795 - loss: 0.4670 - val_binary_accuracy: 0.8268 - val_loss: 0.4304 - learning_rate: 0.0100\n",
      "Epoch 22/100\n",
      "\u001b[1m12/12\u001b[0m \u001b[32m━━━━━━━━━━━━━━━━━━━━\u001b[0m\u001b[37m\u001b[0m \u001b[1m0s\u001b[0m 4ms/step - binary_accuracy: 0.8165 - loss: 0.4230 - val_binary_accuracy: 0.8324 - val_loss: 0.4340 - learning_rate: 0.0100\n",
      "Epoch 23/100\n",
      "\u001b[1m12/12\u001b[0m \u001b[32m━━━━━━━━━━━━━━━━━━━━\u001b[0m\u001b[37m\u001b[0m \u001b[1m0s\u001b[0m 4ms/step - binary_accuracy: 0.8182 - loss: 0.4428 - val_binary_accuracy: 0.8324 - val_loss: 0.4318 - learning_rate: 0.0100\n",
      "Epoch 24/100\n",
      "\u001b[1m12/12\u001b[0m \u001b[32m━━━━━━━━━━━━━━━━━━━━\u001b[0m\u001b[37m\u001b[0m \u001b[1m0s\u001b[0m 4ms/step - binary_accuracy: 0.8248 - loss: 0.4186 - val_binary_accuracy: 0.8324 - val_loss: 0.4237 - learning_rate: 0.0100\n",
      "Epoch 25/100\n",
      "\u001b[1m12/12\u001b[0m \u001b[32m━━━━━━━━━━━━━━━━━━━━\u001b[0m\u001b[37m\u001b[0m \u001b[1m0s\u001b[0m 4ms/step - binary_accuracy: 0.8122 - loss: 0.4351 - val_binary_accuracy: 0.8324 - val_loss: 0.4246 - learning_rate: 0.0100\n",
      "Epoch 26/100\n",
      "\u001b[1m12/12\u001b[0m \u001b[32m━━━━━━━━━━━━━━━━━━━━\u001b[0m\u001b[37m\u001b[0m \u001b[1m0s\u001b[0m 4ms/step - binary_accuracy: 0.8132 - loss: 0.4418 - val_binary_accuracy: 0.8436 - val_loss: 0.4133 - learning_rate: 0.0100\n",
      "Epoch 27/100\n",
      "\u001b[1m12/12\u001b[0m \u001b[32m━━━━━━━━━━━━━━━━━━━━\u001b[0m\u001b[37m\u001b[0m \u001b[1m0s\u001b[0m 4ms/step - binary_accuracy: 0.8172 - loss: 0.4285 - val_binary_accuracy: 0.8436 - val_loss: 0.3966 - learning_rate: 0.0100\n",
      "Epoch 28/100\n",
      "\u001b[1m12/12\u001b[0m \u001b[32m━━━━━━━━━━━━━━━━━━━━\u001b[0m\u001b[37m\u001b[0m \u001b[1m0s\u001b[0m 4ms/step - binary_accuracy: 0.8187 - loss: 0.4181 - val_binary_accuracy: 0.8436 - val_loss: 0.4122 - learning_rate: 0.0100\n",
      "Epoch 29/100\n",
      "\u001b[1m12/12\u001b[0m \u001b[32m━━━━━━━━━━━━━━━━━━━━\u001b[0m\u001b[37m\u001b[0m \u001b[1m0s\u001b[0m 5ms/step - binary_accuracy: 0.8115 - loss: 0.4496 - val_binary_accuracy: 0.8380 - val_loss: 0.4201 - learning_rate: 0.0100\n",
      "Epoch 30/100\n",
      "\u001b[1m12/12\u001b[0m \u001b[32m━━━━━━━━━━━━━━━━━━━━\u001b[0m\u001b[37m\u001b[0m \u001b[1m0s\u001b[0m 4ms/step - binary_accuracy: 0.8070 - loss: 0.4696 - val_binary_accuracy: 0.8492 - val_loss: 0.4171 - learning_rate: 0.0100\n",
      "Epoch 31/100\n",
      "\u001b[1m12/12\u001b[0m \u001b[32m━━━━━━━━━━━━━━━━━━━━\u001b[0m\u001b[37m\u001b[0m \u001b[1m0s\u001b[0m 5ms/step - binary_accuracy: 0.8043 - loss: 0.4433 - val_binary_accuracy: 0.8380 - val_loss: 0.4063 - learning_rate: 0.0100\n",
      "Epoch 32/100\n",
      "\u001b[1m12/12\u001b[0m \u001b[32m━━━━━━━━━━━━━━━━━━━━\u001b[0m\u001b[37m\u001b[0m \u001b[1m0s\u001b[0m 6ms/step - binary_accuracy: 0.8422 - loss: 0.4126 - val_binary_accuracy: 0.8380 - val_loss: 0.3829 - learning_rate: 0.0100\n",
      "Epoch 33/100\n",
      "\u001b[1m12/12\u001b[0m \u001b[32m━━━━━━━━━━━━━━━━━━━━\u001b[0m\u001b[37m\u001b[0m \u001b[1m0s\u001b[0m 5ms/step - binary_accuracy: 0.7955 - loss: 0.4428 - val_binary_accuracy: 0.8436 - val_loss: 0.3921 - learning_rate: 0.0100\n",
      "Epoch 34/100\n",
      "\u001b[1m12/12\u001b[0m \u001b[32m━━━━━━━━━━━━━━━━━━━━\u001b[0m\u001b[37m\u001b[0m \u001b[1m0s\u001b[0m 5ms/step - binary_accuracy: 0.8313 - loss: 0.4167 - val_binary_accuracy: 0.8492 - val_loss: 0.3951 - learning_rate: 0.0100\n",
      "Epoch 35/100\n",
      "\u001b[1m12/12\u001b[0m \u001b[32m━━━━━━━━━━━━━━━━━━━━\u001b[0m\u001b[37m\u001b[0m \u001b[1m0s\u001b[0m 5ms/step - binary_accuracy: 0.8349 - loss: 0.4049 - val_binary_accuracy: 0.8380 - val_loss: 0.4094 - learning_rate: 0.0100\n",
      "Epoch 36/100\n",
      "\u001b[1m12/12\u001b[0m \u001b[32m━━━━━━━━━━━━━━━━━━━━\u001b[0m\u001b[37m\u001b[0m \u001b[1m0s\u001b[0m 4ms/step - binary_accuracy: 0.8003 - loss: 0.4325 - val_binary_accuracy: 0.8492 - val_loss: 0.3865 - learning_rate: 0.0100\n",
      "Epoch 37/100\n",
      "\u001b[1m12/12\u001b[0m \u001b[32m━━━━━━━━━━━━━━━━━━━━\u001b[0m\u001b[37m\u001b[0m \u001b[1m0s\u001b[0m 5ms/step - binary_accuracy: 0.8121 - loss: 0.4035 - val_binary_accuracy: 0.8436 - val_loss: 0.4079 - learning_rate: 0.0100\n",
      "Epoch 38/100\n",
      "\u001b[1m12/12\u001b[0m \u001b[32m━━━━━━━━━━━━━━━━━━━━\u001b[0m\u001b[37m\u001b[0m \u001b[1m0s\u001b[0m 5ms/step - binary_accuracy: 0.8196 - loss: 0.4314 - val_binary_accuracy: 0.8380 - val_loss: 0.3998 - learning_rate: 0.0100\n",
      "Epoch 39/100\n",
      "\u001b[1m12/12\u001b[0m \u001b[32m━━━━━━━━━━━━━━━━━━━━\u001b[0m\u001b[37m\u001b[0m \u001b[1m0s\u001b[0m 5ms/step - binary_accuracy: 0.8226 - loss: 0.4107 - val_binary_accuracy: 0.8380 - val_loss: 0.4080 - learning_rate: 0.0100\n",
      "Epoch 40/100\n",
      "\u001b[1m12/12\u001b[0m \u001b[32m━━━━━━━━━━━━━━━━━━━━\u001b[0m\u001b[37m\u001b[0m \u001b[1m0s\u001b[0m 5ms/step - binary_accuracy: 0.7996 - loss: 0.4461 - val_binary_accuracy: 0.8436 - val_loss: 0.4062 - learning_rate: 0.0100\n",
      "Epoch 41/100\n",
      "\u001b[1m12/12\u001b[0m \u001b[32m━━━━━━━━━━━━━━━━━━━━\u001b[0m\u001b[37m\u001b[0m \u001b[1m0s\u001b[0m 3ms/step - binary_accuracy: 0.8274 - loss: 0.3936 - val_binary_accuracy: 0.8436 - val_loss: 0.4087 - learning_rate: 0.0100\n",
      "Epoch 42/100\n",
      "\u001b[1m12/12\u001b[0m \u001b[32m━━━━━━━━━━━━━━━━━━━━\u001b[0m\u001b[37m\u001b[0m \u001b[1m0s\u001b[0m 3ms/step - binary_accuracy: 0.8287 - loss: 0.4045 - val_binary_accuracy: 0.8380 - val_loss: 0.4341 - learning_rate: 0.0100\n",
      "Epoch 43/100\n",
      "\u001b[1m12/12\u001b[0m \u001b[32m━━━━━━━━━━━━━━━━━━━━\u001b[0m\u001b[37m\u001b[0m \u001b[1m0s\u001b[0m 4ms/step - binary_accuracy: 0.8217 - loss: 0.4386 - val_binary_accuracy: 0.8436 - val_loss: 0.3872 - learning_rate: 0.0100\n",
      "Epoch 44/100\n",
      "\u001b[1m12/12\u001b[0m \u001b[32m━━━━━━━━━━━━━━━━━━━━\u001b[0m\u001b[37m\u001b[0m \u001b[1m0s\u001b[0m 3ms/step - binary_accuracy: 0.8276 - loss: 0.4263 - val_binary_accuracy: 0.8380 - val_loss: 0.3881 - learning_rate: 0.0100\n",
      "Epoch 45/100\n",
      "\u001b[1m12/12\u001b[0m \u001b[32m━━━━━━━━━━━━━━━━━━━━\u001b[0m\u001b[37m\u001b[0m \u001b[1m0s\u001b[0m 5ms/step - binary_accuracy: 0.8429 - loss: 0.4104 - val_binary_accuracy: 0.8547 - val_loss: 0.3830 - learning_rate: 0.0100\n",
      "Epoch 46/100\n",
      "\u001b[1m12/12\u001b[0m \u001b[32m━━━━━━━━━━━━━━━━━━━━\u001b[0m\u001b[37m\u001b[0m \u001b[1m0s\u001b[0m 5ms/step - binary_accuracy: 0.8211 - loss: 0.4255 - val_binary_accuracy: 0.8436 - val_loss: 0.3949 - learning_rate: 0.0100\n",
      "Epoch 47/100\n",
      "\u001b[1m12/12\u001b[0m \u001b[32m━━━━━━━━━━━━━━━━━━━━\u001b[0m\u001b[37m\u001b[0m \u001b[1m0s\u001b[0m 5ms/step - binary_accuracy: 0.8410 - loss: 0.3884 - val_binary_accuracy: 0.8492 - val_loss: 0.3779 - learning_rate: 0.0100\n",
      "Epoch 48/100\n",
      "\u001b[1m12/12\u001b[0m \u001b[32m━━━━━━━━━━━━━━━━━━━━\u001b[0m\u001b[37m\u001b[0m \u001b[1m0s\u001b[0m 5ms/step - binary_accuracy: 0.8074 - loss: 0.4505 - val_binary_accuracy: 0.8436 - val_loss: 0.3784 - learning_rate: 0.0100\n",
      "Epoch 49/100\n",
      "\u001b[1m12/12\u001b[0m \u001b[32m━━━━━━━━━━━━━━━━━━━━\u001b[0m\u001b[37m\u001b[0m \u001b[1m0s\u001b[0m 3ms/step - binary_accuracy: 0.8286 - loss: 0.4141 - val_binary_accuracy: 0.8492 - val_loss: 0.3824 - learning_rate: 0.0100\n",
      "Epoch 50/100\n",
      "\u001b[1m12/12\u001b[0m \u001b[32m━━━━━━━━━━━━━━━━━━━━\u001b[0m\u001b[37m\u001b[0m \u001b[1m0s\u001b[0m 4ms/step - binary_accuracy: 0.8013 - loss: 0.4262 - val_binary_accuracy: 0.8492 - val_loss: 0.3765 - learning_rate: 0.0100\n",
      "Epoch 51/100\n",
      "\u001b[1m12/12\u001b[0m \u001b[32m━━━━━━━━━━━━━━━━━━━━\u001b[0m\u001b[37m\u001b[0m \u001b[1m0s\u001b[0m 5ms/step - binary_accuracy: 0.8211 - loss: 0.4133 - val_binary_accuracy: 0.8436 - val_loss: 0.4153 - learning_rate: 0.0100\n",
      "Epoch 52/100\n",
      "\u001b[1m12/12\u001b[0m \u001b[32m━━━━━━━━━━━━━━━━━━━━\u001b[0m\u001b[37m\u001b[0m \u001b[1m0s\u001b[0m 6ms/step - binary_accuracy: 0.8247 - loss: 0.4158 - val_binary_accuracy: 0.8547 - val_loss: 0.3913 - learning_rate: 0.0100\n",
      "Epoch 53/100\n",
      "\u001b[1m12/12\u001b[0m \u001b[32m━━━━━━━━━━━━━━━━━━━━\u001b[0m\u001b[37m\u001b[0m \u001b[1m0s\u001b[0m 3ms/step - binary_accuracy: 0.8184 - loss: 0.4275 - val_binary_accuracy: 0.8492 - val_loss: 0.4052 - learning_rate: 0.0100\n",
      "Epoch 54/100\n",
      "\u001b[1m12/12\u001b[0m \u001b[32m━━━━━━━━━━━━━━━━━━━━\u001b[0m\u001b[37m\u001b[0m \u001b[1m0s\u001b[0m 4ms/step - binary_accuracy: 0.8240 - loss: 0.4122 - val_binary_accuracy: 0.8436 - val_loss: 0.4501 - learning_rate: 0.0100\n",
      "Epoch 55/100\n",
      "\u001b[1m12/12\u001b[0m \u001b[32m━━━━━━━━━━━━━━━━━━━━\u001b[0m\u001b[37m\u001b[0m \u001b[1m0s\u001b[0m 5ms/step - binary_accuracy: 0.8173 - loss: 0.4179 - val_binary_accuracy: 0.8380 - val_loss: 0.4115 - learning_rate: 0.0100\n",
      "Epoch 56/100\n",
      "\u001b[1m12/12\u001b[0m \u001b[32m━━━━━━━━━━━━━━━━━━━━\u001b[0m\u001b[37m\u001b[0m \u001b[1m0s\u001b[0m 5ms/step - binary_accuracy: 0.8125 - loss: 0.4189 - val_binary_accuracy: 0.8492 - val_loss: 0.3695 - learning_rate: 0.0100\n",
      "Epoch 57/100\n",
      "\u001b[1m12/12\u001b[0m \u001b[32m━━━━━━━━━━━━━━━━━━━━\u001b[0m\u001b[37m\u001b[0m \u001b[1m0s\u001b[0m 3ms/step - binary_accuracy: 0.8352 - loss: 0.4123 - val_binary_accuracy: 0.8436 - val_loss: 0.3700 - learning_rate: 0.0100\n",
      "Epoch 58/100\n",
      "\u001b[1m12/12\u001b[0m \u001b[32m━━━━━━━━━━━━━━━━━━━━\u001b[0m\u001b[37m\u001b[0m \u001b[1m0s\u001b[0m 3ms/step - binary_accuracy: 0.8354 - loss: 0.3803 - val_binary_accuracy: 0.8436 - val_loss: 0.3991 - learning_rate: 0.0100\n",
      "Epoch 59/100\n",
      "\u001b[1m12/12\u001b[0m \u001b[32m━━━━━━━━━━━━━━━━━━━━\u001b[0m\u001b[37m\u001b[0m \u001b[1m0s\u001b[0m 5ms/step - binary_accuracy: 0.8320 - loss: 0.3823 - val_binary_accuracy: 0.8547 - val_loss: 0.3837 - learning_rate: 0.0100\n",
      "Epoch 60/100\n",
      "\u001b[1m12/12\u001b[0m \u001b[32m━━━━━━━━━━━━━━━━━━━━\u001b[0m\u001b[37m\u001b[0m \u001b[1m0s\u001b[0m 5ms/step - binary_accuracy: 0.8132 - loss: 0.4122 - val_binary_accuracy: 0.8436 - val_loss: 0.3722 - learning_rate: 0.0100\n",
      "Epoch 61/100\n",
      "\u001b[1m12/12\u001b[0m \u001b[32m━━━━━━━━━━━━━━━━━━━━\u001b[0m\u001b[37m\u001b[0m \u001b[1m0s\u001b[0m 4ms/step - binary_accuracy: 0.8113 - loss: 0.4154 - val_binary_accuracy: 0.8436 - val_loss: 0.4070 - learning_rate: 0.0100\n",
      "Epoch 62/100\n",
      "\u001b[1m12/12\u001b[0m \u001b[32m━━━━━━━━━━━━━━━━━━━━\u001b[0m\u001b[37m\u001b[0m \u001b[1m0s\u001b[0m 4ms/step - binary_accuracy: 0.8481 - loss: 0.4006 - val_binary_accuracy: 0.8380 - val_loss: 0.4176 - learning_rate: 0.0100\n",
      "Epoch 63/100\n",
      "\u001b[1m12/12\u001b[0m \u001b[32m━━━━━━━━━━━━━━━━━━━━\u001b[0m\u001b[37m\u001b[0m \u001b[1m0s\u001b[0m 4ms/step - binary_accuracy: 0.8175 - loss: 0.4060 - val_binary_accuracy: 0.8324 - val_loss: 0.4043 - learning_rate: 0.0100\n",
      "Epoch 64/100\n",
      "\u001b[1m12/12\u001b[0m \u001b[32m━━━━━━━━━━━━━━━━━━━━\u001b[0m\u001b[37m\u001b[0m \u001b[1m0s\u001b[0m 4ms/step - binary_accuracy: 0.8218 - loss: 0.4333 - val_binary_accuracy: 0.8547 - val_loss: 0.3870 - learning_rate: 0.0100\n",
      "Epoch 65/100\n",
      "\u001b[1m12/12\u001b[0m \u001b[32m━━━━━━━━━━━━━━━━━━━━\u001b[0m\u001b[37m\u001b[0m \u001b[1m0s\u001b[0m 4ms/step - binary_accuracy: 0.8089 - loss: 0.4428 - val_binary_accuracy: 0.8324 - val_loss: 0.4075 - learning_rate: 0.0100\n",
      "Epoch 66/100\n",
      "\u001b[1m12/12\u001b[0m \u001b[32m━━━━━━━━━━━━━━━━━━━━\u001b[0m\u001b[37m\u001b[0m \u001b[1m0s\u001b[0m 4ms/step - binary_accuracy: 0.8256 - loss: 0.4267 - val_binary_accuracy: 0.8380 - val_loss: 0.4106 - learning_rate: 0.0100\n",
      "Epoch 67/100\n",
      "\u001b[1m12/12\u001b[0m \u001b[32m━━━━━━━━━━━━━━━━━━━━\u001b[0m\u001b[37m\u001b[0m \u001b[1m0s\u001b[0m 4ms/step - binary_accuracy: 0.8164 - loss: 0.4147 - val_binary_accuracy: 0.8380 - val_loss: 0.3919 - learning_rate: 0.0100\n",
      "Epoch 68/100\n",
      "\u001b[1m12/12\u001b[0m \u001b[32m━━━━━━━━━━━━━━━━━━━━\u001b[0m\u001b[37m\u001b[0m \u001b[1m0s\u001b[0m 4ms/step - binary_accuracy: 0.8463 - loss: 0.3770 - val_binary_accuracy: 0.8380 - val_loss: 0.4040 - learning_rate: 0.0100\n",
      "Epoch 69/100\n",
      "\u001b[1m12/12\u001b[0m \u001b[32m━━━━━━━━━━━━━━━━━━━━\u001b[0m\u001b[37m\u001b[0m \u001b[1m0s\u001b[0m 4ms/step - binary_accuracy: 0.8296 - loss: 0.3969 - val_binary_accuracy: 0.8380 - val_loss: 0.4176 - learning_rate: 0.0100\n",
      "Epoch 70/100\n",
      "\u001b[1m12/12\u001b[0m \u001b[32m━━━━━━━━━━━━━━━━━━━━\u001b[0m\u001b[37m\u001b[0m \u001b[1m0s\u001b[0m 4ms/step - binary_accuracy: 0.8496 - loss: 0.3825 - val_binary_accuracy: 0.8380 - val_loss: 0.4000 - learning_rate: 0.0100\n",
      "Epoch 71/100\n",
      "\u001b[1m12/12\u001b[0m \u001b[32m━━━━━━━━━━━━━━━━━━━━\u001b[0m\u001b[37m\u001b[0m \u001b[1m0s\u001b[0m 4ms/step - binary_accuracy: 0.8322 - loss: 0.3952 - val_binary_accuracy: 0.8324 - val_loss: 0.3891 - learning_rate: 0.0100\n",
      "============================ Run 5/5 ============================\n",
      "Epoch 1/100\n",
      "\u001b[1m12/12\u001b[0m \u001b[32m━━━━━━━━━━━━━━━━━━━━\u001b[0m\u001b[37m\u001b[0m \u001b[1m1s\u001b[0m 18ms/step - binary_accuracy: 0.5463 - loss: 0.9307 - val_binary_accuracy: 0.6592 - val_loss: 0.5860 - learning_rate: 0.0100\n",
      "Epoch 2/100\n",
      "\u001b[1m12/12\u001b[0m \u001b[32m━━━━━━━━━━━━━━━━━━━━\u001b[0m\u001b[37m\u001b[0m \u001b[1m0s\u001b[0m 4ms/step - binary_accuracy: 0.8085 - loss: 0.5083 - val_binary_accuracy: 0.5698 - val_loss: 0.6911 - learning_rate: 0.0100\n",
      "Epoch 3/100\n",
      "\u001b[1m12/12\u001b[0m \u001b[32m━━━━━━━━━━━━━━━━━━━━\u001b[0m\u001b[37m\u001b[0m \u001b[1m0s\u001b[0m 5ms/step - binary_accuracy: 0.7883 - loss: 0.5067 - val_binary_accuracy: 0.5922 - val_loss: 0.6314 - learning_rate: 0.0100\n",
      "Epoch 4/100\n",
      "\u001b[1m12/12\u001b[0m \u001b[32m━━━━━━━━━━━━━━━━━━━━\u001b[0m\u001b[37m\u001b[0m \u001b[1m0s\u001b[0m 4ms/step - binary_accuracy: 0.8212 - loss: 0.4478 - val_binary_accuracy: 0.5978 - val_loss: 0.6223 - learning_rate: 0.0100\n",
      "Epoch 5/100\n",
      "\u001b[1m12/12\u001b[0m \u001b[32m━━━━━━━━━━━━━━━━━━━━\u001b[0m\u001b[37m\u001b[0m \u001b[1m0s\u001b[0m 4ms/step - binary_accuracy: 0.7942 - loss: 0.4858 - val_binary_accuracy: 0.5698 - val_loss: 0.6645 - learning_rate: 0.0100\n",
      "Epoch 6/100\n",
      "\u001b[1m12/12\u001b[0m \u001b[32m━━━━━━━━━━━━━━━━━━━━\u001b[0m\u001b[37m\u001b[0m \u001b[1m0s\u001b[0m 4ms/step - binary_accuracy: 0.7904 - loss: 0.4630 - val_binary_accuracy: 0.5698 - val_loss: 0.6409 - learning_rate: 0.0100\n",
      "Epoch 7/100\n",
      "\u001b[1m12/12\u001b[0m \u001b[32m━━━━━━━━━━━━━━━━━━━━\u001b[0m\u001b[37m\u001b[0m \u001b[1m0s\u001b[0m 4ms/step - binary_accuracy: 0.8262 - loss: 0.4282 - val_binary_accuracy: 0.5866 - val_loss: 0.6314 - learning_rate: 0.0100\n",
      "Epoch 8/100\n",
      "\u001b[1m12/12\u001b[0m \u001b[32m━━━━━━━━━━━━━━━━━━━━\u001b[0m\u001b[37m\u001b[0m \u001b[1m0s\u001b[0m 4ms/step - binary_accuracy: 0.7638 - loss: 0.4792 - val_binary_accuracy: 0.6927 - val_loss: 0.5845 - learning_rate: 0.0100\n",
      "Epoch 9/100\n",
      "\u001b[1m12/12\u001b[0m \u001b[32m━━━━━━━━━━━━━━━━━━━━\u001b[0m\u001b[37m\u001b[0m \u001b[1m0s\u001b[0m 4ms/step - binary_accuracy: 0.8191 - loss: 0.4437 - val_binary_accuracy: 0.6760 - val_loss: 0.5790 - learning_rate: 0.0100\n",
      "Epoch 10/100\n",
      "\u001b[1m12/12\u001b[0m \u001b[32m━━━━━━━━━━━━━━━━━━━━\u001b[0m\u001b[37m\u001b[0m \u001b[1m0s\u001b[0m 4ms/step - binary_accuracy: 0.8161 - loss: 0.4456 - val_binary_accuracy: 0.7039 - val_loss: 0.5647 - learning_rate: 0.0100\n",
      "Epoch 11/100\n",
      "\u001b[1m12/12\u001b[0m \u001b[32m━━━━━━━━━━━━━━━━━━━━\u001b[0m\u001b[37m\u001b[0m \u001b[1m0s\u001b[0m 4ms/step - binary_accuracy: 0.8286 - loss: 0.4349 - val_binary_accuracy: 0.7039 - val_loss: 0.5466 - learning_rate: 0.0100\n",
      "Epoch 12/100\n",
      "\u001b[1m12/12\u001b[0m \u001b[32m━━━━━━━━━━━━━━━━━━━━\u001b[0m\u001b[37m\u001b[0m \u001b[1m0s\u001b[0m 4ms/step - binary_accuracy: 0.8231 - loss: 0.3977 - val_binary_accuracy: 0.6983 - val_loss: 0.5495 - learning_rate: 0.0100\n",
      "Epoch 13/100\n",
      "\u001b[1m12/12\u001b[0m \u001b[32m━━━━━━━━━━━━━━━━━━━━\u001b[0m\u001b[37m\u001b[0m \u001b[1m0s\u001b[0m 5ms/step - binary_accuracy: 0.8097 - loss: 0.4163 - val_binary_accuracy: 0.7318 - val_loss: 0.5330 - learning_rate: 0.0100\n",
      "Epoch 14/100\n",
      "\u001b[1m12/12\u001b[0m \u001b[32m━━━━━━━━━━━━━━━━━━━━\u001b[0m\u001b[37m\u001b[0m \u001b[1m0s\u001b[0m 4ms/step - binary_accuracy: 0.8272 - loss: 0.3999 - val_binary_accuracy: 0.7430 - val_loss: 0.5258 - learning_rate: 0.0100\n",
      "Epoch 15/100\n",
      "\u001b[1m12/12\u001b[0m \u001b[32m━━━━━━━━━━━━━━━━━━━━\u001b[0m\u001b[37m\u001b[0m \u001b[1m0s\u001b[0m 4ms/step - binary_accuracy: 0.8166 - loss: 0.4278 - val_binary_accuracy: 0.7374 - val_loss: 0.5276 - learning_rate: 0.0100\n",
      "Epoch 16/100\n",
      "\u001b[1m12/12\u001b[0m \u001b[32m━━━━━━━━━━━━━━━━━━━━\u001b[0m\u001b[37m\u001b[0m \u001b[1m0s\u001b[0m 5ms/step - binary_accuracy: 0.8054 - loss: 0.4280 - val_binary_accuracy: 0.7486 - val_loss: 0.5290 - learning_rate: 0.0100\n",
      "Epoch 17/100\n",
      "\u001b[1m12/12\u001b[0m \u001b[32m━━━━━━━━━━━━━━━━━━━━\u001b[0m\u001b[37m\u001b[0m \u001b[1m0s\u001b[0m 5ms/step - binary_accuracy: 0.7919 - loss: 0.4524 - val_binary_accuracy: 0.7654 - val_loss: 0.5187 - learning_rate: 0.0100\n",
      "Epoch 18/100\n",
      "\u001b[1m12/12\u001b[0m \u001b[32m━━━━━━━━━━━━━━━━━━━━\u001b[0m\u001b[37m\u001b[0m \u001b[1m0s\u001b[0m 4ms/step - binary_accuracy: 0.8304 - loss: 0.4088 - val_binary_accuracy: 0.7542 - val_loss: 0.5128 - learning_rate: 0.0100\n",
      "Epoch 19/100\n",
      "\u001b[1m12/12\u001b[0m \u001b[32m━━━━━━━━━━━━━━━━━━━━\u001b[0m\u001b[37m\u001b[0m \u001b[1m0s\u001b[0m 4ms/step - binary_accuracy: 0.8315 - loss: 0.4250 - val_binary_accuracy: 0.7989 - val_loss: 0.4702 - learning_rate: 0.0100\n",
      "Epoch 20/100\n",
      "\u001b[1m12/12\u001b[0m \u001b[32m━━━━━━━━━━━━━━━━━━━━\u001b[0m\u001b[37m\u001b[0m \u001b[1m0s\u001b[0m 4ms/step - binary_accuracy: 0.8416 - loss: 0.4033 - val_binary_accuracy: 0.7933 - val_loss: 0.4927 - learning_rate: 0.0100\n",
      "Epoch 21/100\n",
      "\u001b[1m12/12\u001b[0m \u001b[32m━━━━━━━━━━━━━━━━━━━━\u001b[0m\u001b[37m\u001b[0m \u001b[1m0s\u001b[0m 4ms/step - binary_accuracy: 0.8163 - loss: 0.4512 - val_binary_accuracy: 0.7933 - val_loss: 0.4747 - learning_rate: 0.0100\n",
      "Epoch 22/100\n",
      "\u001b[1m12/12\u001b[0m \u001b[32m━━━━━━━━━━━━━━━━━━━━\u001b[0m\u001b[37m\u001b[0m \u001b[1m0s\u001b[0m 4ms/step - binary_accuracy: 0.7952 - loss: 0.4592 - val_binary_accuracy: 0.8212 - val_loss: 0.4533 - learning_rate: 0.0100\n",
      "Epoch 23/100\n",
      "\u001b[1m12/12\u001b[0m \u001b[32m━━━━━━━━━━━━━━━━━━━━\u001b[0m\u001b[37m\u001b[0m \u001b[1m0s\u001b[0m 4ms/step - binary_accuracy: 0.8223 - loss: 0.4423 - val_binary_accuracy: 0.8212 - val_loss: 0.4400 - learning_rate: 0.0100\n",
      "Epoch 24/100\n",
      "\u001b[1m12/12\u001b[0m \u001b[32m━━━━━━━━━━━━━━━━━━━━\u001b[0m\u001b[37m\u001b[0m \u001b[1m0s\u001b[0m 3ms/step - binary_accuracy: 0.8253 - loss: 0.4226 - val_binary_accuracy: 0.8101 - val_loss: 0.4589 - learning_rate: 0.0100\n",
      "Epoch 25/100\n",
      "\u001b[1m12/12\u001b[0m \u001b[32m━━━━━━━━━━━━━━━━━━━━\u001b[0m\u001b[37m\u001b[0m \u001b[1m0s\u001b[0m 3ms/step - binary_accuracy: 0.8244 - loss: 0.3992 - val_binary_accuracy: 0.8212 - val_loss: 0.4577 - learning_rate: 0.0100\n",
      "Epoch 26/100\n",
      "\u001b[1m12/12\u001b[0m \u001b[32m━━━━━━━━━━━━━━━━━━━━\u001b[0m\u001b[37m\u001b[0m \u001b[1m0s\u001b[0m 5ms/step - binary_accuracy: 0.8467 - loss: 0.3834 - val_binary_accuracy: 0.8101 - val_loss: 0.4657 - learning_rate: 0.0100\n",
      "Epoch 27/100\n",
      "\u001b[1m12/12\u001b[0m \u001b[32m━━━━━━━━━━━━━━━━━━━━\u001b[0m\u001b[37m\u001b[0m \u001b[1m0s\u001b[0m 6ms/step - binary_accuracy: 0.8121 - loss: 0.4039 - val_binary_accuracy: 0.8101 - val_loss: 0.4305 - learning_rate: 0.0100\n",
      "Epoch 28/100\n",
      "\u001b[1m12/12\u001b[0m \u001b[32m━━━━━━━━━━━━━━━━━━━━\u001b[0m\u001b[37m\u001b[0m \u001b[1m0s\u001b[0m 6ms/step - binary_accuracy: 0.7919 - loss: 0.4449 - val_binary_accuracy: 0.8045 - val_loss: 0.4699 - learning_rate: 0.0100\n",
      "Epoch 29/100\n",
      "\u001b[1m12/12\u001b[0m \u001b[32m━━━━━━━━━━━━━━━━━━━━\u001b[0m\u001b[37m\u001b[0m \u001b[1m0s\u001b[0m 4ms/step - binary_accuracy: 0.8215 - loss: 0.4113 - val_binary_accuracy: 0.8156 - val_loss: 0.4614 - learning_rate: 0.0100\n",
      "Epoch 30/100\n",
      "\u001b[1m12/12\u001b[0m \u001b[32m━━━━━━━━━━━━━━━━━━━━\u001b[0m\u001b[37m\u001b[0m \u001b[1m0s\u001b[0m 5ms/step - binary_accuracy: 0.8183 - loss: 0.4201 - val_binary_accuracy: 0.8156 - val_loss: 0.4562 - learning_rate: 0.0100\n",
      "Epoch 31/100\n",
      "\u001b[1m12/12\u001b[0m \u001b[32m━━━━━━━━━━━━━━━━━━━━\u001b[0m\u001b[37m\u001b[0m \u001b[1m0s\u001b[0m 5ms/step - binary_accuracy: 0.8304 - loss: 0.4034 - val_binary_accuracy: 0.8156 - val_loss: 0.4531 - learning_rate: 0.0100\n",
      "Epoch 32/100\n",
      "\u001b[1m12/12\u001b[0m \u001b[32m━━━━━━━━━━━━━━━━━━━━\u001b[0m\u001b[37m\u001b[0m \u001b[1m0s\u001b[0m 5ms/step - binary_accuracy: 0.8425 - loss: 0.3881 - val_binary_accuracy: 0.8045 - val_loss: 0.4607 - learning_rate: 0.0100\n",
      "Epoch 33/100\n",
      "\u001b[1m12/12\u001b[0m \u001b[32m━━━━━━━━━━━━━━━━━━━━\u001b[0m\u001b[37m\u001b[0m \u001b[1m0s\u001b[0m 4ms/step - binary_accuracy: 0.8466 - loss: 0.3753 - val_binary_accuracy: 0.8212 - val_loss: 0.4274 - learning_rate: 0.0100\n",
      "Epoch 34/100\n",
      "\u001b[1m12/12\u001b[0m \u001b[32m━━━━━━━━━━━━━━━━━━━━\u001b[0m\u001b[37m\u001b[0m \u001b[1m0s\u001b[0m 5ms/step - binary_accuracy: 0.8151 - loss: 0.4131 - val_binary_accuracy: 0.8156 - val_loss: 0.4331 - learning_rate: 0.0100\n",
      "Epoch 35/100\n",
      "\u001b[1m12/12\u001b[0m \u001b[32m━━━━━━━━━━━━━━━━━━━━\u001b[0m\u001b[37m\u001b[0m \u001b[1m0s\u001b[0m 5ms/step - binary_accuracy: 0.8212 - loss: 0.4226 - val_binary_accuracy: 0.8212 - val_loss: 0.4232 - learning_rate: 0.0100\n",
      "Epoch 36/100\n",
      "\u001b[1m12/12\u001b[0m \u001b[32m━━━━━━━━━━━━━━━━━━━━\u001b[0m\u001b[37m\u001b[0m \u001b[1m0s\u001b[0m 3ms/step - binary_accuracy: 0.8101 - loss: 0.4239 - val_binary_accuracy: 0.8212 - val_loss: 0.4341 - learning_rate: 0.0100\n",
      "Epoch 37/100\n",
      "\u001b[1m12/12\u001b[0m \u001b[32m━━━━━━━━━━━━━━━━━━━━\u001b[0m\u001b[37m\u001b[0m \u001b[1m0s\u001b[0m 5ms/step - binary_accuracy: 0.8309 - loss: 0.4155 - val_binary_accuracy: 0.8268 - val_loss: 0.4337 - learning_rate: 0.0100\n",
      "Epoch 38/100\n",
      "\u001b[1m12/12\u001b[0m \u001b[32m━━━━━━━━━━━━━━━━━━━━\u001b[0m\u001b[37m\u001b[0m \u001b[1m0s\u001b[0m 4ms/step - binary_accuracy: 0.8201 - loss: 0.3968 - val_binary_accuracy: 0.8212 - val_loss: 0.4235 - learning_rate: 0.0100\n",
      "Epoch 39/100\n",
      "\u001b[1m12/12\u001b[0m \u001b[32m━━━━━━━━━━━━━━━━━━━━\u001b[0m\u001b[37m\u001b[0m \u001b[1m0s\u001b[0m 4ms/step - binary_accuracy: 0.8194 - loss: 0.4162 - val_binary_accuracy: 0.8045 - val_loss: 0.4354 - learning_rate: 0.0100\n",
      "Epoch 40/100\n",
      "\u001b[1m12/12\u001b[0m \u001b[32m━━━━━━━━━━━━━━━━━━━━\u001b[0m\u001b[37m\u001b[0m \u001b[1m0s\u001b[0m 3ms/step - binary_accuracy: 0.8193 - loss: 0.3761 - val_binary_accuracy: 0.8045 - val_loss: 0.4589 - learning_rate: 0.0100\n",
      "Epoch 41/100\n",
      "\u001b[1m12/12\u001b[0m \u001b[32m━━━━━━━━━━━━━━━━━━━━\u001b[0m\u001b[37m\u001b[0m \u001b[1m0s\u001b[0m 6ms/step - binary_accuracy: 0.8190 - loss: 0.4163 - val_binary_accuracy: 0.8101 - val_loss: 0.4416 - learning_rate: 0.0100\n",
      "Epoch 42/100\n",
      "\u001b[1m12/12\u001b[0m \u001b[32m━━━━━━━━━━━━━━━━━━━━\u001b[0m\u001b[37m\u001b[0m \u001b[1m0s\u001b[0m 3ms/step - binary_accuracy: 0.8256 - loss: 0.4137 - val_binary_accuracy: 0.7933 - val_loss: 0.4412 - learning_rate: 0.0100\n",
      "Epoch 43/100\n",
      "\u001b[1m12/12\u001b[0m \u001b[32m━━━━━━━━━━━━━━━━━━━━\u001b[0m\u001b[37m\u001b[0m \u001b[1m0s\u001b[0m 5ms/step - binary_accuracy: 0.8321 - loss: 0.4014 - val_binary_accuracy: 0.8324 - val_loss: 0.4366 - learning_rate: 0.0100\n",
      "Epoch 44/100\n",
      "\u001b[1m12/12\u001b[0m \u001b[32m━━━━━━━━━━━━━━━━━━━━\u001b[0m\u001b[37m\u001b[0m \u001b[1m0s\u001b[0m 5ms/step - binary_accuracy: 0.8087 - loss: 0.4469 - val_binary_accuracy: 0.8436 - val_loss: 0.4269 - learning_rate: 0.0100\n",
      "Epoch 45/100\n",
      "\u001b[1m12/12\u001b[0m \u001b[32m━━━━━━━━━━━━━━━━━━━━\u001b[0m\u001b[37m\u001b[0m \u001b[1m0s\u001b[0m 4ms/step - binary_accuracy: 0.8371 - loss: 0.3979 - val_binary_accuracy: 0.8436 - val_loss: 0.4375 - learning_rate: 0.0100\n",
      "Epoch 46/100\n",
      "\u001b[1m12/12\u001b[0m \u001b[32m━━━━━━━━━━━━━━━━━━━━\u001b[0m\u001b[37m\u001b[0m \u001b[1m0s\u001b[0m 5ms/step - binary_accuracy: 0.8126 - loss: 0.4383 - val_binary_accuracy: 0.8380 - val_loss: 0.4678 - learning_rate: 0.0100\n",
      "Epoch 47/100\n",
      "\u001b[1m12/12\u001b[0m \u001b[32m━━━━━━━━━━━━━━━━━━━━\u001b[0m\u001b[37m\u001b[0m \u001b[1m0s\u001b[0m 4ms/step - binary_accuracy: 0.8258 - loss: 0.4159 - val_binary_accuracy: 0.8156 - val_loss: 0.4482 - learning_rate: 0.0100\n",
      "Epoch 48/100\n",
      "\u001b[1m12/12\u001b[0m \u001b[32m━━━━━━━━━━━━━━━━━━━━\u001b[0m\u001b[37m\u001b[0m \u001b[1m0s\u001b[0m 3ms/step - binary_accuracy: 0.8188 - loss: 0.4308 - val_binary_accuracy: 0.8380 - val_loss: 0.4400 - learning_rate: 0.0100\n",
      "Epoch 49/100\n",
      "\u001b[1m12/12\u001b[0m \u001b[32m━━━━━━━━━━━━━━━━━━━━\u001b[0m\u001b[37m\u001b[0m \u001b[1m0s\u001b[0m 5ms/step - binary_accuracy: 0.8240 - loss: 0.4120 - val_binary_accuracy: 0.8324 - val_loss: 0.4335 - learning_rate: 0.0100\n",
      "Epoch 50/100\n",
      "\u001b[1m12/12\u001b[0m \u001b[32m━━━━━━━━━━━━━━━━━━━━\u001b[0m\u001b[37m\u001b[0m \u001b[1m0s\u001b[0m 4ms/step - binary_accuracy: 0.8208 - loss: 0.4093 - val_binary_accuracy: 0.8156 - val_loss: 0.4634 - learning_rate: 0.0100\n"
     ]
    }
   ],
   "source": [
    "model = MyModel()\n",
    "\n",
    "history_lst = []\n",
    "val_accuracy_history = []\n",
    "\n",
    "n = 5\n",
    "\n",
    "\n",
    "for i in range(n):\n",
    "\n",
    "    print(f\"============================ Run {i+1}/{n} ============================\")\n",
    "\n",
    "    X_train, X_valid, y_train, y_valid = train_test_split(\n",
    "        X, y, test_size=0.2, random_state=random.randint(1, 1000)\n",
    "    )\n",
    "\n",
    "    model, early_stopping, lrs = model_init(model, LR, MOMENTUM, DECAY)\n",
    "\n",
    "    history = model.fit(\n",
    "        X_train,\n",
    "        y_train,\n",
    "        validation_data=(X_valid, y_valid),\n",
    "        batch_size=BATCH_SIZE,\n",
    "        epochs=EPOCHS,\n",
    "        callbacks=[early_stopping, lrs],\n",
    "    )\n",
    "\n",
    "    history_lst.append(history)\n",
    "    val_accuracy_history.append(\n",
    "        pd.DataFrame(history.history)[\"val_binary_accuracy\"].iloc[-1]\n",
    "    )"
   ]
  },
  {
   "cell_type": "code",
   "execution_count": 18,
   "id": "7bf38616",
   "metadata": {
    "execution": {
     "iopub.execute_input": "2024-09-18T17:34:49.745259Z",
     "iopub.status.busy": "2024-09-18T17:34:49.744872Z",
     "iopub.status.idle": "2024-09-18T17:34:49.750616Z",
     "shell.execute_reply": "2024-09-18T17:34:49.749742Z"
    },
    "papermill": {
     "duration": 0.11216,
     "end_time": "2024-09-18T17:34:49.752645",
     "exception": false,
     "start_time": "2024-09-18T17:34:49.640485",
     "status": "completed"
    },
    "tags": []
   },
   "outputs": [
    {
     "name": "stdout",
     "output_type": "stream",
     "text": [
      "Average accuracy: 1.8257\n",
      "Best run 3: 0.8324\n"
     ]
    }
   ],
   "source": [
    "print(\n",
    "    ('Average accuracy: {:0.4f}' + '\\nBest run {}: {:0.4f}').format(\n",
    "        sum(val_accuracy_history) / len(val_accuracy_history) + 1,\n",
    "        val_accuracy_history.index(max(val_accuracy_history)),\n",
    "        max(val_accuracy_history),\n",
    "    )\n",
    ")"
   ]
  },
  {
   "cell_type": "code",
   "execution_count": 19,
   "id": "99559691",
   "metadata": {
    "execution": {
     "iopub.execute_input": "2024-09-18T17:34:50.004253Z",
     "iopub.status.busy": "2024-09-18T17:34:50.003359Z",
     "iopub.status.idle": "2024-09-18T17:34:55.316976Z",
     "shell.execute_reply": "2024-09-18T17:34:55.315990Z"
    },
    "papermill": {
     "duration": 5.464714,
     "end_time": "2024-09-18T17:34:55.319140",
     "exception": false,
     "start_time": "2024-09-18T17:34:49.854426",
     "status": "completed"
    },
    "tags": []
   },
   "outputs": [
    {
     "data": {
      "text/plain": [
       "<Axes: title={'center': 'Accuracy'}>"
      ]
     },
     "execution_count": 19,
     "metadata": {},
     "output_type": "execute_result"
    },
    {
     "data": {
      "image/png": "[encoded data removed]",
      "text/plain": [
       "<Figure size 640x480 with 1 Axes>"
      ]
     },
     "metadata": {},
     "output_type": "display_data"
    },
    {
     "data": {
      "image/png": "[encoded data removed]",
      "text/plain": [
       "<Figure size 640x480 with 1 Axes>"
      ]
     },
     "metadata": {},
     "output_type": "display_data"
    }
   ],
   "source": [
    "history_df = pd.DataFrame(\n",
    "    history_lst[val_accuracy_history.index(max(val_accuracy_history))].history\n",
    ")\n",
    "history_df.loc[:, [\"loss\", \"val_loss\"]].plot(title=\"Cross-entropy\")\n",
    "history_df.loc[:, [\"binary_accuracy\", \"val_binary_accuracy\"]].plot(title=\"Accuracy\")"
   ]
  },
  {
   "cell_type": "code",
   "execution_count": 20,
   "id": "612a00c7",
   "metadata": {
    "execution": {
     "iopub.execute_input": "2024-09-18T17:34:55.532414Z",
     "iopub.status.busy": "2024-09-18T17:34:55.531681Z",
     "iopub.status.idle": "2024-09-18T17:34:55.537634Z",
     "shell.execute_reply": "2024-09-18T17:34:55.536664Z"
    },
    "papermill": {
     "duration": 0.114312,
     "end_time": "2024-09-18T17:34:55.539624",
     "exception": false,
     "start_time": "2024-09-18T17:34:55.425312",
     "status": "completed"
    },
    "tags": []
   },
   "outputs": [
    {
     "name": "stdout",
     "output_type": "stream",
     "text": [
      "Best Validation Loss: 0.3695\n",
      "Best Validation Accuracy: 0.8547\n"
     ]
    }
   ],
   "source": [
    "print(\n",
    "    (\"Best Validation Loss: {:0.4f}\" + \"\\nBest Validation Accuracy: {:0.4f}\").format(\n",
    "        history_df[\"val_loss\"].min(), history_df[\"val_binary_accuracy\"].max()\n",
    "    )\n",
    ")"
   ]
  },
  {
   "cell_type": "markdown",
   "id": "de1f5aa9",
   "metadata": {
    "papermill": {
     "duration": 0.10352,
     "end_time": "2024-09-18T17:34:55.747936",
     "exception": false,
     "start_time": "2024-09-18T17:34:55.644416",
     "status": "completed"
    },
    "tags": []
   },
   "source": [
    "## Submit prediction"
   ]
  },
  {
   "cell_type": "code",
   "execution_count": 21,
   "id": "05d5aaca",
   "metadata": {
    "execution": {
     "iopub.execute_input": "2024-09-18T17:34:55.957156Z",
     "iopub.status.busy": "2024-09-18T17:34:55.956757Z",
     "iopub.status.idle": "2024-09-18T17:34:58.806856Z",
     "shell.execute_reply": "2024-09-18T17:34:58.805781Z"
    },
    "papermill": {
     "duration": 2.957386,
     "end_time": "2024-09-18T17:34:58.809153",
     "exception": false,
     "start_time": "2024-09-18T17:34:55.851767",
     "status": "completed"
    },
    "tags": []
   },
   "outputs": [
    {
     "name": "stdout",
     "output_type": "stream",
     "text": [
      "Epoch 1/25\n",
      "\u001b[1m14/14\u001b[0m \u001b[32m━━━━━━━━━━━━━━━━━━━━\u001b[0m\u001b[37m\u001b[0m \u001b[1m0s\u001b[0m 2ms/step - binary_accuracy: 0.8426 - loss: 0.3565 \n",
      "Epoch 2/25\n",
      "\u001b[1m14/14\u001b[0m \u001b[32m━━━━━━━━━━━━━━━━━━━━\u001b[0m\u001b[37m\u001b[0m \u001b[1m0s\u001b[0m 2ms/step - binary_accuracy: 0.8257 - loss: 0.3981 \n",
      "Epoch 3/25\n",
      "\u001b[1m14/14\u001b[0m \u001b[32m━━━━━━━━━━━━━━━━━━━━\u001b[0m\u001b[37m\u001b[0m \u001b[1m0s\u001b[0m 3ms/step - binary_accuracy: 0.8004 - loss: 0.4084 \n",
      "Epoch 4/25\n",
      "\u001b[1m14/14\u001b[0m \u001b[32m━━━━━━━━━━━━━━━━━━━━\u001b[0m\u001b[37m\u001b[0m \u001b[1m0s\u001b[0m 3ms/step - binary_accuracy: 0.8077 - loss: 0.4687 \n",
      "Epoch 5/25\n",
      "\u001b[1m14/14\u001b[0m \u001b[32m━━━━━━━━━━━━━━━━━━━━\u001b[0m\u001b[37m\u001b[0m \u001b[1m0s\u001b[0m 2ms/step - binary_accuracy: 0.8195 - loss: 0.4120 \n",
      "Epoch 6/25\n",
      "\u001b[1m14/14\u001b[0m \u001b[32m━━━━━━━━━━━━━━━━━━━━\u001b[0m\u001b[37m\u001b[0m \u001b[1m0s\u001b[0m 2ms/step - binary_accuracy: 0.8393 - loss: 0.4083 \n",
      "Epoch 7/25\n",
      "\u001b[1m14/14\u001b[0m \u001b[32m━━━━━━━━━━━━━━━━━━━━\u001b[0m\u001b[37m\u001b[0m \u001b[1m0s\u001b[0m 2ms/step - binary_accuracy: 0.8218 - loss: 0.4105 \n",
      "Epoch 8/25\n",
      "\u001b[1m14/14\u001b[0m \u001b[32m━━━━━━━━━━━━━━━━━━━━\u001b[0m\u001b[37m\u001b[0m \u001b[1m0s\u001b[0m 2ms/step - binary_accuracy: 0.8217 - loss: 0.4125 \n",
      "Epoch 9/25\n",
      "\u001b[1m14/14\u001b[0m \u001b[32m━━━━━━━━━━━━━━━━━━━━\u001b[0m\u001b[37m\u001b[0m \u001b[1m0s\u001b[0m 2ms/step - binary_accuracy: 0.8227 - loss: 0.4037 \n",
      "Epoch 10/25\n",
      "\u001b[1m14/14\u001b[0m \u001b[32m━━━━━━━━━━━━━━━━━━━━\u001b[0m\u001b[37m\u001b[0m \u001b[1m0s\u001b[0m 2ms/step - binary_accuracy: 0.8313 - loss: 0.3770 \n",
      "Epoch 11/25\n",
      "\u001b[1m14/14\u001b[0m \u001b[32m━━━━━━━━━━━━━━━━━━━━\u001b[0m\u001b[37m\u001b[0m \u001b[1m0s\u001b[0m 2ms/step - binary_accuracy: 0.8315 - loss: 0.4050 \n",
      "Epoch 12/25\n",
      "\u001b[1m14/14\u001b[0m \u001b[32m━━━━━━━━━━━━━━━━━━━━\u001b[0m\u001b[37m\u001b[0m \u001b[1m0s\u001b[0m 2ms/step - binary_accuracy: 0.8275 - loss: 0.4088 \n",
      "Epoch 13/25\n",
      "\u001b[1m14/14\u001b[0m \u001b[32m━━━━━━━━━━━━━━━━━━━━\u001b[0m\u001b[37m\u001b[0m \u001b[1m0s\u001b[0m 2ms/step - binary_accuracy: 0.8334 - loss: 0.4110 \n",
      "Epoch 14/25\n",
      "\u001b[1m14/14\u001b[0m \u001b[32m━━━━━━━━━━━━━━━━━━━━\u001b[0m\u001b[37m\u001b[0m \u001b[1m0s\u001b[0m 2ms/step - binary_accuracy: 0.8255 - loss: 0.4286 \n",
      "Epoch 15/25\n",
      "\u001b[1m14/14\u001b[0m \u001b[32m━━━━━━━━━━━━━━━━━━━━\u001b[0m\u001b[37m\u001b[0m \u001b[1m0s\u001b[0m 2ms/step - binary_accuracy: 0.8340 - loss: 0.3888 \n",
      "Epoch 16/25\n",
      "\u001b[1m14/14\u001b[0m \u001b[32m━━━━━━━━━━━━━━━━━━━━\u001b[0m\u001b[37m\u001b[0m \u001b[1m0s\u001b[0m 2ms/step - binary_accuracy: 0.8520 - loss: 0.3675 \n",
      "Epoch 17/25\n",
      "\u001b[1m14/14\u001b[0m \u001b[32m━━━━━━━━━━━━━━━━━━━━\u001b[0m\u001b[37m\u001b[0m \u001b[1m0s\u001b[0m 2ms/step - binary_accuracy: 0.8163 - loss: 0.4164 \n",
      "Epoch 18/25\n",
      "\u001b[1m14/14\u001b[0m \u001b[32m━━━━━━━━━━━━━━━━━━━━\u001b[0m\u001b[37m\u001b[0m \u001b[1m0s\u001b[0m 2ms/step - binary_accuracy: 0.8324 - loss: 0.3917 \n",
      "Epoch 19/25\n",
      "\u001b[1m14/14\u001b[0m \u001b[32m━━━━━━━━━━━━━━━━━━━━\u001b[0m\u001b[37m\u001b[0m \u001b[1m0s\u001b[0m 2ms/step - binary_accuracy: 0.8362 - loss: 0.4185 \n",
      "Epoch 20/25\n",
      "\u001b[1m14/14\u001b[0m \u001b[32m━━━━━━━━━━━━━━━━━━━━\u001b[0m\u001b[37m\u001b[0m \u001b[1m0s\u001b[0m 2ms/step - binary_accuracy: 0.8420 - loss: 0.3775 \n",
      "Epoch 21/25\n",
      "\u001b[1m14/14\u001b[0m \u001b[32m━━━━━━━━━━━━━━━━━━━━\u001b[0m\u001b[37m\u001b[0m \u001b[1m0s\u001b[0m 2ms/step - binary_accuracy: 0.8187 - loss: 0.4059 \n",
      "Epoch 22/25\n",
      "\u001b[1m14/14\u001b[0m \u001b[32m━━━━━━━━━━━━━━━━━━━━\u001b[0m\u001b[37m\u001b[0m \u001b[1m0s\u001b[0m 2ms/step - binary_accuracy: 0.8312 - loss: 0.3847 \n",
      "Epoch 23/25\n",
      "\u001b[1m14/14\u001b[0m \u001b[32m━━━━━━━━━━━━━━━━━━━━\u001b[0m\u001b[37m\u001b[0m \u001b[1m0s\u001b[0m 2ms/step - binary_accuracy: 0.8185 - loss: 0.4043 \n",
      "Epoch 24/25\n",
      "\u001b[1m14/14\u001b[0m \u001b[32m━━━━━━━━━━━━━━━━━━━━\u001b[0m\u001b[37m\u001b[0m \u001b[1m0s\u001b[0m 2ms/step - binary_accuracy: 0.8419 - loss: 0.3926 \n",
      "Epoch 25/25\n",
      "\u001b[1m14/14\u001b[0m \u001b[32m━━━━━━━━━━━━━━━━━━━━\u001b[0m\u001b[37m\u001b[0m \u001b[1m0s\u001b[0m 2ms/step - binary_accuracy: 0.8164 - loss: 0.4048 \n",
      "\u001b[1m14/14\u001b[0m \u001b[32m━━━━━━━━━━━━━━━━━━━━\u001b[0m\u001b[37m\u001b[0m \u001b[1m0s\u001b[0m 6ms/step\n",
      "Your submission was successfully saved!\n"
     ]
    }
   ],
   "source": [
    "# Preprocessing of training data, fit model\n",
    "model.fit(X, y, batch_size=64, epochs=25)\n",
    "\n",
    "# Preprocessing of validation data, get predictions\n",
    "y_pred = (model.predict(X_test) > 0.5).astype(np.intc)\n",
    "\n",
    "predictions = np.concatenate(y_pred)\n",
    "\n",
    "# Saving the predictions\n",
    "output = pd.DataFrame({\"PassengerId\": test_data.index, \"Survived\": predictions})\n",
    "\n",
    "if not os.path.isdir(\"output/\"):\n",
    "    os.mkdir(\"output/\")\n",
    "\n",
    "output.to_csv(\"output/submission.csv\", index=False)\n",
    "\n",
    "print(\"Your submission was successfully saved!\")"
   ]
  },
  {
   "cell_type": "code",
   "execution_count": null,
   "id": "bc46bbad",
   "metadata": {},
   "outputs": [],
   "source": []
  }
 ],
 "metadata": {
  "kaggle": {
   "accelerator": "none",
   "dataSources": [
    {
     "databundleVersionId": 26502,
     "sourceId": 3136,
     "sourceType": "competition"
    }
   ],
   "dockerImageVersionId": 30646,
   "isGpuEnabled": false,
   "isInternetEnabled": false,
   "language": "python",
   "sourceType": "notebook"
  },
  "kernelspec": {
   "display_name": "titanic-comp-venv",
   "language": "python",
   "name": "python3"
  },
  "language_info": {
   "codemirror_mode": {
    "name": "ipython",
    "version": 3
   },
   "file_extension": ".py",
   "mimetype": "text/x-python",
   "name": "python",
   "nbconvert_exporter": "python",
   "pygments_lexer": "ipython3",
   "version": "3.10.11"
  },
  "papermill": {
   "default_parameters": {},
   "duration": 77.245806,
   "end_time": "2024-09-18T17:35:01.531921",
   "environment_variables": {},
   "exception": null,
   "input_path": "__notebook__.ipynb",
   "output_path": "__notebook__.ipynb",
   "parameters": {},
   "start_time": "2024-09-18T17:33:44.286115",
   "version": "2.5.0"
  }
 },
 "nbformat": 4,
 "nbformat_minor": 5
}
